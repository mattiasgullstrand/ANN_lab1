{
 "cells": [
  {
   "cell_type": "code",
   "execution_count": 99,
   "metadata": {},
   "outputs": [],
   "source": [
    "import numpy as np\n",
    "import matplotlib.pyplot as plt\n",
    "import random\n",
    "\n",
    "class Hopfield_Net():\n",
    "    \"\"\"\n",
    "        - X is the input matrix where each column is a sample\n",
    "        - W is a matrix of the weights.\n",
    "        \n",
    "    \"\"\"\n",
    "    def __init__(self, X):\n",
    "        self.X = X\n",
    "        self.D = X.shape[0] # Number of units\n",
    "        self.N = X.shape[1] # Number of patterns\n",
    "        self.W = self.init_W()\n",
    "        self.max_iter = 10\n",
    "        self.iters = 0\n",
    "        self.pattern_dict = self.init_dict()\n",
    "        self.attractor_dict = self.pattern_dict.copy()\n",
    "    \n",
    "    def init_W(self):\n",
    "        W = np.zeros([self.D, self.D])\n",
    "        for p in range(self.N):\n",
    "            x = self.X[:,p]\n",
    "            for i in range(self.D):\n",
    "                for j in range(self.D):\n",
    "                    W[i,j] += x[i]*x[j]\n",
    "        W = W - np.diag(np.diag(W))\n",
    "        return W\n",
    "    \n",
    "    def init_dict(self): # Dict of patterns as row vectors\n",
    "        pattern_dict = {}\n",
    "        for p in range(self.N):\n",
    "            pattern = self.X[:,p].reshape(1, self.D)\n",
    "            pattern_dict[p] = pattern\n",
    "        return pattern_dict\n",
    "    \n",
    "    def update_rule(self, x): # x is a row vector\n",
    "        for i in range(self.D):\n",
    "            sum = 0\n",
    "            for j in range(self.D):\n",
    "                sum += self.W[i,j]*x[0,j]\n",
    "            x[0,i] = np.sign(sum)\n",
    "        return x\n",
    "    \n",
    "    def update_W(self, x): # x is a row vector\n",
    "        for i in range(self.D):\n",
    "            for j in range(self.D):\n",
    "                self.W[i,j] += x.T[i]*x.T[j]\n",
    "        self.W = self.W - np.diag(np.diag(self.W))\n",
    "        self.N += 1\n",
    "        self.pattern_dict[self.N-1] = x.reshape(1, self.D)\n",
    "        return self.W\n",
    "    \n",
    "    def add_attractor(self, x):\n",
    "        self.attractor_dict[len(self.attractor_dict.keys())] = x.reshape(1, self.D)\n",
    "\n",
    "    def net_out(self, x): # x is a row vector\n",
    "        #self.W = self.update_W(x)\n",
    "        #if np.array_equal(x, y):\n",
    "        #y = np.sign(np.dot(self.W, x.T))\n",
    "        y = self.update_rule(x)\n",
    "        #print(y)\n",
    "        in_pattern_dict = [(y == pattern).all() \n",
    "                      for pattern in self.pattern_dict.values()]\n",
    "        if any(in_pattern_dict):\n",
    "            fixed_point = np.nonzero(in_pattern_dict)[0][0]\n",
    "            print(\"Converged to X-row {} after {} iterations\".format(fixed_point+1, self.iters+1))\n",
    "            return y\n",
    "        elif np.array_equal(x, y):\n",
    "            print(\"Stable. Did not change after last iteration.\")\n",
    "            in_attractor_dict = [(y == attractor).all() \n",
    "                      for attractor in self.attractor_dict.values()]\n",
    "            if not any(in_attractor_dict):\n",
    "                self.add_attractor(y)\n",
    "            return y\n",
    "        elif self.iters <= self.max_iter:\n",
    "            self.iters += 1\n",
    "            return self.update_rule(self.net_out(x))\n",
    "        else:\n",
    "            print(\"Reached maximum number of iterations.\")\n",
    "            self.iters = 0\n",
    "            return y\n",
    "    \n",
    "    #def number_of_atractors:\n",
    "        \n",
    "    \n",
    "    #def train(self):\n",
    "    #    for idx in range(self.N):\n",
    "    #        x = X[:,idx].reshape([self.D, 1])\n",
    "    #        y = net_out(x)\n"
   ]
  },
  {
   "cell_type": "markdown",
   "metadata": {},
   "source": [
    "### 3.1 Convergence and attractors"
   ]
  },
  {
   "cell_type": "code",
   "execution_count": 51,
   "metadata": {},
   "outputs": [],
   "source": [
    "x1 = np.array([[-1, -1, 1, -1, 1, -1, -1, 1]])\n",
    "x2 = np.array([[-1, -1, -1, -1, -1, 1, -1, -1]])\n",
    "x3 = np.array([[-1, 1, 1, -1, -1, 1, -1, 1]])\n",
    "\n",
    "x4 = np.array([[1, 1, 1, -1, -1, 1, -1, 1]])"
   ]
  },
  {
   "cell_type": "code",
   "execution_count": 52,
   "metadata": {},
   "outputs": [],
   "source": [
    "X = np.concatenate((x1.T, x2.T, x3.T), axis = 1)"
   ]
  },
  {
   "cell_type": "code",
   "execution_count": 53,
   "metadata": {},
   "outputs": [],
   "source": [
    "hop_net_1 = Hopfield_Net(x1.T)\n",
    "hop_net_2 = Hopfield_Net(x2.T)\n",
    "hop_net_3 = Hopfield_Net(x3.T)"
   ]
  },
  {
   "cell_type": "code",
   "execution_count": 54,
   "metadata": {},
   "outputs": [
    {
     "data": {
      "text/plain": [
       "array([[ 0.,  1., -1.,  3.,  1., -1.,  3., -1.],\n",
       "       [ 1.,  0.,  1.,  1., -1.,  1.,  1.,  1.],\n",
       "       [-1.,  1.,  0., -1.,  1., -1., -1.,  3.],\n",
       "       [ 3.,  1., -1.,  0.,  1., -1.,  3., -1.],\n",
       "       [ 1., -1.,  1.,  1.,  0., -3.,  1.,  1.],\n",
       "       [-1.,  1., -1., -1., -3.,  0., -1., -1.],\n",
       "       [ 3.,  1., -1.,  3.,  1., -1.,  0., -1.],\n",
       "       [-1.,  1.,  3., -1.,  1., -1., -1.,  0.]])"
      ]
     },
     "execution_count": 54,
     "metadata": {},
     "output_type": "execute_result"
    }
   ],
   "source": [
    "hop_net_1.W + hop_net_2.W + hop_net_3.W"
   ]
  },
  {
   "cell_type": "code",
   "execution_count": 55,
   "metadata": {},
   "outputs": [],
   "source": [
    "hop_net = Hopfield_Net(X)"
   ]
  },
  {
   "cell_type": "code",
   "execution_count": 56,
   "metadata": {},
   "outputs": [
    {
     "data": {
      "text/plain": [
       "array([[ 0.,  1., -1.,  3.,  1., -1.,  3., -1.],\n",
       "       [ 1.,  0.,  1.,  1., -1.,  1.,  1.,  1.],\n",
       "       [-1.,  1.,  0., -1.,  1., -1., -1.,  3.],\n",
       "       [ 3.,  1., -1.,  0.,  1., -1.,  3., -1.],\n",
       "       [ 1., -1.,  1.,  1.,  0., -3.,  1.,  1.],\n",
       "       [-1.,  1., -1., -1., -3.,  0., -1., -1.],\n",
       "       [ 3.,  1., -1.,  3.,  1., -1.,  0., -1.],\n",
       "       [-1.,  1.,  3., -1.,  1., -1., -1.,  0.]])"
      ]
     },
     "execution_count": 56,
     "metadata": {},
     "output_type": "execute_result"
    }
   ],
   "source": [
    "hop_net.W"
   ]
  },
  {
   "cell_type": "code",
   "execution_count": 57,
   "metadata": {},
   "outputs": [
    {
     "name": "stdout",
     "output_type": "stream",
     "text": [
      "Converged to X-row 3 after 1 iterations\n"
     ]
    },
    {
     "data": {
      "text/plain": [
       "array([[-1,  1,  1, -1, -1,  1, -1,  1]])"
      ]
     },
     "execution_count": 57,
     "metadata": {},
     "output_type": "execute_result"
    }
   ],
   "source": [
    "hop_net.net_out(np.copy(x4))"
   ]
  },
  {
   "cell_type": "code",
   "execution_count": 58,
   "metadata": {},
   "outputs": [],
   "source": [
    "x1d = np.array([[1, -1, 1, -1, 1, -1, -1, 1]])\n",
    "x2d = np.array([[1, 1, -1, -1, -1, 1, -1, -1]])\n",
    "x3d = np.array([[1, 1, 1, -1, 1, 1, -1, 1]])"
   ]
  },
  {
   "cell_type": "code",
   "execution_count": 59,
   "metadata": {},
   "outputs": [],
   "source": [
    "x4d = np.array([[1, 1, -1, 1, 1, 1, -1, -1]]) #np.array([[-1, -1, 1, -1, 1, -1, -1, 1]])\n",
    "#x2d = np.array([[1, 1, -1, -1, -1, 1, -1, -1]]) #np.array([[-1, -1, -1, -1, -1, 1, -1, -1]])\n",
    "#x3d = np.array([[1, -1, -1, -1, -1, 1, -1, 1]]) #np.array([[-1, 1, 1, -1, -1, 1, -1, 1]])"
   ]
  },
  {
   "cell_type": "code",
   "execution_count": 60,
   "metadata": {},
   "outputs": [
    {
     "name": "stdout",
     "output_type": "stream",
     "text": [
      "Stable. Did not change after last iteration.\n"
     ]
    },
    {
     "data": {
      "text/plain": [
       "array([[ 1, -1, -1,  1, -1,  1,  1, -1]])"
      ]
     },
     "execution_count": 60,
     "metadata": {},
     "output_type": "execute_result"
    }
   ],
   "source": [
    "hop_net.net_out(np.copy(x4d))"
   ]
  },
  {
   "cell_type": "code",
   "execution_count": 61,
   "metadata": {},
   "outputs": [
    {
     "name": "stdout",
     "output_type": "stream",
     "text": [
      "Converged to X-row 2 after 1 iterations\n",
      "Converged to X-row 1 after 1 iterations\n",
      "Stable. Did not change after last iteration.\n",
      "Converged to X-row 1 after 1 iterations\n",
      "Converged to X-row 2 after 1 iterations\n",
      "Stable. Did not change after last iteration.\n",
      "Converged to X-row 2 after 1 iterations\n",
      "Converged to X-row 3 after 1 iterations\n",
      "Converged to X-row 1 after 1 iterations\n",
      "Converged to X-row 1 after 1 iterations\n",
      "Stable. Did not change after last iteration.\n",
      "Stable. Did not change after last iteration.\n",
      "Converged to X-row 2 after 1 iterations\n",
      "Stable. Did not change after last iteration.\n",
      "Stable. Did not change after last iteration.\n",
      "Stable. Did not change after last iteration.\n",
      "Stable. Did not change after last iteration.\n",
      "Converged to X-row 1 after 1 iterations\n",
      "Stable. Did not change after last iteration.\n",
      "Stable. Did not change after last iteration.\n",
      "Converged to X-row 2 after 1 iterations\n",
      "Converged to X-row 3 after 1 iterations\n",
      "Stable. Did not change after last iteration.\n",
      "Stable. Did not change after last iteration.\n",
      "Stable. Did not change after last iteration.\n",
      "Stable. Did not change after last iteration.\n",
      "Stable. Did not change after last iteration.\n",
      "Stable. Did not change after last iteration.\n",
      "Stable. Did not change after last iteration.\n",
      "Stable. Did not change after last iteration.\n",
      "Stable. Did not change after last iteration.\n",
      "Stable. Did not change after last iteration.\n",
      "Converged to X-row 2 after 1 iterations\n",
      "Converged to X-row 1 after 1 iterations\n",
      "Stable. Did not change after last iteration.\n",
      "Stable. Did not change after last iteration.\n",
      "Converged to X-row 2 after 1 iterations\n",
      "Converged to X-row 3 after 1 iterations\n",
      "Stable. Did not change after last iteration.\n",
      "Converged to X-row 3 after 1 iterations\n",
      "Converged to X-row 1 after 1 iterations\n",
      "Converged to X-row 1 after 1 iterations\n",
      "Stable. Did not change after last iteration.\n",
      "Converged to X-row 1 after 1 iterations\n",
      "Converged to X-row 2 after 1 iterations\n",
      "Stable. Did not change after last iteration.\n",
      "Stable. Did not change after last iteration.\n",
      "Converged to X-row 3 after 1 iterations\n",
      "Converged to X-row 2 after 1 iterations\n",
      "Stable. Did not change after last iteration.\n",
      "Stable. Did not change after last iteration.\n",
      "Stable. Did not change after last iteration.\n",
      "Stable. Did not change after last iteration.\n",
      "Converged to X-row 3 after 1 iterations\n",
      "Stable. Did not change after last iteration.\n",
      "Stable. Did not change after last iteration.\n",
      "Stable. Did not change after last iteration.\n",
      "Converged to X-row 1 after 1 iterations\n",
      "Stable. Did not change after last iteration.\n",
      "Stable. Did not change after last iteration.\n",
      "Converged to X-row 2 after 1 iterations\n",
      "Converged to X-row 3 after 1 iterations\n",
      "Stable. Did not change after last iteration.\n",
      "Stable. Did not change after last iteration.\n",
      "Converged to X-row 2 after 1 iterations\n",
      "Converged to X-row 1 after 1 iterations\n",
      "Stable. Did not change after last iteration.\n",
      "Stable. Did not change after last iteration.\n",
      "Converged to X-row 2 after 1 iterations\n",
      "Stable. Did not change after last iteration.\n",
      "Stable. Did not change after last iteration.\n",
      "Converged to X-row 3 after 1 iterations\n",
      "Converged to X-row 1 after 1 iterations\n",
      "Converged to X-row 1 after 1 iterations\n",
      "Stable. Did not change after last iteration.\n",
      "Stable. Did not change after last iteration.\n",
      "Converged to X-row 2 after 1 iterations\n",
      "Stable. Did not change after last iteration.\n",
      "Stable. Did not change after last iteration.\n",
      "Stable. Did not change after last iteration.\n",
      "Stable. Did not change after last iteration.\n",
      "Stable. Did not change after last iteration.\n",
      "Stable. Did not change after last iteration.\n",
      "Stable. Did not change after last iteration.\n",
      "Stable. Did not change after last iteration.\n",
      "Converged to X-row 3 after 1 iterations\n",
      "Stable. Did not change after last iteration.\n",
      "Stable. Did not change after last iteration.\n",
      "Stable. Did not change after last iteration.\n",
      "Stable. Did not change after last iteration.\n",
      "Stable. Did not change after last iteration.\n",
      "Stable. Did not change after last iteration.\n",
      "Stable. Did not change after last iteration.\n",
      "Stable. Did not change after last iteration.\n",
      "Stable. Did not change after last iteration.\n",
      "Stable. Did not change after last iteration.\n",
      "Converged to X-row 2 after 1 iterations\n",
      "Converged to X-row 1 after 1 iterations\n",
      "Stable. Did not change after last iteration.\n",
      "Stable. Did not change after last iteration.\n",
      "Converged to X-row 2 after 1 iterations\n",
      "Converged to X-row 3 after 1 iterations\n",
      "Stable. Did not change after last iteration.\n",
      "Converged to X-row 3 after 1 iterations\n",
      "Converged to X-row 1 after 1 iterations\n",
      "Converged to X-row 1 after 1 iterations\n",
      "Stable. Did not change after last iteration.\n",
      "Stable. Did not change after last iteration.\n",
      "Converged to X-row 2 after 1 iterations\n",
      "Stable. Did not change after last iteration.\n",
      "Stable. Did not change after last iteration.\n",
      "Converged to X-row 3 after 1 iterations\n",
      "Stable. Did not change after last iteration.\n",
      "Stable. Did not change after last iteration.\n",
      "Stable. Did not change after last iteration.\n",
      "Stable. Did not change after last iteration.\n",
      "Stable. Did not change after last iteration.\n",
      "Converged to X-row 3 after 1 iterations\n",
      "Stable. Did not change after last iteration.\n",
      "Stable. Did not change after last iteration.\n",
      "Stable. Did not change after last iteration.\n",
      "Stable. Did not change after last iteration.\n",
      "Stable. Did not change after last iteration.\n",
      "Stable. Did not change after last iteration.\n",
      "Stable. Did not change after last iteration.\n",
      "Converged to X-row 3 after 1 iterations\n",
      "Stable. Did not change after last iteration.\n",
      "Stable. Did not change after last iteration.\n",
      "Converged to X-row 2 after 1 iterations\n",
      "Converged to X-row 1 after 1 iterations\n",
      "Stable. Did not change after last iteration.\n",
      "Converged to X-row 1 after 1 iterations\n",
      "Converged to X-row 2 after 1 iterations\n",
      "Stable. Did not change after last iteration.\n",
      "Converged to X-row 2 after 1 iterations\n",
      "Converged to X-row 3 after 1 iterations\n",
      "Converged to X-row 1 after 1 iterations\n",
      "Converged to X-row 1 after 1 iterations\n",
      "Stable. Did not change after last iteration.\n",
      "Stable. Did not change after last iteration.\n",
      "Converged to X-row 2 after 1 iterations\n",
      "Stable. Did not change after last iteration.\n",
      "Stable. Did not change after last iteration.\n",
      "Stable. Did not change after last iteration.\n",
      "Stable. Did not change after last iteration.\n",
      "Converged to X-row 1 after 1 iterations\n",
      "Stable. Did not change after last iteration.\n",
      "Stable. Did not change after last iteration.\n",
      "Converged to X-row 2 after 1 iterations\n",
      "Converged to X-row 3 after 1 iterations\n",
      "Stable. Did not change after last iteration.\n",
      "Stable. Did not change after last iteration.\n",
      "Stable. Did not change after last iteration.\n",
      "Stable. Did not change after last iteration.\n",
      "Stable. Did not change after last iteration.\n",
      "Stable. Did not change after last iteration.\n",
      "Stable. Did not change after last iteration.\n",
      "Stable. Did not change after last iteration.\n",
      "Stable. Did not change after last iteration.\n",
      "Stable. Did not change after last iteration.\n",
      "Converged to X-row 2 after 1 iterations\n",
      "Converged to X-row 1 after 1 iterations\n",
      "Stable. Did not change after last iteration.\n",
      "Stable. Did not change after last iteration.\n",
      "Converged to X-row 2 after 1 iterations\n",
      "Converged to X-row 3 after 1 iterations\n",
      "Stable. Did not change after last iteration.\n",
      "Converged to X-row 3 after 1 iterations\n",
      "Converged to X-row 1 after 1 iterations\n",
      "Converged to X-row 1 after 1 iterations\n",
      "Stable. Did not change after last iteration.\n",
      "Converged to X-row 1 after 1 iterations\n",
      "Converged to X-row 2 after 1 iterations\n",
      "Stable. Did not change after last iteration.\n",
      "Stable. Did not change after last iteration.\n",
      "Converged to X-row 3 after 1 iterations\n",
      "Converged to X-row 2 after 1 iterations\n",
      "Stable. Did not change after last iteration.\n",
      "Stable. Did not change after last iteration.\n",
      "Stable. Did not change after last iteration.\n",
      "Stable. Did not change after last iteration.\n",
      "Converged to X-row 3 after 1 iterations\n",
      "Stable. Did not change after last iteration.\n",
      "Stable. Did not change after last iteration.\n",
      "Stable. Did not change after last iteration.\n",
      "Converged to X-row 1 after 1 iterations\n",
      "Stable. Did not change after last iteration.\n",
      "Stable. Did not change after last iteration.\n",
      "Converged to X-row 2 after 1 iterations\n",
      "Converged to X-row 3 after 1 iterations\n",
      "Stable. Did not change after last iteration.\n",
      "Stable. Did not change after last iteration.\n",
      "Converged to X-row 2 after 1 iterations\n",
      "Converged to X-row 1 after 1 iterations\n",
      "Stable. Did not change after last iteration.\n",
      "Stable. Did not change after last iteration.\n",
      "Converged to X-row 2 after 1 iterations\n",
      "Stable. Did not change after last iteration.\n",
      "Stable. Did not change after last iteration.\n",
      "Converged to X-row 3 after 1 iterations\n",
      "Converged to X-row 1 after 1 iterations\n",
      "Converged to X-row 1 after 1 iterations\n",
      "Stable. Did not change after last iteration.\n",
      "Stable. Did not change after last iteration.\n",
      "Converged to X-row 2 after 1 iterations\n",
      "Stable. Did not change after last iteration.\n",
      "Stable. Did not change after last iteration.\n",
      "Stable. Did not change after last iteration.\n",
      "Stable. Did not change after last iteration.\n",
      "Stable. Did not change after last iteration.\n",
      "Stable. Did not change after last iteration.\n",
      "Stable. Did not change after last iteration.\n",
      "Stable. Did not change after last iteration.\n",
      "Converged to X-row 3 after 1 iterations\n",
      "Stable. Did not change after last iteration.\n",
      "Stable. Did not change after last iteration.\n",
      "Stable. Did not change after last iteration.\n",
      "Stable. Did not change after last iteration.\n",
      "Stable. Did not change after last iteration.\n",
      "Stable. Did not change after last iteration.\n",
      "Stable. Did not change after last iteration.\n",
      "Stable. Did not change after last iteration.\n",
      "Stable. Did not change after last iteration.\n",
      "Stable. Did not change after last iteration.\n",
      "Converged to X-row 2 after 1 iterations\n",
      "Converged to X-row 1 after 1 iterations\n",
      "Stable. Did not change after last iteration.\n",
      "Stable. Did not change after last iteration.\n",
      "Converged to X-row 2 after 1 iterations\n",
      "Converged to X-row 3 after 1 iterations\n",
      "Stable. Did not change after last iteration.\n",
      "Converged to X-row 3 after 1 iterations\n",
      "Converged to X-row 1 after 1 iterations\n",
      "Converged to X-row 1 after 1 iterations\n",
      "Stable. Did not change after last iteration.\n",
      "Stable. Did not change after last iteration.\n",
      "Converged to X-row 2 after 1 iterations\n",
      "Stable. Did not change after last iteration.\n",
      "Stable. Did not change after last iteration.\n",
      "Converged to X-row 3 after 1 iterations\n",
      "Stable. Did not change after last iteration.\n",
      "Stable. Did not change after last iteration.\n",
      "Stable. Did not change after last iteration.\n",
      "Stable. Did not change after last iteration.\n",
      "Stable. Did not change after last iteration.\n",
      "Converged to X-row 3 after 1 iterations\n",
      "Stable. Did not change after last iteration.\n",
      "Stable. Did not change after last iteration.\n",
      "Stable. Did not change after last iteration.\n",
      "Stable. Did not change after last iteration.\n",
      "Stable. Did not change after last iteration.\n",
      "Stable. Did not change after last iteration.\n",
      "Stable. Did not change after last iteration.\n",
      "Converged to X-row 3 after 1 iterations\n",
      "Stable. Did not change after last iteration.\n",
      "Stable. Did not change after last iteration.\n"
     ]
    }
   ],
   "source": [
    "for i1 in [-1, 1]:\n",
    "    for i2 in [-1, 1]:\n",
    "        for i3 in [-1, 1]:\n",
    "            for i4 in [-1, 1]:\n",
    "                for i5 in [-1, 1]:\n",
    "                    for i6 in [-1, 1]:\n",
    "                        for i7 in [-1, 1]:\n",
    "                            for i8 in [-1, 1]:\n",
    "                                xRun = np.array([i1,i2,i3,i4,i5,i6,i7,i8]).reshape(1,8)\n",
    "                                hop_net.net_out(np.copy(xRun))\n",
    "                                \n",
    "    \n",
    "    "
   ]
  },
  {
   "cell_type": "code",
   "execution_count": 62,
   "metadata": {},
   "outputs": [
    {
     "data": {
      "text/plain": [
       "{0: array([[-1, -1,  1, -1,  1, -1, -1,  1]]),\n",
       " 1: array([[-1, -1, -1, -1, -1,  1, -1, -1]]),\n",
       " 2: array([[-1,  1,  1, -1, -1,  1, -1,  1]]),\n",
       " 3: array([[ 1, -1, -1,  1, -1,  1,  1, -1]]),\n",
       " 4: array([[ 1, -1, -1,  1,  1, -1,  1, -1]]),\n",
       " 5: array([[-1, -1,  1, -1, -1,  1, -1,  1]]),\n",
       " 6: array([[ 1, -1,  1,  1,  1, -1,  1,  1]]),\n",
       " 7: array([[ 1,  1, -1,  1,  1, -1,  1, -1]]),\n",
       " 8: array([[ 1,  1,  1,  1,  1, -1,  1,  1]]),\n",
       " 9: array([[ 1,  1, -1,  1, -1,  1,  1, -1]]),\n",
       " 10: array([[ 1, -1,  1, -1,  1, -1, -1,  1]]),\n",
       " 11: array([[-1, -1, -1,  1,  1, -1,  1, -1]]),\n",
       " 12: array([[-1,  1,  1, -1,  1, -1, -1,  1]]),\n",
       " 13: array([[-1,  1, -1,  1, -1,  1,  1, -1]]),\n",
       " 14: array([[-1, -1, -1,  1, -1,  1, -1, -1]]),\n",
       " 15: array([[-1,  1, -1, -1, -1,  1, -1, -1]]),\n",
       " 16: array([[ 1,  1,  1, -1,  1, -1,  1,  1]]),\n",
       " 17: array([[ 1,  1,  1, -1, -1,  1, -1,  1]])}"
      ]
     },
     "execution_count": 62,
     "metadata": {},
     "output_type": "execute_result"
    }
   ],
   "source": [
    "hop_net.attractor_dict #18 attractors"
   ]
  },
  {
   "cell_type": "code",
   "execution_count": 63,
   "metadata": {},
   "outputs": [
    {
     "data": {
      "text/plain": [
       "{0: array([[-1, -1,  1, -1,  1, -1, -1,  1]]),\n",
       " 1: array([[-1, -1, -1, -1, -1,  1, -1, -1]]),\n",
       " 2: array([[-1,  1,  1, -1, -1,  1, -1,  1]])}"
      ]
     },
     "execution_count": 63,
     "metadata": {},
     "output_type": "execute_result"
    }
   ],
   "source": [
    "hop_net.pattern_dict"
   ]
  },
  {
   "cell_type": "markdown",
   "metadata": {},
   "source": [
    "### 3.2 Sequential update"
   ]
  },
  {
   "cell_type": "code",
   "execution_count": 100,
   "metadata": {},
   "outputs": [],
   "source": [
    "pict = [i.split(',') for i in open(\"pict.dat\").readlines()]"
   ]
  },
  {
   "cell_type": "code",
   "execution_count": 101,
   "metadata": {},
   "outputs": [],
   "source": [
    "int_pict = [int(i) for i in pict[0]]"
   ]
  },
  {
   "cell_type": "code",
   "execution_count": 102,
   "metadata": {},
   "outputs": [],
   "source": [
    "all_pics = [int_pict[i:i + 1024] for i in range(0, len(int_pict), 1024)]"
   ]
  },
  {
   "cell_type": "code",
   "execution_count": 103,
   "metadata": {},
   "outputs": [],
   "source": [
    "p1 = all_pics[0]"
   ]
  },
  {
   "cell_type": "code",
   "execution_count": 104,
   "metadata": {},
   "outputs": [],
   "source": [
    "p1 = np.array([all_pics[0]])\n",
    "p2 = np.array([all_pics[1]])\n",
    "p3 = np.array([all_pics[2]])\n",
    "p4 = np.array([all_pics[3]])\n",
    "p5 = np.array([all_pics[4]])\n",
    "p6 = np.array([all_pics[5]])\n",
    "p7 = np.array([all_pics[6]])\n",
    "p8 = np.array([all_pics[7]])\n",
    "p9 = np.array([all_pics[8]])\n",
    "p10 = np.array([all_pics[9]])\n",
    "p11 = np.array([all_pics[10]])"
   ]
  },
  {
   "cell_type": "code",
   "execution_count": 105,
   "metadata": {},
   "outputs": [],
   "source": [
    "def disp_pic(pic):\n",
    "    pic = pic[0].tolist()\n",
    "    start = 0\n",
    "    for row_id in range(32):\n",
    "        end = start + 32\n",
    "        row = pic[start:end]\n",
    "        for col_id, pix in enumerate(row):\n",
    "            if pix == 1:\n",
    "                plt.plot(row_id, col_id, 'o', color = 'black')\n",
    "            else:\n",
    "                plt.plot(row_id, col_id, 'o', color = 'whitesmoke')\n",
    "        start = end\n",
    "        "
   ]
  },
  {
   "cell_type": "code",
   "execution_count": 106,
   "metadata": {},
   "outputs": [
    {
     "data": {
      "image/png": "[encoded data removed]",
      "text/plain": [
       "<Figure size 432x288 with 1 Axes>"
      ]
     },
     "metadata": {
      "needs_background": "light"
     },
     "output_type": "display_data"
    }
   ],
   "source": [
    "disp_pic(p10)"
   ]
  },
  {
   "cell_type": "code",
   "execution_count": 92,
   "metadata": {},
   "outputs": [
    {
     "data": {
      "text/plain": [
       "(1, 1024)"
      ]
     },
     "execution_count": 92,
     "metadata": {},
     "output_type": "execute_result"
    }
   ],
   "source": [
    "p1.shape"
   ]
  },
  {
   "cell_type": "code",
   "execution_count": 145,
   "metadata": {},
   "outputs": [],
   "source": [
    "X = np.concatenate((p1.T, p2.T, p3.T), axis = 1)\n",
    "X = np.concatenate((p1.T, p3.T), axis = 1)"
   ]
  },
  {
   "cell_type": "code",
   "execution_count": 146,
   "metadata": {},
   "outputs": [
    {
     "data": {
      "text/plain": [
       "(1024, 2)"
      ]
     },
     "execution_count": 146,
     "metadata": {},
     "output_type": "execute_result"
    }
   ],
   "source": [
    "X.shape"
   ]
  },
  {
   "cell_type": "code",
   "execution_count": 147,
   "metadata": {},
   "outputs": [],
   "source": [
    "hop_net = Hopfield_Net(X)"
   ]
  },
  {
   "cell_type": "code",
   "execution_count": null,
   "metadata": {},
   "outputs": [],
   "source": [
    "plt.figure(figsize = (6, 3))\n",
    "plt.subplot(1, 2, 1)\n",
    "disp_pic(p1)\n",
    "plt.subplot(1, 2, 2)\n",
    "disp_pic(p10)"
   ]
  },
  {
   "cell_type": "code",
   "execution_count": 153,
   "metadata": {},
   "outputs": [
    {
     "name": "stdout",
     "output_type": "stream",
     "text": [
      "Converged to X-row 1 after 1 iterations\n"
     ]
    }
   ],
   "source": [
    "new_pic = np.copy(hop_net.net_out(np.copy(p10)))"
   ]
  },
  {
   "cell_type": "code",
   "execution_count": 154,
   "metadata": {},
   "outputs": [
    {
     "data": {
      "image/png": "[encoded data removed]",
      "text/plain": [
       "<Figure size 432x288 with 1 Axes>"
      ]
     },
     "metadata": {
      "needs_background": "light"
     },
     "output_type": "display_data"
    }
   ],
   "source": [
    "disp_pic(new_pic)"
   ]
  },
  {
   "cell_type": "code",
   "execution_count": 143,
   "metadata": {},
   "outputs": [
    {
     "data": {
      "image/png": "[encoded data removed]",
      "text/plain": [
       "<Figure size 432x288 with 1 Axes>"
      ]
     },
     "metadata": {
      "needs_background": "light"
     },
     "output_type": "display_data"
    }
   ],
   "source": [
    "disp_pic(p11)"
   ]
  },
  {
   "cell_type": "code",
   "execution_count": 20,
   "metadata": {},
   "outputs": [
    {
     "data": {
      "text/plain": [
       "{0: array([[-1, -1, -1, ..., -1, -1, -1]]),\n",
       " 1: array([[-1, -1, -1, ..., -1, -1, -1]]),\n",
       " 2: array([[1, 1, 1, ..., 1, 1, 1]])}"
      ]
     },
     "execution_count": 20,
     "metadata": {},
     "output_type": "execute_result"
    }
   ],
   "source": [
    "hop_net.pattern_dict"
   ]
  },
  {
   "cell_type": "code",
   "execution_count": null,
   "metadata": {},
   "outputs": [],
   "source": []
  }
 ],
 "metadata": {
  "kernelspec": {
   "display_name": "Python 3",
   "language": "python",
   "name": "python3"
  },
  "language_info": {
   "codemirror_mode": {
    "name": "ipython",
    "version": 3
   },
   "file_extension": ".py",
   "mimetype": "text/x-python",
   "name": "python",
   "nbconvert_exporter": "python",
   "pygments_lexer": "ipython3",
   "version": "3.7.3"
  }
 },
 "nbformat": 4,
 "nbformat_minor": 2
}
