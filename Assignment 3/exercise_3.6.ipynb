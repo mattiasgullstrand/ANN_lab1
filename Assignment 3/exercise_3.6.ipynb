{
 "cells": [
  {
   "cell_type": "code",
   "execution_count": 23,
   "metadata": {},
   "outputs": [],
   "source": [
    "import numpy as np\n",
    "import matplotlib.pyplot as plt\n",
    "import random\n",
    "\n",
    "class Hopfield_Net():\n",
    "    \"\"\"\n",
    "        - X is the input matrix where each column is a sample\n",
    "        - W is a matrix of the weights.\n",
    "        \n",
    "    \"\"\"\n",
    "    def __init__(self, X, bias = 0):\n",
    "        self.X = X\n",
    "        self.D = X.shape[0] # Number of units\n",
    "        self.N = X.shape[1] # Number of patterns\n",
    "        self.bias = bias\n",
    "        self.avg_act = self.calc_avg_act()\n",
    "        self.Wrand = np.random.normal(0,1,(self.D,self.D))\n",
    "        self.W = self.init_W_avg_act()\n",
    "        self.max_iter = 10\n",
    "        #self.max_iter = 2750\n",
    "        self.iters = 0\n",
    "        self.pattern_dict = self.init_dict()\n",
    "        self.attractor_dict = self.pattern_dict.copy()\n",
    "        self.update_type = 'syn'\n",
    "        self.store_updates = []\n",
    "        self.nr_converge = 0\n",
    "    \n",
    "    def calc_avg_act(self):\n",
    "        avg_act = 0\n",
    "        for p in range(self.N):\n",
    "            x = self.X[:,p]\n",
    "            for i in range(self.D):\n",
    "                avg_act += x[i]\n",
    "        return avg_act*(1/(self.N*self.D))\n",
    "    \n",
    "    def init_W(self):\n",
    "        W = np.zeros([self.D, self.D])\n",
    "        for p in range(self.N):\n",
    "            x = self.X[:,p]\n",
    "            for i in range(self.D):\n",
    "                for j in range(self.D):\n",
    "                    W[i,j] += x[i]*x[j]\n",
    "        W = W - np.diag(np.diag(W))\n",
    "        return W\n",
    "    \n",
    "    def init_W_avg_act(self):\n",
    "        W = np.zeros([self.D, self.D])\n",
    "        for p in range(self.N):\n",
    "            x = self.X[:,p]\n",
    "            for i in range(self.D):\n",
    "                for j in range(self.D):\n",
    "                    W[i,j] += (x[i] - self.avg_act)*(x[j] - self.avg_act)\n",
    "        W = W - np.diag(np.diag(W))\n",
    "        return W\n",
    "    \n",
    "    def init_dict(self): # Dict of patterns as row vectors\n",
    "        pattern_dict = {}\n",
    "        for p in range(self.N):\n",
    "            pattern = self.X[:,p].reshape(1, self.D)\n",
    "            pattern_dict[p] = pattern\n",
    "        return pattern_dict\n",
    "    \n",
    "    def update_rule(self, x): # x is a row vector\n",
    "        #print(\"Before update {}\".format(self.iters), x)\n",
    "        for i in range(self.D):\n",
    "            sum_term = 0\n",
    "            for j in range(self.D):\n",
    "                sum_term += self.W[i,j]*x[0,j]\n",
    "            x[0,i] = np.sign(sum_term)\n",
    "        #print(\"After update {}\".format(self.iters), x)\n",
    "        return x\n",
    "    \n",
    "    def sparse_update_rule(self, x):\n",
    "        #print(\"Before update {}\".format(self.iters), x)\n",
    "        for i in range(self.D):\n",
    "            sum_term = 0\n",
    "            for j in range(self.D):\n",
    "                sum_term += self.W[i,j]*x[0,j] - self.bias\n",
    "            x[0,i] = 0.5 + 0.5*np.sign(sum_term)\n",
    "        #print(\"After update {}\".format(self.iters), x)\n",
    "        return x\n",
    "\n",
    "    def sparse_random_update_rule(self, x):\n",
    "        #print(\"Before update {}\".format(self.iters), x)\n",
    "        i = random.choice(list(range(self.D)))\n",
    "        sum_term = 0\n",
    "        for j in range(self.D):\n",
    "            sum_term += self.W[i,j]*x[0,j] - self.bias\n",
    "        x[0,i] = 0.5 + 0.5*np.sign(sum_term)\n",
    "        #print(\"After update {}\".format(self.iters), x)\n",
    "        return x\n",
    "    \n",
    "    def random_update_rule(self, x):\n",
    "        #print(\"Before update {}\".format(self.iters), x)\n",
    "        i = random.choice(list(range(1024)))\n",
    "        sum_term = 0\n",
    "        for j in range(self.D):\n",
    "            sum_term += self.W[i,j]*x[0,j]\n",
    "        x[0,i] = np.sign(sum_term)\n",
    "        #print(\"After update {}\".format(self.iters), x)\n",
    "        return x\n",
    "    \n",
    "    def update_W(self, x): # x is a row vector\n",
    "        for i in range(self.D):\n",
    "            for j in range(self.D):\n",
    "                self.W[i,j] += x.T[i]*x.T[j]\n",
    "        self.W = self.W - np.diag(np.diag(self.W))\n",
    "        self.N += 1\n",
    "        self.pattern_dict[self.N-1] = x.reshape(1, self.D)\n",
    "        return self.W\n",
    "    \n",
    "    def add_attractor(self, x):\n",
    "        self.attractor_dict[len(self.attractor_dict.keys())] = x.reshape(1, self.D)\n",
    "    \n",
    "    def energy(self, x):\n",
    "        E = 0\n",
    "        for i in range(self.D):\n",
    "            for j in range(self.D):\n",
    "                E += self.W[i,j]*x[0,i]*x[0,j]\n",
    "        return -E\n",
    "\n",
    "    def net_out(self, x): # x is a row vector\n",
    "        #self.W = self.update_W(x)\n",
    "        #if np.array_equal(x, y):\n",
    "        #y = np.sign(np.dot(self.W, x.T))\n",
    "        if self.update_type == 'syn':\n",
    "            y = self.sparse_update_rule(np.copy(x))\n",
    "            #self.store_updates.append(x)\n",
    "        else:\n",
    "            if self.iters % 250 == 0:\n",
    "                self.store_updates.append(x) # Ta bort\n",
    "            y = self.sparse_random_update_rule(np.copy(x))\n",
    "        in_pattern_dict = [(y == pattern).all() \n",
    "                      for pattern in self.pattern_dict.values()]\n",
    "        if any(in_pattern_dict):\n",
    "            fixed_point = np.nonzero(in_pattern_dict)[0][0]\n",
    "            ###print(\"Converged to X-row {} after {} iterations\".format(fixed_point+1, self.iters+1))\n",
    "            self.iters = 0\n",
    "            self.nr_converge += 1\n",
    "            return y\n",
    "        elif np.array_equal(x, y) and self.update_type == 'syn':\n",
    "            ###print(\"Stable after {}. Did not change after last iteration.\".format(self.iters+1))\n",
    "            in_attractor_dict = [(y == attractor).all() \n",
    "                      for attractor in self.attractor_dict.values()]\n",
    "            if not any(in_attractor_dict):\n",
    "                self.add_attractor(y)\n",
    "            self.iters = 0\n",
    "            return y\n",
    "        elif self.iters <= self.max_iter:\n",
    "            self.iters += 1\n",
    "            if self.update_type == 'syn':\n",
    "                return self.sparse_update_rule(self.net_out(np.copy(y)))\n",
    "            else:\n",
    "                return self.sparse_random_update_rule(self.net_out(np.copy(y)))\n",
    "        else:\n",
    "            ###print(\"Reached maximum number of iterations.\")\n",
    "            self.iters = 0\n",
    "            return y\n",
    "    \n",
    "    #def number_of_atractors:\n",
    "        \n",
    "    \n",
    "    #def train(self):\n",
    "    #    for idx in range(self.N):\n",
    "    #        x = X[:,idx].reshape([self.D, 1])\n",
    "    #        y = net_out(x)"
   ]
  },
  {
   "cell_type": "code",
   "execution_count": 24,
   "metadata": {},
   "outputs": [],
   "source": [
    "def sparse_pattern(dim, act_percent):\n",
    "    number_of_active = round(act_percent*dim)\n",
    "    act_ids = np.random.choice(list(range(dim)), number_of_active, replace = False)\n",
    "    pattern = np.zeros([1, dim])\n",
    "    for idx in act_ids:\n",
    "        pattern[0,idx] = 1\n",
    "    return pattern"
   ]
  },
  {
   "cell_type": "code",
   "execution_count": 25,
   "metadata": {},
   "outputs": [],
   "source": [
    "X = sparse_pattern(100, 0.1)"
   ]
  },
  {
   "cell_type": "code",
   "execution_count": 42,
   "metadata": {},
   "outputs": [],
   "source": [
    "X = sparse_pattern(100, 0.01).T\n",
    "for p in range(299):\n",
    "    x = sparse_pattern(100, 0.01)\n",
    "    X = np.concatenate((X, x.T), axis = 1)"
   ]
  },
  {
   "cell_type": "code",
   "execution_count": 43,
   "metadata": {},
   "outputs": [
    {
     "data": {
      "text/plain": [
       "(100, 300)"
      ]
     },
     "execution_count": 43,
     "metadata": {},
     "output_type": "execute_result"
    }
   ],
   "source": [
    "X.shape"
   ]
  },
  {
   "cell_type": "code",
   "execution_count": 60,
   "metadata": {},
   "outputs": [
    {
     "name": "stderr",
     "output_type": "stream",
     "text": [
      "100%|██████████| 300/300 [00:00<00:00, 348.45it/s]\n",
      " 33%|███▎      | 98/300 [00:00<00:00, 507.05it/s]"
     ]
    },
    {
     "name": "stdout",
     "output_type": "stream",
     "text": [
      "Number of stored (out of 300): 259, with bias: 0.01\n"
     ]
    },
    {
     "name": "stderr",
     "output_type": "stream",
     "text": [
      "100%|██████████| 300/300 [00:00<00:00, 414.09it/s]\n",
      " 30%|██▉       | 89/300 [00:00<00:00, 445.33it/s]"
     ]
    },
    {
     "name": "stdout",
     "output_type": "stream",
     "text": [
      "Number of stored (out of 300): 270, with bias: 0.1\n"
     ]
    },
    {
     "name": "stderr",
     "output_type": "stream",
     "text": [
      "100%|██████████| 300/300 [00:00<00:00, 489.37it/s]\n",
      " 31%|███▏      | 94/300 [00:00<00:00, 483.91it/s]"
     ]
    },
    {
     "name": "stdout",
     "output_type": "stream",
     "text": [
      "Number of stored (out of 300): 278, with bias: 0.3\n"
     ]
    },
    {
     "name": "stderr",
     "output_type": "stream",
     "text": [
      "100%|██████████| 300/300 [00:00<00:00, 390.47it/s]\n",
      " 12%|█▏        | 36/300 [00:00<00:00, 349.16it/s]"
     ]
    },
    {
     "name": "stdout",
     "output_type": "stream",
     "text": [
      "Number of stored (out of 300): 265, with bias: 0.5\n"
     ]
    },
    {
     "name": "stderr",
     "output_type": "stream",
     "text": [
      "100%|██████████| 300/300 [00:00<00:00, 396.90it/s]\n",
      " 29%|██▉       | 88/300 [00:00<00:00, 323.42it/s]"
     ]
    },
    {
     "name": "stdout",
     "output_type": "stream",
     "text": [
      "Number of stored (out of 300): 266, with bias: 0.7\n"
     ]
    },
    {
     "name": "stderr",
     "output_type": "stream",
     "text": [
      "100%|██████████| 300/300 [00:00<00:00, 428.89it/s]\n",
      " 14%|█▍        | 42/300 [00:00<00:00, 412.97it/s]"
     ]
    },
    {
     "name": "stdout",
     "output_type": "stream",
     "text": [
      "Number of stored (out of 300): 271, with bias: 0.9\n"
     ]
    },
    {
     "name": "stderr",
     "output_type": "stream",
     "text": [
      "100%|██████████| 300/300 [00:00<00:00, 466.30it/s]\n",
      " 10%|█         | 31/300 [00:00<00:00, 280.07it/s]"
     ]
    },
    {
     "name": "stdout",
     "output_type": "stream",
     "text": [
      "Number of stored (out of 300): 276, with bias: 1\n"
     ]
    },
    {
     "name": "stderr",
     "output_type": "stream",
     "text": [
      "100%|██████████| 300/300 [00:00<00:00, 436.59it/s]\n",
      " 25%|██▌       | 76/300 [00:00<00:00, 301.07it/s]"
     ]
    },
    {
     "name": "stdout",
     "output_type": "stream",
     "text": [
      "Number of stored (out of 300): 272, with bias: 2\n"
     ]
    },
    {
     "name": "stderr",
     "output_type": "stream",
     "text": [
      "100%|██████████| 300/300 [00:00<00:00, 335.73it/s]\n",
      " 12%|█▏        | 36/300 [00:00<00:00, 320.62it/s]"
     ]
    },
    {
     "name": "stdout",
     "output_type": "stream",
     "text": [
      "Number of stored (out of 300): 266, with bias: 3\n"
     ]
    },
    {
     "name": "stderr",
     "output_type": "stream",
     "text": [
      "100%|██████████| 300/300 [00:00<00:00, 407.68it/s]\n",
      " 26%|██▌       | 78/300 [00:00<00:00, 344.74it/s]"
     ]
    },
    {
     "name": "stdout",
     "output_type": "stream",
     "text": [
      "Number of stored (out of 300): 276, with bias: 4\n"
     ]
    },
    {
     "name": "stderr",
     "output_type": "stream",
     "text": [
      "100%|██████████| 300/300 [00:00<00:00, 421.14it/s]"
     ]
    },
    {
     "name": "stdout",
     "output_type": "stream",
     "text": [
      "Number of stored (out of 300): 269, with bias: 5\n"
     ]
    },
    {
     "name": "stderr",
     "output_type": "stream",
     "text": [
      "\n"
     ]
    }
   ],
   "source": [
    "from tqdm import tqdm\n",
    "act_percent = 0.1\n",
    "X = sparse_pattern(100, act_percent).T\n",
    "for p in range(299):\n",
    "    x = sparse_pattern(100, act_percent)\n",
    "    X = np.concatenate((X, x.T), axis = 1)\n",
    "\n",
    "hop_net = Hopfield_Net(X)\n",
    "hop_net.update_type = 'asyn'\n",
    "\n",
    "conv_01 = []\n",
    "for bias in [0.01, 0.1, 0.3, 0.5, 0.7, 0.9, 1, 2, 3, 4, 5]:\n",
    "    hop_net.nr_converge = 0\n",
    "    for x_id in tqdm(range(hop_net.N)):\n",
    "        hop_net.bias = bias\n",
    "        hop_net.net_out(np.copy(hop_net.X[:,x_id].reshape(1, hop_net.D)))\n",
    "    print(\"Number of stored (out of 300): {}, with bias: {}\".format(hop_net.nr_converge, bias))\n",
    "    conv_01.append(hop_net.nr_converge)\n"
   ]
  },
  {
   "cell_type": "markdown",
   "metadata": {},
   "source": [
    "0.1 act => 249-277"
   ]
  },
  {
   "cell_type": "code",
   "execution_count": 61,
   "metadata": {},
   "outputs": [
    {
     "data": {
      "text/plain": [
       "0.1"
      ]
     },
     "execution_count": 61,
     "metadata": {},
     "output_type": "execute_result"
    }
   ],
   "source": [
    "hop_net.avg_act"
   ]
  },
  {
   "cell_type": "code",
   "execution_count": 62,
   "metadata": {},
   "outputs": [
    {
     "name": "stderr",
     "output_type": "stream",
     "text": [
      "100%|██████████| 300/300 [00:00<00:00, 897.62it/s]\n",
      " 29%|██▉       | 87/300 [00:00<00:00, 862.17it/s]"
     ]
    },
    {
     "name": "stdout",
     "output_type": "stream",
     "text": [
      "Number of stored (out of 300): 298, with bias: 0.01\n"
     ]
    },
    {
     "name": "stderr",
     "output_type": "stream",
     "text": [
      "100%|██████████| 300/300 [00:00<00:00, 863.32it/s]\n",
      " 29%|██▊       | 86/300 [00:00<00:00, 853.28it/s]"
     ]
    },
    {
     "name": "stdout",
     "output_type": "stream",
     "text": [
      "Number of stored (out of 300): 298, with bias: 0.1\n"
     ]
    },
    {
     "name": "stderr",
     "output_type": "stream",
     "text": [
      "100%|██████████| 300/300 [00:00<00:00, 862.28it/s]\n",
      " 64%|██████▍   | 192/300 [00:00<00:00, 948.41it/s]"
     ]
    },
    {
     "name": "stdout",
     "output_type": "stream",
     "text": [
      "Number of stored (out of 300): 297, with bias: 0.3\n"
     ]
    },
    {
     "name": "stderr",
     "output_type": "stream",
     "text": [
      "100%|██████████| 300/300 [00:00<00:00, 620.77it/s]\n",
      " 30%|███       | 91/300 [00:00<00:00, 909.07it/s]"
     ]
    },
    {
     "name": "stdout",
     "output_type": "stream",
     "text": [
      "Number of stored (out of 300): 298, with bias: 0.5\n"
     ]
    },
    {
     "name": "stderr",
     "output_type": "stream",
     "text": [
      "100%|██████████| 300/300 [00:00<00:00, 854.83it/s]\n",
      " 18%|█▊        | 54/300 [00:00<00:00, 475.65it/s]"
     ]
    },
    {
     "name": "stdout",
     "output_type": "stream",
     "text": [
      "Number of stored (out of 300): 298, with bias: 0.7\n"
     ]
    },
    {
     "name": "stderr",
     "output_type": "stream",
     "text": [
      "100%|██████████| 300/300 [00:00<00:00, 557.29it/s]\n",
      " 44%|████▍     | 132/300 [00:00<00:00, 577.83it/s]"
     ]
    },
    {
     "name": "stdout",
     "output_type": "stream",
     "text": [
      "Number of stored (out of 300): 298, with bias: 0.9\n"
     ]
    },
    {
     "name": "stderr",
     "output_type": "stream",
     "text": [
      "100%|██████████| 300/300 [00:00<00:00, 732.97it/s]\n",
      " 26%|██▌       | 77/300 [00:00<00:00, 734.40it/s]"
     ]
    },
    {
     "name": "stdout",
     "output_type": "stream",
     "text": [
      "Number of stored (out of 300): 297, with bias: 1\n"
     ]
    },
    {
     "name": "stderr",
     "output_type": "stream",
     "text": [
      "100%|██████████| 300/300 [00:00<00:00, 800.78it/s]\n",
      " 53%|█████▎    | 158/300 [00:00<00:00, 811.29it/s]"
     ]
    },
    {
     "name": "stdout",
     "output_type": "stream",
     "text": [
      "Number of stored (out of 300): 296, with bias: 2\n"
     ]
    },
    {
     "name": "stderr",
     "output_type": "stream",
     "text": [
      "100%|██████████| 300/300 [00:00<00:00, 627.21it/s]\n",
      " 27%|██▋       | 80/300 [00:00<00:00, 799.44it/s]"
     ]
    },
    {
     "name": "stdout",
     "output_type": "stream",
     "text": [
      "Number of stored (out of 300): 299, with bias: 3\n"
     ]
    },
    {
     "name": "stderr",
     "output_type": "stream",
     "text": [
      "100%|██████████| 300/300 [00:00<00:00, 744.12it/s]\n",
      " 49%|████▉     | 148/300 [00:00<00:00, 709.76it/s]"
     ]
    },
    {
     "name": "stdout",
     "output_type": "stream",
     "text": [
      "Number of stored (out of 300): 298, with bias: 4\n"
     ]
    },
    {
     "name": "stderr",
     "output_type": "stream",
     "text": [
      "100%|██████████| 300/300 [00:00<00:00, 750.27it/s]"
     ]
    },
    {
     "name": "stdout",
     "output_type": "stream",
     "text": [
      "Number of stored (out of 300): 297, with bias: 5\n"
     ]
    },
    {
     "name": "stderr",
     "output_type": "stream",
     "text": [
      "\n"
     ]
    }
   ],
   "source": [
    "from tqdm import tqdm\n",
    "act_percent = 0.01\n",
    "X = sparse_pattern(100, act_percent).T\n",
    "for p in range(299):\n",
    "    x = sparse_pattern(100, act_percent)\n",
    "    X = np.concatenate((X, x.T), axis = 1)\n",
    "\n",
    "hop_net = Hopfield_Net(X)\n",
    "hop_net.update_type = 'asyn'\n",
    "\n",
    "conv_001 = []\n",
    "for bias in [0.01, 0.1, 0.3, 0.5, 0.7, 0.9, 1, 2, 3, 4, 5]:\n",
    "    hop_net.nr_converge = 0\n",
    "    for x_id in tqdm(range(hop_net.N)):\n",
    "        hop_net.bias = bias\n",
    "        hop_net.net_out(np.copy(hop_net.X[:,x_id].reshape(1, hop_net.D)))\n",
    "    print(\"Number of stored (out of 300): {}, with bias: {}\".format(hop_net.nr_converge, bias))\n",
    "    conv_001.append(hop_net.nr_converge)\n"
   ]
  },
  {
   "cell_type": "markdown",
   "metadata": {},
   "source": [
    "0.01 act => 295-299"
   ]
  },
  {
   "cell_type": "code",
   "execution_count": 63,
   "metadata": {},
   "outputs": [
    {
     "data": {
      "text/plain": [
       "0.01"
      ]
     },
     "execution_count": 63,
     "metadata": {},
     "output_type": "execute_result"
    }
   ],
   "source": [
    "hop_net.avg_act"
   ]
  },
  {
   "cell_type": "code",
   "execution_count": 64,
   "metadata": {},
   "outputs": [
    {
     "data": {
      "text/plain": [
       "[<matplotlib.lines.Line2D at 0x11e03a6d8>]"
      ]
     },
     "execution_count": 64,
     "metadata": {},
     "output_type": "execute_result"
    },
    {
     "data": {
      "image/png": "[encoded data removed]",
      "text/plain": [
       "<Figure size 432x288 with 1 Axes>"
      ]
     },
     "metadata": {
      "needs_background": "light"
     },
     "output_type": "display_data"
    }
   ],
   "source": [
    "plt.plot(conv_01)\n",
    "plt.plot(conv_001)"
   ]
  },
  {
   "cell_type": "code",
   "execution_count": null,
   "metadata": {},
   "outputs": [],
   "source": []
  }
 ],
 "metadata": {
  "kernelspec": {
   "display_name": "Python 3",
   "language": "python",
   "name": "python3"
  }
 },
 "nbformat": 4,
 "nbformat_minor": 2
}
