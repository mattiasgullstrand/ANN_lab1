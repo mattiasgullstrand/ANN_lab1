{
 "cells": [
  {
   "cell_type": "code",
   "execution_count": 119,
   "metadata": {},
   "outputs": [],
   "source": [
    "import numpy as np\n",
    "import matplotlib.pyplot as plt\n",
    "import random\n",
    "\n",
    "class Hopfield_Net():\n",
    "    \"\"\"\n",
    "        - X is the input matrix where each column is a sample\n",
    "        - W is a matrix of the weights.\n",
    "        \n",
    "    \"\"\"\n",
    "    def __init__(self, X, bias = 0):\n",
    "        self.X = X\n",
    "        self.D = X.shape[0] # Number of units\n",
    "        self.N = X.shape[1] # Number of patterns\n",
    "        self.bias = bias\n",
    "        self.avg_act = self.calc_avg_act()\n",
    "        self.Wrand = np.random.normal(0,1,(self.D,self.D))\n",
    "        self.W = self.init_W_avg_act()\n",
    "        self.max_iter = 1\n",
    "        #self.max_iter = 2750\n",
    "        self.iters = 0\n",
    "        self.pattern_dict = self.init_dict()\n",
    "        self.attractor_dict = self.pattern_dict.copy()\n",
    "        self.update_type = 'syn'\n",
    "        self.store_updates = []\n",
    "        self.nr_converge = 0\n",
    "    \n",
    "    def calc_avg_act(self):\n",
    "        avg_act = 0\n",
    "        for p in range(self.N):\n",
    "            x = self.X[:,p]\n",
    "            for i in range(self.D):\n",
    "                avg_act += x[i]\n",
    "        return avg_act*(1/(self.N*self.D))\n",
    "    \n",
    "    def init_W(self):\n",
    "        W = np.zeros([self.D, self.D])\n",
    "        for p in range(self.N):\n",
    "            x = self.X[:,p]\n",
    "            for i in range(self.D):\n",
    "                for j in range(self.D):\n",
    "                    W[i,j] += x[i]*x[j]\n",
    "        W = W - np.diag(np.diag(W))\n",
    "        return W\n",
    "    \n",
    "    def init_W_avg_act(self):\n",
    "        W = np.zeros([self.D, self.D])\n",
    "        for p in range(self.N):\n",
    "            x = self.X[:,p]\n",
    "            for i in range(self.D):\n",
    "                for j in range(self.D):\n",
    "                    W[i,j] += (x[i] - self.avg_act)*(x[j] - self.avg_act)\n",
    "        W = W - np.diag(np.diag(W))\n",
    "        return W\n",
    "    \n",
    "    def init_dict(self): # Dict of patterns as row vectors\n",
    "        pattern_dict = {}\n",
    "        for p in range(self.N):\n",
    "            pattern = self.X[:,p].reshape(1, self.D)\n",
    "            pattern_dict[p] = pattern\n",
    "        return pattern_dict\n",
    "    \n",
    "    def update_rule(self, x): # x is a row vector\n",
    "        #print(\"Before update {}\".format(self.iters), x)\n",
    "        for i in range(self.D):\n",
    "            sum_term = 0\n",
    "            for j in range(self.D):\n",
    "                sum_term += self.W[i,j]*x[0,j]\n",
    "            x[0,i] = np.sign(sum_term)\n",
    "        #print(\"After update {}\".format(self.iters), x)\n",
    "        return x\n",
    "    \n",
    "    def sparse_update_rule(self, x):\n",
    "        #print(\"Before update {}\".format(self.iters), x)\n",
    "        for i in range(self.D):\n",
    "            sum_term = 0\n",
    "            for j in range(self.D):\n",
    "                sum_term += self.W[i,j]*x[0,j]\n",
    "            x[0,i] = 0.5 + 0.5*np.sign(sum_term - self.bias)\n",
    "        #print(\"After update {}\".format(self.iters), x)\n",
    "        return x\n",
    "\n",
    "    def sparse_random_update_rule(self, x):\n",
    "        #print(\"Before update {}\".format(self.iters), x)\n",
    "        i = random.choice(list(range(self.D)))\n",
    "        sum_term = 0\n",
    "        for j in range(self.D):\n",
    "            sum_term += self.W[i,j]*x[0,j]\n",
    "        x[0,i] = 0.5 + 0.5*np.sign(sum_term - self.bias)\n",
    "        #print(\"After update {}\".format(self.iters), x)\n",
    "        return x\n",
    "    \n",
    "    def random_update_rule(self, x):\n",
    "        #print(\"Before update {}\".format(self.iters), x)\n",
    "        i = random.choice(list(range(1024)))\n",
    "        sum_term = 0\n",
    "        for j in range(self.D):\n",
    "            sum_term += self.W[i,j]*x[0,j]\n",
    "        x[0,i] = np.sign(sum_term)\n",
    "        #print(\"After update {}\".format(self.iters), x)\n",
    "        return x\n",
    "    \n",
    "    def update_W(self, x): # x is a row vector\n",
    "        for i in range(self.D):\n",
    "            for j in range(self.D):\n",
    "                self.W[i,j] += x.T[i]*x.T[j]\n",
    "        self.W = self.W - np.diag(np.diag(self.W))\n",
    "        self.N += 1\n",
    "        self.pattern_dict[self.N-1] = x.reshape(1, self.D)\n",
    "        return self.W\n",
    "    \n",
    "    def add_attractor(self, x):\n",
    "        self.attractor_dict[len(self.attractor_dict.keys())] = x.reshape(1, self.D)\n",
    "    \n",
    "    def energy(self, x):\n",
    "        E = 0\n",
    "        for i in range(self.D):\n",
    "            for j in range(self.D):\n",
    "                E += self.W[i,j]*x[0,i]*x[0,j]\n",
    "        return -E\n",
    "\n",
    "    def net_out(self, x): # x is a row vector\n",
    "        #self.W = self.update_W(x)\n",
    "        #if np.array_equal(x, y):\n",
    "        #y = np.sign(np.dot(self.W, x.T))\n",
    "        if self.update_type == 'syn':\n",
    "            y = self.sparse_update_rule(np.copy(x))\n",
    "            #self.store_updates.append(x)\n",
    "        else:\n",
    "            if self.iters % 250 == 0:\n",
    "                self.store_updates.append(x) # Ta bort\n",
    "            y = self.sparse_random_update_rule(np.copy(x))\n",
    "        in_pattern_dict = [(y == pattern).all() \n",
    "                      for pattern in self.pattern_dict.values()]\n",
    "        if any(in_pattern_dict):\n",
    "            fixed_point = np.nonzero(in_pattern_dict)[0][0]\n",
    "            #print(\"Converged to X-row {} after {} iterations\".format(fixed_point+1, self.iters+1))\n",
    "            self.iters = 0\n",
    "            self.nr_converge += 1\n",
    "            return y\n",
    "        elif np.array_equal(x, y) and self.update_type == 'syn':\n",
    "            ###print(\"Stable after {}. Did not change after last iteration.\".format(self.iters+1))\n",
    "            in_attractor_dict = [(y == attractor).all() \n",
    "                      for attractor in self.attractor_dict.values()]\n",
    "            if not any(in_attractor_dict):\n",
    "                self.add_attractor(y)\n",
    "            self.iters = 0\n",
    "            return y\n",
    "        elif self.iters <= self.max_iter:\n",
    "            self.iters += 1\n",
    "            if self.update_type == 'syn':\n",
    "                return self.sparse_update_rule(self.net_out(np.copy(y)))\n",
    "            else:\n",
    "                return self.sparse_random_update_rule(self.net_out(np.copy(y)))\n",
    "        else:\n",
    "            ###print(\"Reached maximum number of iterations.\")\n",
    "            self.iters = 0\n",
    "            return y\n",
    "    \n",
    "    #def number_of_atractors:\n",
    "        \n",
    "    \n",
    "    #def train(self):\n",
    "    #    for idx in range(self.N):\n",
    "    #        x = X[:,idx].reshape([self.D, 1])\n",
    "    #        y = net_out(x)"
   ]
  },
  {
   "cell_type": "code",
   "execution_count": 120,
   "metadata": {},
   "outputs": [],
   "source": [
    "def sparse_pattern(dim, act_percent):\n",
    "    number_of_active = round(act_percent*dim)\n",
    "    act_ids = np.random.choice(list(range(dim)), number_of_active, replace = False)\n",
    "    pattern = np.zeros([1, dim])\n",
    "    for idx in act_ids:\n",
    "        pattern[0,idx] = 1\n",
    "    return pattern"
   ]
  },
  {
   "cell_type": "code",
   "execution_count": 121,
   "metadata": {},
   "outputs": [],
   "source": [
    "X = sparse_pattern(100, 0.1)"
   ]
  },
  {
   "cell_type": "code",
   "execution_count": 122,
   "metadata": {},
   "outputs": [],
   "source": [
    "X = sparse_pattern(100, 0.01).T\n",
    "for p in range(299):\n",
    "    x = sparse_pattern(100, 0.01)\n",
    "    X = np.concatenate((X, x.T), axis = 1)"
   ]
  },
  {
   "cell_type": "code",
   "execution_count": 123,
   "metadata": {},
   "outputs": [
    {
     "data": {
      "text/plain": [
       "(100, 300)"
      ]
     },
     "execution_count": 123,
     "metadata": {},
     "output_type": "execute_result"
    }
   ],
   "source": [
    "X.shape"
   ]
  },
  {
   "cell_type": "code",
   "execution_count": 124,
   "metadata": {},
   "outputs": [
    {
     "name": "stderr",
     "output_type": "stream",
     "text": [
      "100%|██████████| 300/300 [00:00<00:00, 680.37it/s]\n",
      " 25%|██▌       | 76/300 [00:00<00:00, 739.51it/s]"
     ]
    },
    {
     "name": "stdout",
     "output_type": "stream",
     "text": [
      "Number of stored (out of 300): 243, with bias: 0.01\n"
     ]
    },
    {
     "name": "stderr",
     "output_type": "stream",
     "text": [
      "100%|██████████| 300/300 [00:00<00:00, 665.79it/s]\n",
      " 26%|██▌       | 77/300 [00:00<00:00, 754.84it/s]"
     ]
    },
    {
     "name": "stdout",
     "output_type": "stream",
     "text": [
      "Number of stored (out of 300): 241, with bias: 0.1\n"
     ]
    },
    {
     "name": "stderr",
     "output_type": "stream",
     "text": [
      "100%|██████████| 300/300 [00:00<00:00, 654.33it/s]\n",
      " 49%|████▉     | 147/300 [00:00<00:00, 729.13it/s]"
     ]
    },
    {
     "name": "stdout",
     "output_type": "stream",
     "text": [
      "Number of stored (out of 300): 237, with bias: 0.3\n"
     ]
    },
    {
     "name": "stderr",
     "output_type": "stream",
     "text": [
      "100%|██████████| 300/300 [00:00<00:00, 700.86it/s]\n",
      " 24%|██▍       | 72/300 [00:00<00:00, 706.03it/s]"
     ]
    },
    {
     "name": "stdout",
     "output_type": "stream",
     "text": [
      "Number of stored (out of 300): 251, with bias: 0.5\n"
     ]
    },
    {
     "name": "stderr",
     "output_type": "stream",
     "text": [
      "100%|██████████| 300/300 [00:00<00:00, 706.73it/s]\n",
      " 25%|██▍       | 74/300 [00:00<00:00, 738.90it/s]"
     ]
    },
    {
     "name": "stdout",
     "output_type": "stream",
     "text": [
      "Number of stored (out of 300): 250, with bias: 0.7\n"
     ]
    },
    {
     "name": "stderr",
     "output_type": "stream",
     "text": [
      "100%|██████████| 300/300 [00:00<00:00, 719.05it/s]\n",
      " 50%|████▉     | 149/300 [00:00<00:00, 749.54it/s]"
     ]
    },
    {
     "name": "stdout",
     "output_type": "stream",
     "text": [
      "Number of stored (out of 300): 254, with bias: 0.9\n"
     ]
    },
    {
     "name": "stderr",
     "output_type": "stream",
     "text": [
      "100%|██████████| 300/300 [00:00<00:00, 582.30it/s]\n",
      " 22%|██▏       | 67/300 [00:00<00:00, 665.04it/s]"
     ]
    },
    {
     "name": "stdout",
     "output_type": "stream",
     "text": [
      "Number of stored (out of 300): 253, with bias: 1\n"
     ]
    },
    {
     "name": "stderr",
     "output_type": "stream",
     "text": [
      "100%|██████████| 300/300 [00:00<00:00, 675.46it/s]\n",
      " 28%|██▊       | 83/300 [00:00<00:00, 829.06it/s]"
     ]
    },
    {
     "name": "stdout",
     "output_type": "stream",
     "text": [
      "Number of stored (out of 300): 268, with bias: 2\n"
     ]
    },
    {
     "name": "stderr",
     "output_type": "stream",
     "text": [
      "100%|██████████| 300/300 [00:00<00:00, 780.17it/s]\n",
      " 40%|████      | 120/300 [00:00<00:00, 607.30it/s]"
     ]
    },
    {
     "name": "stdout",
     "output_type": "stream",
     "text": [
      "Number of stored (out of 300): 269, with bias: 3\n"
     ]
    },
    {
     "name": "stderr",
     "output_type": "stream",
     "text": [
      "100%|██████████| 300/300 [00:00<00:00, 626.67it/s]\n",
      " 48%|████▊     | 143/300 [00:00<00:00, 697.07it/s]"
     ]
    },
    {
     "name": "stdout",
     "output_type": "stream",
     "text": [
      "Number of stored (out of 300): 277, with bias: 4\n"
     ]
    },
    {
     "name": "stderr",
     "output_type": "stream",
     "text": [
      "100%|██████████| 300/300 [00:00<00:00, 715.80it/s]"
     ]
    },
    {
     "name": "stdout",
     "output_type": "stream",
     "text": [
      "Number of stored (out of 300): 273, with bias: 5\n"
     ]
    },
    {
     "name": "stderr",
     "output_type": "stream",
     "text": [
      "\n"
     ]
    }
   ],
   "source": [
    "from tqdm import tqdm\n",
    "act_percent = 0.1\n",
    "X = sparse_pattern(100, act_percent).T\n",
    "for p in range(299):\n",
    "    x = sparse_pattern(100, act_percent)\n",
    "    X = np.concatenate((X, x.T), axis = 1)\n",
    "\n",
    "hop_net = Hopfield_Net(X)\n",
    "hop_net.update_type = 'asyn'\n",
    "\n",
    "conv_01 = []\n",
    "bias_01 = [0.01, 0.1, 0.3, 0.5, 0.7, 0.9, 1, 2, 3, 4, 5]\n",
    "for bias in bias_01:\n",
    "    hop_net.nr_converge = 0\n",
    "    for x_id in tqdm(range(hop_net.N)):\n",
    "        hop_net.bias = bias\n",
    "        hop_net.net_out(np.copy(hop_net.X[:,x_id].reshape(1, hop_net.D)))\n",
    "    print(\"Number of stored (out of 300): {}, with bias: {}\".format(hop_net.nr_converge, bias))\n",
    "    conv_01.append(hop_net.nr_converge)\n"
   ]
  },
  {
   "cell_type": "markdown",
   "metadata": {},
   "source": [
    "0.1 act => 249-277"
   ]
  },
  {
   "cell_type": "code",
   "execution_count": 125,
   "metadata": {},
   "outputs": [
    {
     "data": {
      "text/plain": [
       "0.1"
      ]
     },
     "execution_count": 125,
     "metadata": {},
     "output_type": "execute_result"
    }
   ],
   "source": [
    "hop_net.avg_act"
   ]
  },
  {
   "cell_type": "code",
   "execution_count": 126,
   "metadata": {},
   "outputs": [
    {
     "name": "stderr",
     "output_type": "stream",
     "text": [
      "100%|██████████| 300/300 [00:00<00:00, 874.53it/s]\n",
      " 29%|██▊       | 86/300 [00:00<00:00, 856.84it/s]"
     ]
    },
    {
     "name": "stdout",
     "output_type": "stream",
     "text": [
      "Number of stored (out of 300): 296, with bias: 0.01\n"
     ]
    },
    {
     "name": "stderr",
     "output_type": "stream",
     "text": [
      "100%|██████████| 300/300 [00:00<00:00, 912.36it/s]\n",
      " 62%|██████▏   | 185/300 [00:00<00:00, 919.56it/s]"
     ]
    },
    {
     "name": "stdout",
     "output_type": "stream",
     "text": [
      "Number of stored (out of 300): 299, with bias: 0.1\n"
     ]
    },
    {
     "name": "stderr",
     "output_type": "stream",
     "text": [
      "100%|██████████| 300/300 [00:00<00:00, 919.68it/s]\n",
      " 63%|██████▎   | 190/300 [00:00<00:00, 946.47it/s]"
     ]
    },
    {
     "name": "stdout",
     "output_type": "stream",
     "text": [
      "Number of stored (out of 300): 297, with bias: 0.3\n"
     ]
    },
    {
     "name": "stderr",
     "output_type": "stream",
     "text": [
      "100%|██████████| 300/300 [00:00<00:00, 933.66it/s]\n",
      " 31%|███       | 92/300 [00:00<00:00, 916.79it/s]"
     ]
    },
    {
     "name": "stdout",
     "output_type": "stream",
     "text": [
      "Number of stored (out of 300): 298, with bias: 0.5\n"
     ]
    },
    {
     "name": "stderr",
     "output_type": "stream",
     "text": [
      "100%|██████████| 300/300 [00:00<00:00, 717.46it/s]\n",
      " 52%|█████▏    | 156/300 [00:00<00:00, 774.26it/s]"
     ]
    },
    {
     "name": "stdout",
     "output_type": "stream",
     "text": [
      "Number of stored (out of 300): 292, with bias: 0.7\n"
     ]
    },
    {
     "name": "stderr",
     "output_type": "stream",
     "text": [
      "100%|██████████| 300/300 [00:00<00:00, 760.83it/s]\n",
      " 26%|██▌       | 77/300 [00:00<00:00, 769.09it/s]"
     ]
    },
    {
     "name": "stdout",
     "output_type": "stream",
     "text": [
      "Number of stored (out of 300): 299, with bias: 0.9\n"
     ]
    },
    {
     "name": "stderr",
     "output_type": "stream",
     "text": [
      "100%|██████████| 300/300 [00:00<00:00, 842.83it/s]\n",
      " 62%|██████▏   | 185/300 [00:00<00:00, 917.79it/s]"
     ]
    },
    {
     "name": "stdout",
     "output_type": "stream",
     "text": [
      "Number of stored (out of 300): 298, with bias: 1\n"
     ]
    },
    {
     "name": "stderr",
     "output_type": "stream",
     "text": [
      "100%|██████████| 300/300 [00:00<00:00, 905.68it/s]\n",
      " 29%|██▉       | 87/300 [00:00<00:00, 866.02it/s]"
     ]
    },
    {
     "name": "stdout",
     "output_type": "stream",
     "text": [
      "Number of stored (out of 300): 295, with bias: 2\n"
     ]
    },
    {
     "name": "stderr",
     "output_type": "stream",
     "text": [
      "100%|██████████| 300/300 [00:00<00:00, 876.08it/s]\n",
      " 32%|███▏      | 97/300 [00:00<00:00, 962.72it/s]"
     ]
    },
    {
     "name": "stdout",
     "output_type": "stream",
     "text": [
      "Number of stored (out of 300): 299, with bias: 3\n"
     ]
    },
    {
     "name": "stderr",
     "output_type": "stream",
     "text": [
      "100%|██████████| 300/300 [00:00<00:00, 921.85it/s]\n",
      " 31%|███       | 92/300 [00:00<00:00, 918.54it/s]"
     ]
    },
    {
     "name": "stdout",
     "output_type": "stream",
     "text": [
      "Number of stored (out of 300): 296, with bias: 4\n"
     ]
    },
    {
     "name": "stderr",
     "output_type": "stream",
     "text": [
      "100%|██████████| 300/300 [00:00<00:00, 919.61it/s]"
     ]
    },
    {
     "name": "stdout",
     "output_type": "stream",
     "text": [
      "Number of stored (out of 300): 296, with bias: 5\n"
     ]
    },
    {
     "name": "stderr",
     "output_type": "stream",
     "text": [
      "\n"
     ]
    }
   ],
   "source": [
    "from tqdm import tqdm\n",
    "act_percent = 0.01\n",
    "X = sparse_pattern(100, act_percent).T\n",
    "for p in range(299):\n",
    "    x = sparse_pattern(100, act_percent)\n",
    "    X = np.concatenate((X, x.T), axis = 1)\n",
    "\n",
    "hop_net = Hopfield_Net(X)\n",
    "hop_net.update_type = 'asyn'\n",
    "\n",
    "conv_001 = []\n",
    "bias_001 = [0.01, 0.1, 0.3, 0.5, 0.7, 0.9, 1, 2, 3, 4, 5]\n",
    "for bias in bias_001:\n",
    "    hop_net.nr_converge = 0\n",
    "    for x_id in tqdm(range(hop_net.N)):\n",
    "        hop_net.bias = bias\n",
    "        hop_net.net_out(np.copy(hop_net.X[:,x_id].reshape(1, hop_net.D)))\n",
    "    print(\"Number of stored (out of 300): {}, with bias: {}\".format(hop_net.nr_converge, bias))\n",
    "    conv_001.append(hop_net.nr_converge)\n"
   ]
  },
  {
   "cell_type": "code",
   "execution_count": 127,
   "metadata": {},
   "outputs": [
    {
     "name": "stderr",
     "output_type": "stream",
     "text": [
      "100%|██████████| 300/300 [00:00<00:00, 637.77it/s]\n",
      " 22%|██▏       | 65/300 [00:00<00:00, 649.08it/s]"
     ]
    },
    {
     "name": "stdout",
     "output_type": "stream",
     "text": [
      "Number of stored (out of 300): 233, with bias: 0.01\n"
     ]
    },
    {
     "name": "stderr",
     "output_type": "stream",
     "text": [
      "100%|██████████| 300/300 [00:00<00:00, 637.29it/s]\n",
      " 42%|████▏     | 127/300 [00:00<00:00, 624.44it/s]"
     ]
    },
    {
     "name": "stdout",
     "output_type": "stream",
     "text": [
      "Number of stored (out of 300): 232, with bias: 0.1\n"
     ]
    },
    {
     "name": "stderr",
     "output_type": "stream",
     "text": [
      "100%|██████████| 300/300 [00:00<00:00, 635.08it/s]\n",
      " 45%|████▌     | 136/300 [00:00<00:00, 699.96it/s]"
     ]
    },
    {
     "name": "stdout",
     "output_type": "stream",
     "text": [
      "Number of stored (out of 300): 228, with bias: 0.3\n"
     ]
    },
    {
     "name": "stderr",
     "output_type": "stream",
     "text": [
      "100%|██████████| 300/300 [00:00<00:00, 707.57it/s]\n",
      " 27%|██▋       | 82/300 [00:00<00:00, 819.07it/s]"
     ]
    },
    {
     "name": "stdout",
     "output_type": "stream",
     "text": [
      "Number of stored (out of 300): 254, with bias: 0.5\n"
     ]
    },
    {
     "name": "stderr",
     "output_type": "stream",
     "text": [
      "100%|██████████| 300/300 [00:00<00:00, 768.08it/s]\n",
      " 52%|█████▏    | 157/300 [00:00<00:00, 744.23it/s]"
     ]
    },
    {
     "name": "stdout",
     "output_type": "stream",
     "text": [
      "Number of stored (out of 300): 265, with bias: 0.7\n"
     ]
    },
    {
     "name": "stderr",
     "output_type": "stream",
     "text": [
      "100%|██████████| 300/300 [00:00<00:00, 611.89it/s]\n",
      " 56%|█████▌    | 167/300 [00:00<00:00, 826.66it/s]"
     ]
    },
    {
     "name": "stdout",
     "output_type": "stream",
     "text": [
      "Number of stored (out of 300): 257, with bias: 0.9\n"
     ]
    },
    {
     "name": "stderr",
     "output_type": "stream",
     "text": [
      "100%|██████████| 300/300 [00:00<00:00, 692.55it/s]\n",
      " 50%|█████     | 151/300 [00:00<00:00, 717.23it/s]"
     ]
    },
    {
     "name": "stdout",
     "output_type": "stream",
     "text": [
      "Number of stored (out of 300): 273, with bias: 1\n"
     ]
    },
    {
     "name": "stderr",
     "output_type": "stream",
     "text": [
      "100%|██████████| 300/300 [00:00<00:00, 765.82it/s]\n",
      " 41%|████      | 122/300 [00:00<00:00, 614.22it/s]"
     ]
    },
    {
     "name": "stdout",
     "output_type": "stream",
     "text": [
      "Number of stored (out of 300): 278, with bias: 2\n"
     ]
    },
    {
     "name": "stderr",
     "output_type": "stream",
     "text": [
      "100%|██████████| 300/300 [00:00<00:00, 701.12it/s]\n",
      " 58%|█████▊    | 174/300 [00:00<00:00, 848.43it/s]"
     ]
    },
    {
     "name": "stdout",
     "output_type": "stream",
     "text": [
      "Number of stored (out of 300): 287, with bias: 3\n"
     ]
    },
    {
     "name": "stderr",
     "output_type": "stream",
     "text": [
      "100%|██████████| 300/300 [00:00<00:00, 807.05it/s]\n",
      " 45%|████▍     | 134/300 [00:00<00:00, 626.77it/s]"
     ]
    },
    {
     "name": "stdout",
     "output_type": "stream",
     "text": [
      "Number of stored (out of 300): 286, with bias: 4\n"
     ]
    },
    {
     "name": "stderr",
     "output_type": "stream",
     "text": [
      "100%|██████████| 300/300 [00:00<00:00, 740.32it/s]"
     ]
    },
    {
     "name": "stdout",
     "output_type": "stream",
     "text": [
      "Number of stored (out of 300): 282, with bias: 5\n"
     ]
    },
    {
     "name": "stderr",
     "output_type": "stream",
     "text": [
      "\n"
     ]
    }
   ],
   "source": [
    "from tqdm import tqdm\n",
    "act_percent = 0.05\n",
    "X = sparse_pattern(100, act_percent).T\n",
    "for p in range(299):\n",
    "    x = sparse_pattern(100, act_percent)\n",
    "    X = np.concatenate((X, x.T), axis = 1)\n",
    "\n",
    "hop_net = Hopfield_Net(X)\n",
    "hop_net.update_type = 'asyn'\n",
    "\n",
    "conv_005 = []\n",
    "bias_005 = [0.01, 0.1, 0.3, 0.5, 0.7, 0.9, 1, 2, 3, 4, 5]\n",
    "for bias in bias_005:\n",
    "    hop_net.nr_converge = 0\n",
    "    for x_id in tqdm(range(hop_net.N)):\n",
    "        hop_net.bias = bias\n",
    "        hop_net.net_out(np.copy(hop_net.X[:,x_id].reshape(1, hop_net.D)))\n",
    "    print(\"Number of stored (out of 300): {}, with bias: {}\".format(hop_net.nr_converge, bias))\n",
    "    conv_005.append(hop_net.nr_converge)\n",
    "\n"
   ]
  },
  {
   "cell_type": "markdown",
   "metadata": {},
   "source": [
    "0.01 act => 295-299"
   ]
  },
  {
   "cell_type": "code",
   "execution_count": 128,
   "metadata": {},
   "outputs": [
    {
     "data": {
      "text/plain": [
       "0.05"
      ]
     },
     "execution_count": 128,
     "metadata": {},
     "output_type": "execute_result"
    }
   ],
   "source": [
    "hop_net.avg_act"
   ]
  },
  {
   "cell_type": "code",
   "execution_count": 129,
   "metadata": {},
   "outputs": [
    {
     "data": {
      "image/png": "[encoded data removed]",
      "text/plain": [
       "<Figure size 432x288 with 1 Axes>"
      ]
     },
     "metadata": {
      "needs_background": "light"
     },
     "output_type": "display_data"
    }
   ],
   "source": [
    "plt.plot(bias_01, conv_01, label = \"Activation 0.1\")\n",
    "plt.plot(bias_005, conv_005, label = \"Activation 0.05\")\n",
    "plt.plot(bias_001, conv_001, label = \"Activation 0.01\")\n",
    "plt.legend(loc = \"lower right\")\n",
    "plt.xlabel(\"Bias\")\n",
    "plt.ylabel(\"Number of stored (out of 300)\")\n",
    "plt.title(\"Stored patterns for different bias\")\n",
    "plt.show()"
   ]
  },
  {
   "cell_type": "code",
   "execution_count": 135,
   "metadata": {},
   "outputs": [
    {
     "data": {
      "text/plain": [
       "array([[0., 0., 0., 0., 0., 0., 0., 0., 0., 0., 0., 0., 0., 0., 0., 0.,\n",
       "        0., 0., 0., 0., 0., 0., 0., 0., 0., 0., 0., 0., 0., 0., 0., 0.,\n",
       "        0., 0., 0., 0., 0., 0., 0., 0., 0., 0., 0., 0., 0., 0., 0., 0.,\n",
       "        0., 0., 0., 0., 0., 0., 0., 0., 0., 0., 0., 0., 0., 0., 0., 0.,\n",
       "        0., 0., 0., 0., 0., 0., 0., 0., 0., 0., 0., 0., 0., 0., 0., 0.,\n",
       "        0., 0., 0., 0., 0., 0., 0., 0., 0., 0., 0., 0., 0., 0., 0., 0.,\n",
       "        0., 0., 0., 0.]])"
      ]
     },
     "execution_count": 135,
     "metadata": {},
     "output_type": "execute_result"
    }
   ],
   "source": [
    "hop_net.net_out(np.copy(hop_net.X[:,5].reshape(1, hop_net.D))) - hop_net.X[:,5].reshape(1, hop_net.D)"
   ]
  },
  {
   "cell_type": "code",
   "execution_count": 110,
   "metadata": {},
   "outputs": [],
   "source": [
    "test = np.copy(hop_net.X[:,3].reshape(1, hop_net.D))"
   ]
  },
  {
   "cell_type": "code",
   "execution_count": 111,
   "metadata": {},
   "outputs": [],
   "source": [
    "test[0][0] = 0"
   ]
  },
  {
   "cell_type": "code",
   "execution_count": 112,
   "metadata": {},
   "outputs": [
    {
     "data": {
      "text/plain": [
       "array([[0., 0., 1., 0., 0., 0., 0., 0., 0., 0., 0., 0., 0., 1., 0., 0.,\n",
       "        0., 0., 0., 0., 0., 0., 1., 0., 0., 0., 1., 0., 0., 0., 0., 0.,\n",
       "        0., 0., 0., 0., 0., 0., 0., 0., 0., 0., 0., 0., 0., 0., 0., 0.,\n",
       "        0., 0., 0., 0., 0., 0., 0., 0., 0., 0., 0., 0., 0., 0., 0., 0.,\n",
       "        0., 0., 0., 0., 0., 0., 0., 0., 0., 0., 0., 0., 0., 0., 0., 0.,\n",
       "        0., 0., 0., 0., 0., 0., 0., 0., 0., 1., 0., 0., 0., 0., 0., 0.,\n",
       "        0., 0., 0., 1.]])"
      ]
     },
     "execution_count": 112,
     "metadata": {},
     "output_type": "execute_result"
    }
   ],
   "source": [
    "hop_net.net_out(np.copy(test))"
   ]
  },
  {
   "cell_type": "code",
   "execution_count": null,
   "metadata": {},
   "outputs": [],
   "source": []
  }
 ],
 "metadata": {
  "kernelspec": {
   "display_name": "Python 3",
   "language": "python",
   "name": "python3"
  },
  "language_info": {
   "codemirror_mode": {
    "name": "ipython",
    "version": 3
   },
   "file_extension": ".py",
   "mimetype": "text/x-python",
   "name": "python",
   "nbconvert_exporter": "python",
   "pygments_lexer": "ipython3",
   "version": "3.7.3"
  }
 },
 "nbformat": 4,
 "nbformat_minor": 2
}
