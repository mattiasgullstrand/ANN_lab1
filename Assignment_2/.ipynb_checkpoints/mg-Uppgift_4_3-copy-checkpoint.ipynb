{
 "cells": [
  {
   "cell_type": "code",
   "execution_count": 36,
   "metadata": {},
   "outputs": [
    {
     "name": "stdout",
     "output_type": "stream",
     "text": [
      "(10, 10, 31)\n"
     ]
    },
    {
     "data": {
      "image/png": "[encoded data removed]",
      "text/plain": [
       "<Figure size 432x288 with 1 Axes>"
      ]
     },
     "metadata": {
      "needs_background": "light"
     },
     "output_type": "display_data"
    }
   ],
   "source": [
    "import numpy as np\n",
    "import matplotlib.pyplot as plt\n",
    "\n",
    "class SOMmp:\n",
    "    def __init__(self, nrOutputNodes, nrFetures, data, nrSamples, stepSize):\n",
    "        self.weights = np.random.random((nrOutputNodes,nrOutputNodes,nrFetures)) # 10st 10x31 matriser\n",
    "        self.data = data\n",
    "        self.nrOutputNodes = nrOutputNodes\n",
    "        self.nrSamples = nrSamples\n",
    "        self.stepSize = stepSize\n",
    "\n",
    "    def findMostSimularNode(self, sample):\n",
    "        distances = np.zeros(self.nrOutputNodes*self.nrOutputNodes)\n",
    "        \n",
    "        for i in range(self.nrOutputNodes):\n",
    "            for j in range(self.nrOutputNodes):\n",
    "                difference = sample - self.weights[i][j]\n",
    "                distances[i*10 + j] = np.dot(difference.T, difference)\n",
    "        \n",
    "        winnerNode = distances.argmin()\n",
    "        # [i] ger i:te klustret, [j] ger j:te raden inuti i:te klustret\n",
    "        return winnerNode\n",
    "\n",
    "    def updateWeights(self, sample, winnerNode, neighbourhood):\n",
    "        start_i = max(winnerNode[0] - neighbourhood,0)\n",
    "        start_j = max(winnerNode[1] - neighbourhood,0)\n",
    "        end_i = min(winnerNode[0] + neighbourhood,self.nrOutputNodes)\n",
    "        end_j = min(winnerNode[1] + neighbourhood,self.nrOutputNodes)\n",
    "        \n",
    "        for i in range(start_i, end_i):\n",
    "            for j in range(start_j,end_j):\n",
    "                deltaW = sample - self.weights[i][j]\n",
    "                self.weights[i][j] = self.weights[i][j] + (0.2*deltaW)\n",
    "\n",
    "    def run(self, neighbourhood):\n",
    "        pos = np.zeros(self.nrSamples)\n",
    "        new_pos = np.zeros((self.nrSamples,2))\n",
    "        count = 0\n",
    "        \n",
    "        for sample in self.data:\n",
    "            winNode = self.findMostSimularNode(sample) # index\n",
    "            pos[count] = winNode\n",
    "            count = count + 1\n",
    "            if winNode < 10:\n",
    "                winnerNode = [0, winNode]\n",
    "            else:\n",
    "                strWinNode = str(winNode)\n",
    "                winnerNode = [int(strWinNode[0]),int(strWinNode[1])]\n",
    "            \n",
    "            self.updateWeights(sample, winnerNode, neighbourhood)\n",
    "            \n",
    "        return pos\n",
    "    \n",
    "# Coding: 0=no party, 1='m', 2='fp', 3='s', 4='v', 5='mp', 6='kd', 7='c'\n",
    "# Use some color scheme for these different groups\n",
    "# Coding: Male 0, Female 1\n",
    "\n",
    "def readVotes(array):\n",
    "    arr = np.copy(array)\n",
    "    \n",
    "    with open('data_lab2/votes.dat','r') as f:\n",
    "        MP_file = f.readlines()\n",
    "        MP_file = [x.strip() for x in MP_file]\n",
    "        MP_votes = MP_file[0].split(',')\n",
    "        \n",
    "    for MP in range(arr.shape[0]):\n",
    "        for vote in range(arr.shape[1]):\n",
    "            arr[MP][vote] = MP_votes[MP+vote]\n",
    "\n",
    "    return arr\n",
    "\n",
    "def readList(MP, path):\n",
    "    arr = np.zeros(MP)\n",
    "    #coding = 0=no party, 1='m', 2='fp', 3='s', 4='v', 5='mp', 6='kd', 7='c'\n",
    "    \n",
    "    with open(path,'r') as f:\n",
    "        attribute_file = f.readlines()\n",
    "        attribute_file = [x.strip() for x in attribute_file]        \n",
    "        \n",
    "    for i in range(len(arr)):\n",
    "        arr[i] = attribute_file[i]\n",
    "        \n",
    "    return arr\n",
    "\n",
    "def plotParty(mp_party,selfOrgMap,mp_votes):\n",
    "    mpParty_sorted = np.zeros(len(mp_party))\n",
    "#     sorted_indices = np.argsort(organizedMap)\n",
    "\n",
    "#     for k in range(len(mp_party)):\n",
    "#         mpParty_sorted[k] = mp_party[sorted_indices[k]]\n",
    "    for i in range(10):\n",
    "        for j in range(10):\n",
    "            # find closest input to weight\n",
    "            shortestDistance = 1000000000\n",
    "            voteIndex = -1\n",
    "            for k in range(349):\n",
    "                difference = np.subtract(mp_votes[k], selfOrgMap.weights[i][j])\n",
    "                distanceTemp = np.dot(difference.T, difference)\n",
    "                if shortestDistance > distanceTemp:\n",
    "                    shortestDistance = distanceTemp\n",
    "                    voteIndex = k\n",
    "                    \n",
    "            if mp_party[voteIndex] == 1:\n",
    "                plt.plot(i, j, color='#000099', marker='o', label='m')\n",
    "            elif mp_party[voteIndex] == 2:\n",
    "                plt.plot(i, j, color='#66ccff', marker='o', label='fp')\n",
    "            elif mp_party[voteIndex] == 3:\n",
    "                plt.plot(i, j, color='#ff0000', marker='o', label='s')\n",
    "            elif mp_party[voteIndex] == 4:\n",
    "                plt.plot(i, j, color='#ff3399', marker='o', label='v')\n",
    "            elif mp_party[voteIndex] == 5:\n",
    "                plt.plot(i, j, color='#003300', marker='o', label='mp')\n",
    "            elif mp_party[voteIndex] == 6:\n",
    "                plt.plot(i, j, color='#336699', marker='o', label='kd')\n",
    "            elif mp_party[voteIndex] == 7:\n",
    "                plt.plot(i, j, color='#00cc99', marker='o', label='c')\n",
    "            else:\n",
    "                plt.plot(i, j, color='#000000', marker='o', label='no party')\n",
    "    plt.show()\n",
    "            \n",
    "            \n",
    "    \n",
    "def topologyOrderingCities():\n",
    "    outputNodesDim = 10\n",
    "    features = 31\n",
    "    MP = 349\n",
    "\n",
    "    props = np.zeros((MP,features))\n",
    "    props = readVotes(props)\n",
    "    \n",
    "    selfOrgMap = SOMmp(outputNodesDim, features, props, MP, 0.2)\n",
    "    \n",
    "    epochs = 20\n",
    "    startNeighbours = 8\n",
    "    for epoch in range(epochs):\n",
    "        nrNeighbours = round((startNeighbours - (epoch * startNeighbours/ (epochs-1)))/2)\n",
    "        organizedMap = selfOrgMap.run(nrNeighbours)\n",
    "    \n",
    "    print(selfOrgMap.weights.shape)\n",
    "    path = 'data_lab2/mpparty.dat'\n",
    "    #mpData = readList(MP,path)\n",
    "    plotParty(t,selfOrgMap,props)\n",
    "    #plotParty(t,organizedMap,props)\n",
    "    \n",
    "topologyOrderingCities()"
   ]
  },
  {
   "cell_type": "code",
   "execution_count": 14,
   "metadata": {},
   "outputs": [],
   "source": [
    "t = np.array(['1', '2', '1', '1', '3', '1', '4', '3', '5', '2', '6', '3', '3', '1', '4', '6', '4', '2', '3', '2', '3', '1', '3', '1', '3', '2', '3', '2', '5', '3', '2', '3', '0', '3', '6', '1', '6', '1', '1', '2', '3', '3', '3', '3', '3', '3', '1', '6', '1', '3', '3', '1', '2', '5', '4', '3', '1', '2', '2', '4', '7', '2', '1', '1', '5', '2', '2', '3', '1', '4', '7', '3', '1', '3', '3', '6', '5', '3', '2', '2', '1', '3', '3', '3', '3', '6', '3', '5', '4', '2', '7', '1', '3', '4', '3', '3', '5', '6', '7', '1', '3', '6', '1', '2', '3', '3', '3', '2', '1', '6', '6', '3', '3', '4', '3', '7', '3', '6', '3', '1', '2', '1', '7', '3', '3', '3', '6', '2', '7', '6', '3', '1', '4', '3', '3', '3', '2', '3', '3', '3', '3', '1', '6', '2', '3', '3', '3', '3', '3', '4', '3', '1', '2', '1', '3', '6', '1', '3', '3', '4', '3', '2', '2', '1', '3', '3', '3', '3', '2', '4', '3', '1', '1', '6', '1', '2', '5', '7', '1', '6', '3', '4', '3', '2', '3', '7', '1', '3', '3', '3', '3', '3', '3', '2', '4', '6', '2', '1', '7', '1', '3', '2', '4', '3', '2', '3', '1', '1', '4', '6', '1', '5', '6', '3', '3', '3', '2', '2', '3', '4', '1', '1', '3', '6', '7', '3', '2', '5', '2', '3', '3', '3', '5', '3', '1', '6', '3', '4', '2', '3', '7', '3', '3', '3', '2', '6', '1', '7', '3', '7', '6', '4', '3', '3', '3', '2', '1', '3', '3', '4', '3', '7', '2', '6', '1', '5', '3', '3', '3', '3', '3', '1', '4', '5', '2', '7', '3', '6', '3', '3', '3', '2', '1', '3', '3', '3', '7', '4', '6', '3', '3', '1', '2', '7', '5', '3', '3', '4', '6', '3', '3', '1', '3', '4', '7', '3', '3', '6', '5', '3', '2', '3', '3', '3', '3', '3', '7', '4', '6', '2', '1', '3', '3', '3', '1', '4', '7', '3', '3', '3', '4', '2', '3', '6', '1', '5', '3', '7', '3', '3', '3', '4', '5', '6', '3', '3', '3', '1', '2'])"
   ]
  },
  {
   "cell_type": "code",
   "execution_count": 15,
   "metadata": {},
   "outputs": [
    {
     "data": {
      "text/plain": [
       "349"
      ]
     },
     "execution_count": 15,
     "metadata": {},
     "output_type": "execute_result"
    }
   ],
   "source": [
    "len(t)"
   ]
  },
  {
   "cell_type": "code",
   "execution_count": 23,
   "metadata": {},
   "outputs": [],
   "source": [
    "t = [int(i) for i in t]"
   ]
  },
  {
   "cell_type": "code",
   "execution_count": null,
   "metadata": {},
   "outputs": [],
   "source": []
  }
 ],
 "metadata": {
  "kernelspec": {
   "display_name": "Python 3",
   "language": "python",
   "name": "python3"
  },
  "language_info": {
   "codemirror_mode": {
    "name": "ipython",
    "version": 3
   },
   "file_extension": ".py",
   "mimetype": "text/x-python",
   "name": "python",
   "nbconvert_exporter": "python",
   "pygments_lexer": "ipython3",
   "version": "3.7.3"
  }
 },
 "nbformat": 4,
 "nbformat_minor": 4
}
