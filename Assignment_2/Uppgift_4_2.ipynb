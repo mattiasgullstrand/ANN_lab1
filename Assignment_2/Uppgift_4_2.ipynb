{
 "cells": [
  {
   "cell_type": "code",
   "execution_count": 133,
   "metadata": {},
   "outputs": [
    {
     "name": "stdout",
     "output_type": "stream",
     "text": [
      "[3. 1. 2. 4. 5. 7. 7. 8. 9. 0.]\n"
     ]
    },
    {
     "data": {
      "image/png": "[encoded data removed]",
      "text/plain": [
       "<Figure size 432x288 with 1 Axes>"
      ]
     },
     "metadata": {
      "needs_background": "light"
     },
     "output_type": "display_data"
    }
   ],
   "source": [
    "import numpy as np\n",
    "import matplotlib.pyplot as plt\n",
    "\n",
    "class SOM:\n",
    "    def __init__(self, nrOutputNodes, nrFetures, data, nrSamples, stepSize):\n",
    "        self.weights = np.random.random((nrOutputNodes,nrFetures))\n",
    "        self.data = data\n",
    "        self.nrOutputNodes = nrOutputNodes\n",
    "        self.nrSamples = nrSamples\n",
    "        self.stepSize = stepSize\n",
    "\n",
    "    def findMostSimularNode(self, sample):\n",
    "        distances = np.zeros(self.nrOutputNodes)\n",
    "        \n",
    "        for node_index in range(self.nrOutputNodes):         # Measure simularity\n",
    "            differences = sample - self.weights[node_index]\n",
    "            distances[node_index] = np.dot(differences.T, differences)\n",
    "        winnerNode = distances.argmin()\n",
    "        return winnerNode\n",
    "\n",
    "    def updateWeightsCyclic(self, sample, winnerNode, neighbourhood):\n",
    "        start = winnerNode - neighbourhood\n",
    "        end = winnerNode + neighbourhood\n",
    "        \n",
    "        for i in range(start, end):\n",
    "            deltaW = sample - self.weights[i%self.weights.shape[0]]\n",
    "            self.weights[i%self.weights.shape[0]] = self.weights[i%self.weights.shape[0]] + (self.stepSize*deltaW)\n",
    "\n",
    "    def run(self, neighbourhood):\n",
    "        pos = np.zeros(self.data.shape[0])\n",
    "        count = 0\n",
    "        \n",
    "        for sample in self.data:\n",
    "            winnerNode = self.findMostSimularNode(sample) # index\n",
    "            pos[count] = winnerNode\n",
    "            count = count + 1\n",
    "            self.updateWeightsCyclic(sample, winnerNode, neighbourhood)\n",
    "\n",
    "        return pos\n",
    "\n",
    "def readCities(city_coord, path):\n",
    "    f = open(path, 'r')\n",
    "    cities = f.readlines()\n",
    "    cities = [x.strip() for x in cities]\n",
    "    \n",
    "    cityNr = 0\n",
    "    for coordinate in cities:\n",
    "        city_coord[cityNr][0], city_coord[cityNr][1] = coordinate.split(', ')\n",
    "        cityNr += 1\n",
    "\n",
    "    return city_coord\n",
    "\n",
    "def getResult(organizedMap,selfOrgMap):\n",
    "    tour = np.zeros((selfOrgMap.weights.shape[0],selfOrgMap.weights.shape[1]))\n",
    "\n",
    "\n",
    "def topologyOrderingCities():\n",
    "    outputNodes = 10\n",
    "    features = 2\n",
    "    cities = 10\n",
    "\n",
    "    props = np.zeros((cities,features))\n",
    "    path = 'cities.dat'\n",
    "    props = readCities(props, path)\n",
    "    plt.plot(props[:,0],props[:,1],'bo')\n",
    "    \n",
    "    selfOrgMap = SOM(outputNodes, features, props, cities, 0.2)\n",
    "    \n",
    "    ephocs = 20\n",
    "    nrNeighbours = 2\n",
    "    for epoch in range(ephocs):\n",
    "        if epoch == 5:\n",
    "            nrNeighbours = 1\n",
    "        elif epoch == 10:\n",
    "            nrNeighbours = 0\n",
    "        organizedMap = selfOrgMap.run(nrNeighbours)\n",
    "    print(organizedMap)\n",
    "\n",
    "    cities_path = getResult(organizedMap,selfOrgMap)\n",
    "    plt.plot(selfOrgMap.weights[:,0],selfOrgMap.weights[:,1],'ro')\n",
    "    plt.plot(selfOrgMap.weights[:,0],selfOrgMap.weights[:,1])\n",
    "    plt.plot((selfOrgMap.weights[0,0],selfOrgMap.weights[selfOrgMap.weights.shape[0]-1,0]),(selfOrgMap.weights[0,1],selfOrgMap.weights[selfOrgMap.weights.shape[0]-1,1]),'b')\n",
    "    plt.show()\n",
    "\n",
    "\n",
    "topologyOrderingCities()"
   ]
  },
  {
   "cell_type": "code",
   "execution_count": null,
   "metadata": {},
   "outputs": [],
   "source": []
  }
 ],
 "metadata": {
  "kernelspec": {
   "display_name": "Python 3",
   "language": "python",
   "name": "python3"
  },
  "language_info": {
   "codemirror_mode": {
    "name": "ipython",
    "version": 3
   },
   "file_extension": ".py",
   "mimetype": "text/x-python",
   "name": "python",
   "nbconvert_exporter": "python",
   "pygments_lexer": "ipython3",
   "version": "3.7.4"
  }
 },
 "nbformat": 4,
 "nbformat_minor": 4
}
