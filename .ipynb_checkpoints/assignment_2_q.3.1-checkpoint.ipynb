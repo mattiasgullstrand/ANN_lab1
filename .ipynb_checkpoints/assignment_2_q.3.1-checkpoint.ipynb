{
 "cells": [
  {
   "cell_type": "code",
   "execution_count": 1,
   "metadata": {},
   "outputs": [],
   "source": [
    "from RBF_Net import RBF_Net\n",
    "import math\n",
    "import numpy as np\n",
    "import matplotlib.pyplot as plt"
   ]
  },
  {
   "cell_type": "code",
   "execution_count": 2,
   "metadata": {},
   "outputs": [],
   "source": [
    "X_train = np.arange(0, 2*math.pi, 0.1)\n",
    "X_train = X_train.reshape(1, X_train.shape[0])\n",
    "\n",
    "X_test = np.arange(0.05, 2*math.pi, 0.1)\n",
    "X_test = X_test.reshape(1, X_test.shape[0])"
   ]
  },
  {
   "cell_type": "code",
   "execution_count": 3,
   "metadata": {},
   "outputs": [],
   "source": [
    "def sin_2(x):\n",
    "    return np.sin(2*x)"
   ]
  },
  {
   "cell_type": "code",
   "execution_count": 4,
   "metadata": {},
   "outputs": [],
   "source": [
    "f_train = sin_2(X_train)\n",
    "f_test = sin_2(X_test)"
   ]
  },
  {
   "cell_type": "code",
   "execution_count": 5,
   "metadata": {},
   "outputs": [
    {
     "data": {
      "text/plain": [
       "array([[ 0.        ,  0.19866933,  0.38941834,  0.56464247,  0.71735609,\n",
       "         0.84147098,  0.93203909,  0.98544973,  0.9995736 ,  0.97384763,\n",
       "         0.90929743,  0.8084964 ,  0.67546318,  0.51550137,  0.33498815,\n",
       "         0.14112001, -0.05837414, -0.2555411 , -0.44252044, -0.61185789,\n",
       "        -0.7568025 , -0.87157577, -0.95160207, -0.993691  , -0.99616461,\n",
       "        -0.95892427, -0.88345466, -0.77276449, -0.63126664, -0.46460218,\n",
       "        -0.2794155 , -0.0830894 ,  0.1165492 ,  0.31154136,  0.49411335,\n",
       "         0.6569866 ,  0.79366786,  0.8987081 ,  0.96791967,  0.99854335,\n",
       "         0.98935825,  0.94073056,  0.85459891,  0.7343971 ,  0.58491719,\n",
       "         0.41211849,  0.22288991,  0.02477543, -0.17432678, -0.36647913,\n",
       "        -0.54402111, -0.69987469, -0.82782647, -0.92277542, -0.98093623,\n",
       "        -0.99999021, -0.97917773, -0.91932853, -0.82282859, -0.69352508,\n",
       "        -0.53657292, -0.35822928, -0.16560418]])"
      ]
     },
     "execution_count": 5,
     "metadata": {},
     "output_type": "execute_result"
    }
   ],
   "source": [
    "f_train"
   ]
  },
  {
   "cell_type": "code",
   "execution_count": 6,
   "metadata": {},
   "outputs": [
    {
     "name": "stdout",
     "output_type": "stream",
     "text": [
      "weights (1, 1)\n",
      "63\n",
      "(1, 1)\n",
      "Number of nodes: 1, Error: 0.5700164614945218\n",
      "weights (2, 1)\n",
      "63\n",
      "(2, 1)\n",
      "Number of nodes: 2, Error: 0.5053704490266551\n",
      "weights (3, 1)\n",
      "63\n",
      "(3, 1)\n",
      "Number of nodes: 3, Error: 0.5054840359406021\n",
      "weights (4, 1)\n",
      "63\n",
      "(4, 1)\n",
      "Number of nodes: 4, Error: 0.38109852076837347\n",
      "weights (5, 1)\n",
      "63\n",
      "(5, 1)\n",
      "Number of nodes: 5, Error: 0.4390091604940275\n",
      "weights (6, 1)\n",
      "63\n",
      "(6, 1)\n",
      "Number of nodes: 6, Error: 0.0714816221093025\n",
      "weights (7, 1)\n",
      "63\n",
      "(7, 1)\n",
      "Number of nodes: 7, Error: 0.036163698296211334\n",
      "weights (8, 1)\n",
      "63\n",
      "(8, 1)\n",
      "Number of nodes: 8, Error: 0.010492746164593636\n",
      "weights (9, 1)\n",
      "63\n",
      "(9, 1)\n",
      "Number of nodes: 9, Error: 0.008406063356286061\n",
      "weights (10, 1)\n",
      "63\n",
      "(10, 1)\n",
      "Number of nodes: 10, Error: 0.0014598133929936924\n",
      "weights (11, 1)\n",
      "63\n",
      "(11, 1)\n",
      "Number of nodes: 11, Error: 0.001090883359391736\n",
      "weights (12, 1)\n",
      "63\n",
      "(12, 1)\n",
      "Number of nodes: 12, Error: 0.00011941225797053368\n",
      "weights (13, 1)\n",
      "63\n",
      "(13, 1)\n",
      "Number of nodes: 13, Error: 4.412667408617867e-05\n",
      "weights (14, 1)\n",
      "63\n",
      "(14, 1)\n",
      "Number of nodes: 14, Error: 4.677355038346682e-05\n",
      "weights (15, 1)\n",
      "63\n",
      "(15, 1)\n",
      "Number of nodes: 15, Error: 0.00023296961025228398\n",
      "weights (16, 1)\n",
      "63\n",
      "(16, 1)\n",
      "Number of nodes: 16, Error: 0.00011842576645030506\n",
      "weights (17, 1)\n",
      "63\n",
      "(17, 1)\n",
      "Number of nodes: 17, Error: 0.00010097551133798227\n",
      "weights (18, 1)\n",
      "63\n",
      "(18, 1)\n",
      "Number of nodes: 18, Error: 0.00023558536745277336\n",
      "weights (19, 1)\n",
      "63\n",
      "(19, 1)\n",
      "Number of nodes: 19, Error: 0.00016492471356641675\n",
      "weights (20, 1)\n",
      "63\n",
      "(20, 1)\n",
      "Number of nodes: 20, Error: 0.00011147415436788396\n",
      "weights (21, 1)\n",
      "63\n",
      "(21, 1)\n",
      "Number of nodes: 21, Error: 5.318697166464682e-05\n",
      "weights (22, 1)\n",
      "63\n",
      "(22, 1)\n",
      "Number of nodes: 22, Error: 5.629168525324643e-05\n",
      "weights (23, 1)\n",
      "63\n",
      "(23, 1)\n",
      "Number of nodes: 23, Error: 6.897201668540629e-05\n",
      "weights (24, 1)\n",
      "63\n",
      "(24, 1)\n",
      "Number of nodes: 24, Error: 7.115854111058256e-05\n",
      "weights (25, 1)\n",
      "63\n",
      "(25, 1)\n",
      "Number of nodes: 25, Error: 8.208153765324848e-05\n",
      "weights (26, 1)\n",
      "63\n",
      "(26, 1)\n",
      "Number of nodes: 26, Error: 6.048358470456668e-05\n",
      "weights (27, 1)\n",
      "63\n",
      "(27, 1)\n",
      "Number of nodes: 27, Error: 7.434376403100642e-05\n",
      "weights (28, 1)\n",
      "63\n",
      "(28, 1)\n",
      "Number of nodes: 28, Error: 0.00012778866391214752\n",
      "weights (29, 1)\n",
      "63\n",
      "(29, 1)\n",
      "Number of nodes: 29, Error: 8.055738324894531e-05\n",
      "weights (30, 1)\n",
      "63\n",
      "(30, 1)\n",
      "Number of nodes: 30, Error: 9.200213573815691e-05\n",
      "weights (31, 1)\n",
      "63\n",
      "(31, 1)\n",
      "Number of nodes: 31, Error: 7.515492736705882e-05\n",
      "weights (32, 1)\n",
      "63\n",
      "(32, 1)\n",
      "Number of nodes: 32, Error: 6.961019099751723e-05\n",
      "weights (33, 1)\n",
      "63\n",
      "(33, 1)\n",
      "Number of nodes: 33, Error: 6.487952349100533e-05\n",
      "weights (34, 1)\n",
      "63\n",
      "(34, 1)\n",
      "Number of nodes: 34, Error: 6.9143752165801e-05\n",
      "weights (35, 1)\n",
      "63\n",
      "(35, 1)\n",
      "Number of nodes: 35, Error: 6.010056665808024e-05\n",
      "weights (36, 1)\n",
      "63\n",
      "(36, 1)\n",
      "Number of nodes: 36, Error: 5.8237046049482246e-05\n",
      "weights (37, 1)\n",
      "63\n",
      "(37, 1)\n",
      "Number of nodes: 37, Error: 6.8582426281067e-05\n",
      "weights (38, 1)\n",
      "63\n",
      "(38, 1)\n",
      "Number of nodes: 38, Error: 6.227231522985986e-05\n",
      "weights (39, 1)\n",
      "63\n",
      "(39, 1)\n",
      "Number of nodes: 39, Error: 4.8215598615960964e-05\n",
      "weights (40, 1)\n",
      "63\n",
      "(40, 1)\n",
      "Number of nodes: 40, Error: 6.419538377111148e-05\n",
      "weights (41, 1)\n",
      "63\n",
      "(41, 1)\n",
      "Number of nodes: 41, Error: 6.747144199703228e-05\n",
      "weights (42, 1)\n",
      "63\n",
      "(42, 1)\n",
      "Number of nodes: 42, Error: 4.7940217903785136e-05\n",
      "weights (43, 1)\n",
      "63\n",
      "(43, 1)\n",
      "Number of nodes: 43, Error: 5.580449716663724e-05\n",
      "weights (44, 1)\n",
      "63\n",
      "(44, 1)\n",
      "Number of nodes: 44, Error: 4.614537719577106e-05\n",
      "weights (45, 1)\n",
      "63\n",
      "(45, 1)\n",
      "Number of nodes: 45, Error: 5.685205537351572e-05\n",
      "weights (46, 1)\n",
      "63\n",
      "(46, 1)\n",
      "Number of nodes: 46, Error: 4.671478167293059e-05\n",
      "weights (47, 1)\n",
      "63\n",
      "(47, 1)\n",
      "Number of nodes: 47, Error: 4.496357002838874e-05\n",
      "weights (48, 1)\n",
      "63\n",
      "(48, 1)\n",
      "Number of nodes: 48, Error: 5.138425278827125e-05\n",
      "weights (49, 1)\n",
      "63\n",
      "(49, 1)\n",
      "Number of nodes: 49, Error: 5.3401033066712494e-05\n"
     ]
    },
    {
     "data": {
      "text/plain": [
       "[<matplotlib.lines.Line2D at 0x120d3a7b8>]"
      ]
     },
     "execution_count": 6,
     "metadata": {},
     "output_type": "execute_result"
    },
    {
     "data": {
      "image/png": "[encoded data removed]",
      "text/plain": [
       "<Figure size 432x288 with 1 Axes>"
      ]
     },
     "metadata": {
      "needs_background": "light"
     },
     "output_type": "display_data"
    }
   ],
   "source": [
    "dim_list = list(range(1, 50))\n",
    "errors = []\n",
    "for H_dim in dim_list:\n",
    "    rbf_net = RBF_Net(X_train, f_train.T, H_dim, weight_learn = 'ls')\n",
    "    rbf_net.train()\n",
    "    f_approx = rbf_net.predict(X_test).flatten()\n",
    "    test_error = np.mean(np.abs(f_approx - f_test))\n",
    "    errors.append(test_error)\n",
    "    print(\"Number of nodes: {}, Error: {}\".format(H_dim, test_error))\n",
    "plt.plot(dim_list, errors)"
   ]
  },
  {
   "cell_type": "code",
   "execution_count": 18,
   "metadata": {},
   "outputs": [
    {
     "data": {
      "text/plain": [
       "[<matplotlib.lines.Line2D at 0x11da51da0>]"
      ]
     },
     "execution_count": 18,
     "metadata": {},
     "output_type": "execute_result"
    },
    {
     "data": {
      "image/png": "[encoded data removed]",
      "text/plain": [
       "<Figure size 432x288 with 1 Axes>"
      ]
     },
     "metadata": {
      "needs_background": "light"
     },
     "output_type": "display_data"
    }
   ],
   "source": [
    "rbf_net = RBF_Net(X_train, f_train.T, 6)\n",
    "rbf_net.train()\n",
    "f_approx = rbf_net.predict(X_test).flatten()\n",
    "plt.plot(X_test[0], f_test[0])\n",
    "plt.plot(X_test[0], f_approx)"
   ]
  },
  {
   "cell_type": "code",
   "execution_count": null,
   "metadata": {},
   "outputs": [],
   "source": []
  }
 ],
 "metadata": {
  "kernelspec": {
   "display_name": "Python 3",
   "language": "python",
   "name": "python3"
  },
  "language_info": {
   "codemirror_mode": {
    "name": "ipython",
    "version": 3
   },
   "file_extension": ".py",
   "mimetype": "text/x-python",
   "name": "python",
   "nbconvert_exporter": "python",
   "pygments_lexer": "ipython3",
   "version": "3.7.3"
  }
 },
 "nbformat": 4,
 "nbformat_minor": 2
}
