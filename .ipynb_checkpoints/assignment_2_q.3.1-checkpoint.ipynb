{
 "cells": [
  {
   "cell_type": "code",
   "execution_count": 1,
   "metadata": {},
   "outputs": [],
   "source": [
    "from RBF_Net import RBF_Net\n",
    "import math\n",
    "import numpy as np\n",
    "import matplotlib.pyplot as plt"
   ]
  },
  {
   "cell_type": "code",
   "execution_count": 2,
   "metadata": {},
   "outputs": [],
   "source": [
    "X_train = np.arange(0, 2*math.pi, 0.1)\n",
    "X_train = X_train.reshape(1, X_train.shape[0])\n",
    "\n",
    "X_test = np.arange(0.05, 2*math.pi, 0.1)\n",
    "X_test = X_test.reshape(1, X_test.shape[0])"
   ]
  },
  {
   "cell_type": "code",
   "execution_count": 3,
   "metadata": {},
   "outputs": [],
   "source": [
    "def sin_2(x):\n",
    "    return np.sin(2*x)"
   ]
  },
  {
   "cell_type": "code",
   "execution_count": 4,
   "metadata": {},
   "outputs": [],
   "source": [
    "f_train = sin_2(X_train)\n",
    "f_test = sin_2(X_test)"
   ]
  },
  {
   "cell_type": "code",
   "execution_count": 9,
   "metadata": {},
   "outputs": [
    {
     "name": "stdout",
     "output_type": "stream",
     "text": [
      "[6.80948219e-01 6.74172671e-01 6.60823158e-01 6.41292882e-01\n",
      " 6.16147429e-01 5.86097564e-01 5.51965899e-01 5.14649593e-01\n",
      " 4.75081452e-01 4.34191754e-01 3.92872946e-01 3.51948996e-01\n",
      " 3.12150757e-01 2.74098154e-01 2.38289487e-01 2.05097662e-01\n",
      " 1.74772699e-01 1.47449577e-01 1.23160239e-01 1.01848485e-01\n",
      " 8.33864868e-02 6.75917725e-02 5.42436680e-02 4.30984170e-02\n",
      " 3.39024156e-02 2.64032278e-02 2.03582506e-02 1.55410711e-02\n",
      " 1.17456889e-02 8.78887104e-03 6.51095581e-03 4.77544072e-03\n",
      " 3.46768168e-03 2.49299866e-03 1.77444246e-03 1.25042847e-03\n",
      " 8.72394340e-04 6.02592720e-04 4.12089907e-04 2.79008304e-04\n",
      " 1.87024859e-04 1.24119095e-04 8.15520565e-05 5.30503544e-05\n",
      " 3.41663604e-05 2.17854332e-05 1.37527877e-05 8.59552351e-06\n",
      " 5.31876719e-06 3.25841717e-06 1.97632991e-06 1.18677738e-06\n",
      " 7.05563536e-07 4.15298204e-07 2.42014302e-07 1.39630106e-07\n",
      " 7.97579820e-08 4.51051678e-08 2.52543098e-08 1.39991530e-08\n",
      " 7.68289804e-09 4.17450933e-09 2.24565407e-09]\n",
      "Number of nodes: 1, Error: 0.5700164614945218\n",
      "[ 0.6810384   0.67426195  0.66091066  0.64137779  0.61622899  0.58617511\n",
      "  0.55203886  0.5147175   0.47514394  0.43424852  0.39292374  0.35199355\n",
      "  0.3121887   0.27412891  0.23831208  0.20511048  0.17477312  0.14743346\n",
      "  0.1231212   0.10177689  0.08326804  0.0674056   0.05395976  0.04267419\n",
      "  0.03327822  0.02549656  0.01905638  0.01369186  0.00914631  0.00517222\n",
      "  0.00152962 -0.00201678 -0.00570126 -0.00976091 -0.01443927 -0.01998909\n",
      " -0.02667388 -0.03476759 -0.04455228 -0.05631318 -0.0703312  -0.08687268\n",
      " -0.10617659 -0.12843957 -0.15379944 -0.18231793 -0.21396389 -0.24859796\n",
      " -0.28596029 -0.32566249 -0.36718513 -0.40988173 -0.45298998 -0.49565034\n",
      " -0.53693181 -0.57586388 -0.61147338 -0.64282433 -0.66905851 -0.68943439\n",
      " -0.70336189 -0.7104308  -0.7104308 ]\n",
      "Number of nodes: 2, Error: 0.5053704490266551\n",
      "[ 0.68319748  0.67635304  0.66289819  0.64322434  0.6178954   0.58762054\n",
      "  0.55322072  0.5155914   0.47566362  0.43436581  0.39258863  0.35115441\n",
      "  0.31079275  0.2721229   0.23564334  0.20172821  0.17063005  0.14248775\n",
      "  0.11733852  0.09513262  0.07574946  0.0590139   0.04471179  0.03260371\n",
      "  0.02243669  0.01395315  0.00689739  0.00101926 -0.00392434 -0.00817011\n",
      " -0.01195047 -0.01549687 -0.01904358 -0.02283156 -0.02711187 -0.03214809\n",
      " -0.03821729 -0.04560913 -0.05462276 -0.06556115 -0.0787229  -0.09439126\n",
      " -0.11282086 -0.13422226 -0.15874515 -0.186461   -0.21734616 -0.2512667\n",
      " -0.2879663  -0.32705845 -0.36802427 -0.41021685 -0.45287269 -0.49513066\n",
      " -0.53605791 -0.57468202 -0.61002795 -0.64115791 -0.66721196 -0.68744686\n",
      " -0.70127081 -0.70827173 -0.70823728]\n",
      "Number of nodes: 3, Error: 0.5054840359406021\n",
      "[ 1.02742442  0.99447815  0.94742614  0.88681757  0.81357993  0.72899372\n",
      "  0.63465501  0.53242806  0.42439029  0.31277231  0.19989546  0.08810892\n",
      " -0.02027135 -0.12302056 -0.21805842 -0.30349698 -0.37768227 -0.43922912\n",
      " -0.48704899 -0.52037033 -0.53875164 -0.542087   -0.53060436 -0.50485677\n",
      " -0.46570708 -0.41430651 -0.35206779 -0.28063362 -0.20184113 -0.11768314\n",
      " -0.03026684  0.05822924  0.1455996   0.22965661  0.30827533  0.37943772\n",
      "  0.44127536  0.49211007  0.53049157  0.55523129  0.56543151  0.56050897\n",
      "  0.54021223  0.50463218  0.45420513  0.38970833  0.31224752  0.22323665\n",
      "  0.12436986  0.01758585 -0.0949749  -0.21101948 -0.3281578  -0.44396268\n",
      " -0.55603344 -0.66206122 -0.75989418 -0.84760004 -0.92352347 -0.98633567\n",
      " -1.03507356 -1.06916632 -1.08844755]\n",
      "Number of nodes: 4, Error: 0.38109852076837347\n"
     ]
    },
    {
     "data": {
      "text/plain": [
       "[<matplotlib.lines.Line2D at 0x112e08ac8>]"
      ]
     },
     "execution_count": 9,
     "metadata": {},
     "output_type": "execute_result"
    },
    {
     "data": {
      "image/png": "[encoded data removed]",
      "text/plain": [
       "<Figure size 432x288 with 1 Axes>"
      ]
     },
     "metadata": {
      "needs_background": "light"
     },
     "output_type": "display_data"
    }
   ],
   "source": [
    "dim_list = list(range(1, 5))\n",
    "errors = []\n",
    "for H_dim in dim_list:\n",
    "    rbf_net = RBF_Net(X_train, f_train.T, H_dim)\n",
    "    rbf_net.train()\n",
    "    f_approx = rbf_net.predict(X_test).flatten()\n",
    "    test_error = np.mean(np.abs(f_approx - f_test))\n",
    "    errors.append(test_error)\n",
    "    print(\"Number of nodes: {}, Error: {}\".format(H_dim, test_error))\n",
    "plt.plot(dim_list, errors)"
   ]
  },
  {
   "cell_type": "code",
   "execution_count": null,
   "metadata": {},
   "outputs": [],
   "source": []
  }
 ],
 "metadata": {
  "kernelspec": {
   "display_name": "Python 3",
   "language": "python",
   "name": "python3"
  },
  "language_info": {
   "codemirror_mode": {
    "name": "ipython",
    "version": 3
   },
   "file_extension": ".py",
   "mimetype": "text/x-python",
   "name": "python",
   "nbconvert_exporter": "python",
   "pygments_lexer": "ipython3",
   "version": "3.7.3"
  }
 },
 "nbformat": 4,
 "nbformat_minor": 2
}
