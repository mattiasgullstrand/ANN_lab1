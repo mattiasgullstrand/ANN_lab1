{
 "cells": [
  {
   "cell_type": "code",
   "execution_count": 4,
   "metadata": {},
   "outputs": [],
   "source": [
    "import numpy as np\n",
    "import activation_functions as act_funs\n",
    "import matplotlib.pyplot as plt"
   ]
  },
  {
   "cell_type": "code",
   "execution_count": 384,
   "metadata": {},
   "outputs": [],
   "source": [
    "\n",
    "class Single_Layer_Perceptron():\n",
    "    \n",
    "    def __init__(self, X, T, bias = True):\n",
    "        self.N = X.shape[1]\n",
    "        self.bias = bias\n",
    "        self.output_dim = T.shape[0]\n",
    "        if bias:\n",
    "            self.D = X.shape[0] + 1\n",
    "            self.X = self.X_add_bias(X)\n",
    "        else:\n",
    "            self.D = X.shape[0]\n",
    "            self.X = X\n",
    "        self.T = T\n",
    "        self.eta = 0.001\n",
    "        self.errors = []\n",
    "        self.epochs = 1\n",
    "        self.W_init = self.init_W() # Store initial W\n",
    "        self.W_train = self.W_init\n",
    "        self.converge_epoch = np.inf\n",
    "    \n",
    "    def X_add_bias(self, X):\n",
    "        X_bias = np.ones([self.D, self.N])\n",
    "        X_bias[:-1,:] = np.copy(X)\n",
    "        return X_bias\n",
    "    \n",
    "    def init_W(self):\n",
    "        return np.random.rand(self.output_dim, self.D)\n",
    "    \n",
    "    def indicator(self,W,x):\n",
    "        if np.matmul(W,x) >= 0:\n",
    "            return 1\n",
    "        else:\n",
    "            return 0\n",
    "    \n",
    "    def seq_learn(self):\n",
    "        se = 0\n",
    "        for i in range(self.N):\n",
    "            delta_W = 0\n",
    "            x = self.X[:,i].reshape(self.D, 1)\n",
    "            y = self.indicator(self.W_train, x)\n",
    "            t = self.T[:,i]\n",
    "            if t == 0 and y == 1:\n",
    "                delta_W = -self.eta*x.T\n",
    "            if t == 1 and y == 0:\n",
    "                delta_W = self.eta*x.T\n",
    "            self.W_train = np.add(self.W_train, delta_W)\n",
    "            se += (y-t)**2\n",
    "        mse = np.mean(se)\n",
    "        self.errors.append(mse)\n",
    "    \n",
    "    def batch_learn(self):\n",
    "        se = 0\n",
    "        delta_W = 0\n",
    "        for i in range(self.N):\n",
    "            x = self.X[:,i].reshape(self.D, 1)\n",
    "            y = self.indicator(self.W_train, x)\n",
    "            t = self.T[:,i]\n",
    "            if t == 0 and y == 1:\n",
    "                delta_W += -self.eta*x.T\n",
    "            if t == 1 and y == 0:\n",
    "                delta_W += self.eta*x.T\n",
    "            se += (y-t)**2\n",
    "        mse = np.mean(se)\n",
    "        self.W_train = np.add(self.W_train, delta_W)\n",
    "        self.errors.append(mse)\n",
    "    \n",
    "    def train(self, learn_type = 'batch'):\n",
    "        for e in range(self.epochs):\n",
    "            if learn_type == 'batch':\n",
    "                self.batch_learn()\n",
    "            elif learn_type == 'seq':\n",
    "                self.seq_learn()\n",
    "            else:\n",
    "                print(\"Unknown learning type\")\n",
    "    \n",
    "    def plot_errors(self):\n",
    "        plt.plot(self.errors)\n",
    "        print(\"Obtained error\", self.errors[-1:][0])"
   ]
  },
  {
   "cell_type": "code",
   "execution_count": 503,
   "metadata": {},
   "outputs": [],
   "source": [
    "def w_line_vec(W, x_start, x_end, bias):\n",
    "    w_line = np.zeros(2)\n",
    "    k = W[:,1][0]/W[:,0][0]\n",
    "    if bias:\n",
    "        m = W[:,2]\n",
    "    else:\n",
    "        m = 0\n",
    "    w_line[0] = k*x_start + m\n",
    "    w_line[1] = k*x_end + m\n",
    "    \n",
    "    return w_line\n",
    "\n",
    "def plot_W(W, bias):\n",
    "    if bias:\n",
    "        bias_term = W[:, -1:][0]\n",
    "        W_term = W[:, :-1][0]\n",
    "    else:\n",
    "        bias_term = 0\n",
    "        W_term = W\n",
    "    x_val = np.array([0, 1])\n",
    "    k = (W_term[1] - bias_term)/W_term[0]\n",
    "    y_val = x_val*k + bias_term\n",
    "    x_small = ([0, W_term[0]])\n",
    "    y_small = ([bias_term, W_term[1]])\n",
    "    plt.plot(x_val, y_val)\n",
    "    plt.plot(x_small, y_small)\n",
    "\n",
    "def plot_norm_vec(W, bias):\n",
    "    if bias:\n",
    "        bias_term = W[:, -1:][0]\n",
    "        W_term = W[:, :-1][0]\n",
    "    else:\n",
    "        bias_term = 0\n",
    "        W_term = W\n",
    "    W_term_unbiased = np.copy(W_term)\n",
    "    print('W_term_unbiased', W_term_unbiased)\n",
    "    W_term_unbiased[1] = W_term_unbiased[1] - bias_term\n",
    "    print('W_term_unbiased', W_term_unbiased)\n",
    "    normal = np.zeros(W_term_unbiased.shape)\n",
    "    normal[0] = 1\n",
    "    normal[1] = -W_term_unbiased[0]/W_term_unbiased[1] + bias_term\n",
    "    print(\"Scalar product\", np.matmul(W_term, normal))\n",
    "    x_val = np.array([0, 1])\n",
    "    k = (normal[1] - bias_term)/normal[0]\n",
    "    y_val = x_val*k + bias_term\n",
    "    plt.plot(x_val, y_val + bias_term)\n",
    "    return normal\n",
    "\n",
    "def plot_decision_boundary(classA, classB, W, bias):\n",
    "    plt.plot(classA[:,0], classA[:,1], 'bo', color = 'b')\n",
    "    plt.plot(classB[:,0], classB[:,1], 'bo', color = 'r')\n",
    "    #plt.plot(w_line_vec(W, 0, 1, bias))\n",
    "    #plt.plot(norm_vec(w_line_vec(W, 0, 1, bias)))\n",
    "    #plt.plot((0, W[:,0]), (W[:,2], W[:,1]))\n",
    "    plot_W(W, bias)\n",
    "    plot_norm_vec(W, bias)"
   ]
  },
  {
   "cell_type": "code",
   "execution_count": 504,
   "metadata": {},
   "outputs": [
    {
     "data": {
      "text/plain": [
       "[<matplotlib.lines.Line2D at 0x1139d6f98>]"
      ]
     },
     "execution_count": 504,
     "metadata": {},
     "output_type": "execute_result"
    },
    {
     "data": {
      "image/png": "[encoded data removed]",
      "text/plain": [
       "<Figure size 432x288 with 1 Axes>"
      ]
     },
     "metadata": {
      "needs_background": "light"
     },
     "output_type": "display_data"
    }
   ],
   "source": [
    "n = 100\n",
    "mA = np.array([0, 4])\n",
    "mB = np.array([0, 1])\n",
    "sigmaA = 0.5\n",
    "sigmaB = 0.5\n",
    "classA = np.zeros([n,2])\n",
    "classB = np.zeros([n,2])\n",
    "classA[:,0] = np.random.normal(mA[0], sigmaA, n)\n",
    "classA[:,1] = np.random.normal(mA[1], sigmaA, n)\n",
    "classB[:,0] = np.random.normal(mB[0], sigmaB, n)\n",
    "classB[:,1] = np.random.normal(mB[1], sigmaB, n)\n",
    "\n",
    "plt.plot(classA[:,0], classA[:,1], 'bo', color = 'b')\n",
    "plt.plot(classB[:,0], classB[:,1], 'bo', color = 'r')"
   ]
  },
  {
   "cell_type": "code",
   "execution_count": 505,
   "metadata": {},
   "outputs": [],
   "source": [
    "data = np.concatenate((classA, classB), axis=0)\n",
    "labels = np.array([1]*n + [0]*n)\n",
    "\n",
    "data_labels = np.concatenate((data, labels.reshape(n*2,1)), axis=1)\n",
    "#np.random.shuffle(data_labels)\n",
    "\n",
    "X = data_labels[:,:2].T\n",
    "T = data_labels[:,2].reshape(n*2, 1).T"
   ]
  },
  {
   "cell_type": "markdown",
   "metadata": {},
   "source": [
    "### Perceptron learning with bias"
   ]
  },
  {
   "cell_type": "code",
   "execution_count": 506,
   "metadata": {},
   "outputs": [],
   "source": [
    "perceptron = Single_Layer_Perceptron(X, T)"
   ]
  },
  {
   "cell_type": "code",
   "execution_count": 507,
   "metadata": {},
   "outputs": [
    {
     "name": "stdout",
     "output_type": "stream",
     "text": [
      "Obtained error 99.0\n",
      "W trained: [[0.13185949 0.61145324 0.09205429]]\n",
      "Initial W [[0.13254284 0.71155354 0.19105429]]\n"
     ]
    },
    {
     "data": {
      "image/png": "[encoded data removed]",
      "text/plain": [
       "<Figure size 432x288 with 1 Axes>"
      ]
     },
     "metadata": {
      "needs_background": "light"
     },
     "output_type": "display_data"
    }
   ],
   "source": [
    "perceptron.train('seq')\n",
    "perceptron.plot_errors()\n",
    "print(\"W trained:\", perceptron.W_train)\n",
    "print(\"Initial W\", perceptron.W_init)"
   ]
  },
  {
   "cell_type": "code",
   "execution_count": 508,
   "metadata": {},
   "outputs": [
    {
     "name": "stdout",
     "output_type": "stream",
     "text": [
      "Scalar product 0.032917127659146034\n"
     ]
    },
    {
     "data": {
      "image/png": "[encoded data removed]",
      "text/plain": [
       "<Figure size 432x288 with 1 Axes>"
      ]
     },
     "metadata": {
      "needs_background": "light"
     },
     "output_type": "display_data"
    }
   ],
   "source": [
    "plot_decision_boundary(classA, classB, \n",
    "                       perceptron.W_train, perceptron.bias)"
   ]
  },
  {
   "cell_type": "code",
   "execution_count": 502,
   "metadata": {},
   "outputs": [
    {
     "data": {
      "text/plain": [
       "array([[ 0.02598423,  0.03104673, -0.07690369]])"
      ]
     },
     "execution_count": 502,
     "metadata": {},
     "output_type": "execute_result"
    }
   ],
   "source": [
    "perceptron.W_train"
   ]
  },
  {
   "cell_type": "code",
   "execution_count": 348,
   "metadata": {},
   "outputs": [
    {
     "name": "stdout",
     "output_type": "stream",
     "text": [
      "x_val [-1  0  1  2]\n",
      "y_val [-11.02219393   0.77158368  12.56536129  24.35913889]\n"
     ]
    },
    {
     "data": {
      "image/png": "[encoded data removed]",
      "text/plain": [
       "<Figure size 432x288 with 1 Axes>"
      ]
     },
     "metadata": {
      "needs_background": "light"
     },
     "output_type": "display_data"
    }
   ],
   "source": [
    "plot_decision_boundary(classA, classB, \n",
    "                       perceptron.W_init, perceptron.bias)"
   ]
  },
  {
   "cell_type": "code",
   "execution_count": 383,
   "metadata": {},
   "outputs": [
    {
     "data": {
      "text/plain": [
       "array([[ 0.16898502,  0.20891677, -0.50704488]])"
      ]
     },
     "execution_count": 383,
     "metadata": {},
     "output_type": "execute_result"
    }
   ],
   "source": [
    "perceptron.W_train"
   ]
  },
  {
   "cell_type": "code",
   "execution_count": 158,
   "metadata": {},
   "outputs": [
    {
     "name": "stdout",
     "output_type": "stream",
     "text": [
      "Obtained error 0.0\n"
     ]
    },
    {
     "data": {
      "image/png": "[encoded data removed]",
      "text/plain": [
       "<Figure size 432x288 with 1 Axes>"
      ]
     },
     "metadata": {
      "needs_background": "light"
     },
     "output_type": "display_data"
    }
   ],
   "source": [
    "perceptron.W_train = perceptron.W_init\n",
    "perceptron.errors = [] \n",
    "perceptron.train('batch')\n",
    "perceptron.plot_errors()"
   ]
  },
  {
   "cell_type": "code",
   "execution_count": 188,
   "metadata": {},
   "outputs": [
    {
     "data": {
      "text/plain": [
       "array([[ 0.05954853,  0.06881586, -0.17760509]])"
      ]
     },
     "execution_count": 188,
     "metadata": {},
     "output_type": "execute_result"
    }
   ],
   "source": [
    "perceptron.W_train"
   ]
  },
  {
   "cell_type": "code",
   "execution_count": 192,
   "metadata": {},
   "outputs": [
    {
     "data": {
      "text/plain": [
       "array([[0.04897805],\n",
       "       [5.04636591],\n",
       "       [1.        ]])"
      ]
     },
     "execution_count": 192,
     "metadata": {},
     "output_type": "execute_result"
    }
   ],
   "source": [
    "perceptron.X[:,3].reshape(perceptron.D, 1)"
   ]
  },
  {
   "cell_type": "markdown",
   "metadata": {},
   "source": [
    "### Perceptron learning without bias"
   ]
  },
  {
   "cell_type": "code",
   "execution_count": 159,
   "metadata": {},
   "outputs": [
    {
     "name": "stdout",
     "output_type": "stream",
     "text": [
      "Obtained error 10.0\n"
     ]
    },
    {
     "data": {
      "image/png": "[encoded data removed]",
      "text/plain": [
       "<Figure size 432x288 with 1 Axes>"
      ]
     },
     "metadata": {
      "needs_background": "light"
     },
     "output_type": "display_data"
    }
   ],
   "source": [
    "perceptron = Single_Layer_Perceptron(X, T, False)\n",
    "perceptron.train('seq')\n",
    "perceptron.plot_errors()"
   ]
  },
  {
   "cell_type": "code",
   "execution_count": 160,
   "metadata": {},
   "outputs": [
    {
     "name": "stdout",
     "output_type": "stream",
     "text": [
      "Obtained error 98.0\n"
     ]
    },
    {
     "data": {
      "image/png": "[encoded data removed]",
      "text/plain": [
       "<Figure size 432x288 with 1 Axes>"
      ]
     },
     "metadata": {
      "needs_background": "light"
     },
     "output_type": "display_data"
    }
   ],
   "source": [
    "perceptron.W_train = perceptron.W_init\n",
    "perceptron.errors = [] \n",
    "perceptron.train('batch')\n",
    "perceptron.plot_errors()"
   ]
  }
 ],
 "metadata": {
  "kernelspec": {
   "display_name": "Python 3",
   "language": "python",
   "name": "python3"
  },
  "language_info": {
   "codemirror_mode": {
    "name": "ipython",
    "version": 3
   },
   "file_extension": ".py",
   "mimetype": "text/x-python",
   "name": "python",
   "nbconvert_exporter": "python",
   "pygments_lexer": "ipython3",
   "version": "3.7.3"
  }
 },
 "nbformat": 4,
 "nbformat_minor": 2
}
