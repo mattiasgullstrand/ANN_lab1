{
 "cells": [
  {
   "cell_type": "code",
   "execution_count": 66,
   "metadata": {},
   "outputs": [],
   "source": [
    "import numpy as np\n",
    "import matplotlib.pyplot as plt\n",
    "import random\n",
    "\n",
    "class Hopfield_Net():\n",
    "    \"\"\"\n",
    "        - X is the input matrix where each column is a sample\n",
    "        - W is a matrix of the weights.\n",
    "        \n",
    "    \"\"\"\n",
    "    def __init__(self, X, bias = 0):\n",
    "        self.X = X\n",
    "        self.D = X.shape[0] # Number of units\n",
    "        self.N = X.shape[1] # Number of patterns\n",
    "        self.bias = bias\n",
    "        self.avg_act = self.calc_avg_act()\n",
    "        self.Wrand = np.random.normal(0,1,(self.D,self.D))\n",
    "        self.W = self.init_W_avg_act()\n",
    "        self.max_iter = 10\n",
    "        self.iters = 0\n",
    "        self.pattern_dict = self.init_dict()\n",
    "        self.attractor_dict = self.pattern_dict.copy()\n",
    "        self.update_type = 'syn'\n",
    "        self.store_updates = []\n",
    "        self.nr_converge = 0\n",
    "    \n",
    "    def calc_avg_act(self):\n",
    "        avg_act = 0\n",
    "        for p in range(self.N):\n",
    "            x = self.X[:,p]\n",
    "            for i in range(self.D):\n",
    "                avg_act += x[i]\n",
    "        return avg_act*(1/(self.N*self.D))\n",
    "    \n",
    "    def init_W(self):\n",
    "        W = np.zeros([self.D, self.D])\n",
    "        for p in range(self.N):\n",
    "            x = self.X[:,p]\n",
    "            for i in range(self.D):\n",
    "                for j in range(self.D):\n",
    "                    W[i,j] += x[i]*x[j]\n",
    "        W = W - np.diag(np.diag(W))\n",
    "        return W\n",
    "    \n",
    "    def init_W_avg_act(self):\n",
    "        W = np.zeros([self.D, self.D])\n",
    "        for i in range(self.D):\n",
    "            for j in range(self.D):\n",
    "                for p in range(self.N):\n",
    "                    x = self.X[:,p]\n",
    "                    W[i,j] += (x[i] - self.avg_act)*(x[j] - self.avg_act)\n",
    "        W = W - np.diag(np.diag(W))\n",
    "        return W\n",
    "    \n",
    "    def init_dict(self): # Dict of patterns as row vectors\n",
    "        pattern_dict = {}\n",
    "        for p in range(self.N):\n",
    "            pattern = self.X[:,p].reshape(1, self.D)\n",
    "            pattern_dict[p] = pattern\n",
    "        return pattern_dict\n",
    "    \n",
    "    def update_rule(self, x): # x is a row vector\n",
    "        #print(\"Before update {}\".format(self.iters), x)\n",
    "        for i in range(self.D):\n",
    "            sum_term = 0\n",
    "            for j in range(self.D):\n",
    "                sum_term += self.W[i,j]*x[0,j]\n",
    "            x[0,i] = np.sign(sum_term)\n",
    "        #print(\"After update {}\".format(self.iters), x)\n",
    "        return x\n",
    "    \n",
    "    def sparse_update_rule(self, x):\n",
    "        #print(\"Before update {}\".format(self.iters), x)\n",
    "        for i in range(self.D):\n",
    "            sum_term = 0\n",
    "            for j in range(self.D):\n",
    "                sum_term += self.W[i,j]*x[0,j] - self.bias\n",
    "            x[0,i] = 0.5 + 0.5*np.sign(sum_term)\n",
    "        #print(\"After update {}\".format(self.iters), x)\n",
    "        return x\n",
    "\n",
    "    def sparse_random_update_rule(self, x):\n",
    "        #print(\"Before update {}\".format(self.iters), x)\n",
    "        i = random.choice(list(range(self.D)))\n",
    "        sum_term = 0\n",
    "        for j in range(self.D):\n",
    "            sum_term += self.W[i,j]*x[0,j] - self.bias\n",
    "        x[0,i] = 0.5 + 0.5*np.sign(sum_term)\n",
    "        #print(\"After update {}\".format(self.iters), x)\n",
    "        return x\n",
    "    \n",
    "    def random_update_rule(self, x):\n",
    "        #print(\"Before update {}\".format(self.iters), x)\n",
    "        i = random.choice(list(range(1024)))\n",
    "        sum_term = 0\n",
    "        for j in range(self.D):\n",
    "            sum_term += self.W[i,j]*x[0,j]\n",
    "        x[0,i] = np.sign(sum_term)\n",
    "        #print(\"After update {}\".format(self.iters), x)\n",
    "        return x\n",
    "    \n",
    "    def update_W(self, x): # x is a row vector\n",
    "        for i in range(self.D):\n",
    "            for j in range(self.D):\n",
    "                self.W[i,j] += x.T[i]*x.T[j]\n",
    "        self.W = self.W - np.diag(np.diag(self.W))\n",
    "        self.N += 1\n",
    "        self.pattern_dict[self.N-1] = x.reshape(1, self.D)\n",
    "        return self.W\n",
    "    \n",
    "    def add_attractor(self, x):\n",
    "        self.attractor_dict[len(self.attractor_dict.keys())] = x.reshape(1, self.D)\n",
    "    \n",
    "    def energy(self, x):\n",
    "        E = 0\n",
    "        for i in range(self.D):\n",
    "            for j in range(self.D):\n",
    "                E += self.W[i,j]*x[0,i]*x[0,j]\n",
    "        return -E\n",
    "\n",
    "    def net_out(self, x): # x is a row vector\n",
    "        #self.W = self.update_W(x)\n",
    "        #if np.array_equal(x, y):\n",
    "        #y = np.sign(np.dot(self.W, x.T))\n",
    "        if self.update_type == 'syn':\n",
    "            y = self.update_rule(np.copy(x))\n",
    "            #self.store_updates.append(x)\n",
    "        else:\n",
    "            if self.iters % 250 == 0:\n",
    "                self.store_updates.append(x)\n",
    "            y = self.sparse_random_update_rule(np.copy(x))\n",
    "        in_pattern_dict = [(y == pattern).all() \n",
    "                      for pattern in self.pattern_dict.values()]\n",
    "        if any(in_pattern_dict):\n",
    "            fixed_point = np.nonzero(in_pattern_dict)[0][0]\n",
    "            #print(\"Converged to X-row {} after {} iterations\".format(fixed_point+1, self.iters+1))\n",
    "            self.iters = 0\n",
    "            self.nr_converge += 1\n",
    "            return y\n",
    "        elif np.array_equal(x, y) and self.update_type == 'syn':\n",
    "            ###print(\"Stable after {}. Did not change after last iteration.\".format(self.iters+1))\n",
    "            in_attractor_dict = [(y == attractor).all() \n",
    "                      for attractor in self.attractor_dict.values()]\n",
    "            if not any(in_attractor_dict):\n",
    "                self.add_attractor(y)\n",
    "            self.iters = 0\n",
    "            return y\n",
    "        elif self.iters <= self.max_iter:\n",
    "            self.iters += 1\n",
    "            if self.update_type == 'syn':\n",
    "                return self.update_rule(self.net_out(np.copy(y)))\n",
    "            else:\n",
    "                return self.sparse_random_update_rule(self.net_out(np.copy(y)))\n",
    "        else:\n",
    "            ###print(\"Reached maximum number of iterations.\")\n",
    "            self.iters = 0\n",
    "            return y\n",
    "    \n",
    "    #def number_of_atractors:\n",
    "        \n",
    "    \n",
    "    #def train(self):\n",
    "    #    for idx in range(self.N):\n",
    "    #        x = X[:,idx].reshape([self.D, 1])\n",
    "    #        y = net_out(x)"
   ]
  },
  {
   "cell_type": "code",
   "execution_count": 80,
   "metadata": {},
   "outputs": [],
   "source": [
    "def sparse_pattern(dim, act_percent):\n",
    "    number_of_active = round(act_percent*dim)\n",
    "    act_ids = np.random.choice(list(range(dim)), number_of_active, replace = False)\n",
    "    pattern = np.zeros([1, dim])\n",
    "    for idx in act_ids:\n",
    "        pattern[0,idx] = 1\n",
    "    return pattern.reshape(1, hop_net.D)"
   ]
  },
  {
   "cell_type": "code",
   "execution_count": 81,
   "metadata": {},
   "outputs": [],
   "source": [
    "X = sparse_pattern(100, 0.1)"
   ]
  },
  {
   "cell_type": "code",
   "execution_count": 82,
   "metadata": {},
   "outputs": [],
   "source": [
    "X = sparse_pattern(100, 0.01).T\n",
    "for p in range(299):\n",
    "    x = sparse_pattern(100, 0.01)\n",
    "    X = np.concatenate((X, x.T), axis = 1)"
   ]
  },
  {
   "cell_type": "code",
   "execution_count": 83,
   "metadata": {},
   "outputs": [
    {
     "data": {
      "text/plain": [
       "(100, 300)"
      ]
     },
     "execution_count": 83,
     "metadata": {},
     "output_type": "execute_result"
    }
   ],
   "source": [
    "X.shape"
   ]
  },
  {
   "cell_type": "code",
   "execution_count": 86,
   "metadata": {},
   "outputs": [
    {
     "name": "stderr",
     "output_type": "stream",
     "text": [
      "100%|██████████| 300/300 [00:00<00:00, 322.76it/s]\n",
      " 17%|█▋        | 52/300 [00:00<00:00, 501.85it/s]"
     ]
    },
    {
     "name": "stdout",
     "output_type": "stream",
     "text": [
      "Number of stored (out of 300): 256, with bias: 0.01\n"
     ]
    },
    {
     "name": "stderr",
     "output_type": "stream",
     "text": [
      "100%|██████████| 300/300 [00:00<00:00, 435.78it/s]\n",
      " 10%|█         | 31/300 [00:00<00:00, 288.20it/s]"
     ]
    },
    {
     "name": "stdout",
     "output_type": "stream",
     "text": [
      "Number of stored (out of 300): 276, with bias: 0.1\n"
     ]
    },
    {
     "name": "stderr",
     "output_type": "stream",
     "text": [
      "100%|██████████| 300/300 [00:00<00:00, 422.91it/s]\n",
      " 13%|█▎        | 38/300 [00:00<00:00, 352.07it/s]"
     ]
    },
    {
     "name": "stdout",
     "output_type": "stream",
     "text": [
      "Number of stored (out of 300): 274, with bias: 0.3\n"
     ]
    },
    {
     "name": "stderr",
     "output_type": "stream",
     "text": [
      "100%|██████████| 300/300 [00:00<00:00, 402.52it/s]\n",
      " 23%|██▎       | 68/300 [00:00<00:00, 645.62it/s]"
     ]
    },
    {
     "name": "stdout",
     "output_type": "stream",
     "text": [
      "Number of stored (out of 300): 271, with bias: 0.5\n"
     ]
    },
    {
     "name": "stderr",
     "output_type": "stream",
     "text": [
      "100%|██████████| 300/300 [00:00<00:00, 502.07it/s]\n",
      " 10%|█         | 31/300 [00:00<00:00, 303.15it/s]"
     ]
    },
    {
     "name": "stdout",
     "output_type": "stream",
     "text": [
      "Number of stored (out of 300): 281, with bias: 0.7\n"
     ]
    },
    {
     "name": "stderr",
     "output_type": "stream",
     "text": [
      "100%|██████████| 300/300 [00:00<00:00, 364.45it/s]\n",
      " 10%|█         | 30/300 [00:00<00:00, 287.47it/s]"
     ]
    },
    {
     "name": "stdout",
     "output_type": "stream",
     "text": [
      "Number of stored (out of 300): 270, with bias: 0.9\n"
     ]
    },
    {
     "name": "stderr",
     "output_type": "stream",
     "text": [
      "100%|██████████| 300/300 [00:00<00:00, 312.74it/s]\n",
      " 14%|█▍        | 43/300 [00:00<00:00, 384.53it/s]"
     ]
    },
    {
     "name": "stdout",
     "output_type": "stream",
     "text": [
      "Number of stored (out of 300): 267, with bias: 1\n"
     ]
    },
    {
     "name": "stderr",
     "output_type": "stream",
     "text": [
      "100%|██████████| 300/300 [00:00<00:00, 343.46it/s]\n",
      " 19%|█▉        | 57/300 [00:00<00:00, 567.79it/s]"
     ]
    },
    {
     "name": "stdout",
     "output_type": "stream",
     "text": [
      "Number of stored (out of 300): 267, with bias: 2\n"
     ]
    },
    {
     "name": "stderr",
     "output_type": "stream",
     "text": [
      "100%|██████████| 300/300 [00:00<00:00, 401.54it/s]\n",
      " 12%|█▏        | 37/300 [00:00<00:00, 369.46it/s]"
     ]
    },
    {
     "name": "stdout",
     "output_type": "stream",
     "text": [
      "Number of stored (out of 300): 272, with bias: 3\n"
     ]
    },
    {
     "name": "stderr",
     "output_type": "stream",
     "text": [
      "100%|██████████| 300/300 [00:00<00:00, 430.75it/s]\n",
      "  5%|▌         | 16/300 [00:00<00:02, 136.90it/s]"
     ]
    },
    {
     "name": "stdout",
     "output_type": "stream",
     "text": [
      "Number of stored (out of 300): 274, with bias: 4\n"
     ]
    },
    {
     "name": "stderr",
     "output_type": "stream",
     "text": [
      "100%|██████████| 300/300 [00:00<00:00, 311.86it/s]"
     ]
    },
    {
     "name": "stdout",
     "output_type": "stream",
     "text": [
      "Number of stored (out of 300): 263, with bias: 5\n"
     ]
    },
    {
     "name": "stderr",
     "output_type": "stream",
     "text": [
      "\n"
     ]
    }
   ],
   "source": [
    "from tqdm import tqdm\n",
    "act_percent = 0.1\n",
    "X = sparse_pattern(100, act_percent).T\n",
    "for p in range(299):\n",
    "    x = sparse_pattern(100, act_percent)\n",
    "    X = np.concatenate((X, x.T), axis = 1)\n",
    "\n",
    "hop_net = Hopfield_Net(X)\n",
    "hop_net.update_type = 'asyn'\n",
    "\n",
    "conv_01 = []\n",
    "bias_01 = [0.01, 0.1, 0.3, 0.5, 0.7, 0.9, 1, 2, 3, 4, 5]\n",
    "for bias in bias_01:\n",
    "    hop_net.nr_converge = 0\n",
    "    for x_id in tqdm(range(hop_net.N)):\n",
    "        hop_net.bias = bias\n",
    "        hop_net.net_out(np.copy(hop_net.X[:,x_id].reshape(1, hop_net.D)))\n",
    "    print(\"Number of stored (out of 300): {}, with bias: {}\".format(hop_net.nr_converge, bias))\n",
    "    conv_01.append(hop_net.nr_converge)\n"
   ]
  },
  {
   "cell_type": "code",
   "execution_count": null,
   "metadata": {},
   "outputs": [],
   "source": []
  },
  {
   "cell_type": "code",
   "execution_count": 85,
   "metadata": {},
   "outputs": [
    {
     "data": {
      "text/plain": [
       "[]"
      ]
     },
     "execution_count": 85,
     "metadata": {},
     "output_type": "execute_result"
    }
   ],
   "source": [
    "pattern_list"
   ]
  },
  {
   "cell_type": "code",
   "execution_count": 79,
   "metadata": {},
   "outputs": [
    {
     "data": {
      "text/plain": [
       "(100, 1)"
      ]
     },
     "execution_count": 79,
     "metadata": {},
     "output_type": "execute_result"
    }
   ],
   "source": [
    "X.shape"
   ]
  },
  {
   "cell_type": "markdown",
   "metadata": {},
   "source": [
    "0.1 act => 249-277"
   ]
  },
  {
   "cell_type": "code",
   "execution_count": 72,
   "metadata": {},
   "outputs": [
    {
     "data": {
      "text/plain": [
       "0.1"
      ]
     },
     "execution_count": 72,
     "metadata": {},
     "output_type": "execute_result"
    }
   ],
   "source": [
    "hop_net.avg_act"
   ]
  },
  {
   "cell_type": "code",
   "execution_count": 73,
   "metadata": {},
   "outputs": [
    {
     "name": "stderr",
     "output_type": "stream",
     "text": [
      "100%|██████████| 300/300 [00:00<00:00, 859.41it/s]\n",
      " 44%|████▍     | 133/300 [00:00<00:00, 630.68it/s]"
     ]
    },
    {
     "name": "stdout",
     "output_type": "stream",
     "text": [
      "Number of stored (out of 300): 298, with bias: 0.01\n"
     ]
    },
    {
     "name": "stderr",
     "output_type": "stream",
     "text": [
      "100%|██████████| 300/300 [00:00<00:00, 610.70it/s]\n",
      " 19%|█▉        | 57/300 [00:00<00:00, 567.00it/s]"
     ]
    },
    {
     "name": "stdout",
     "output_type": "stream",
     "text": [
      "Number of stored (out of 300): 295, with bias: 0.1\n"
     ]
    },
    {
     "name": "stderr",
     "output_type": "stream",
     "text": [
      "100%|██████████| 300/300 [00:00<00:00, 613.47it/s]\n",
      " 50%|█████     | 151/300 [00:00<00:00, 777.86it/s]"
     ]
    },
    {
     "name": "stdout",
     "output_type": "stream",
     "text": [
      "Number of stored (out of 300): 294, with bias: 0.3\n"
     ]
    },
    {
     "name": "stderr",
     "output_type": "stream",
     "text": [
      "100%|██████████| 300/300 [00:00<00:00, 780.99it/s]\n",
      " 26%|██▌       | 78/300 [00:00<00:00, 778.53it/s]"
     ]
    },
    {
     "name": "stdout",
     "output_type": "stream",
     "text": [
      "Number of stored (out of 300): 297, with bias: 0.5\n"
     ]
    },
    {
     "name": "stderr",
     "output_type": "stream",
     "text": [
      "100%|██████████| 300/300 [00:00<00:00, 794.44it/s]\n",
      " 27%|██▋       | 82/300 [00:00<00:00, 818.14it/s]"
     ]
    },
    {
     "name": "stdout",
     "output_type": "stream",
     "text": [
      "Number of stored (out of 300): 298, with bias: 0.7\n"
     ]
    },
    {
     "name": "stderr",
     "output_type": "stream",
     "text": [
      "100%|██████████| 300/300 [00:00<00:00, 810.05it/s]\n",
      " 27%|██▋       | 80/300 [00:00<00:00, 792.10it/s]"
     ]
    },
    {
     "name": "stdout",
     "output_type": "stream",
     "text": [
      "Number of stored (out of 300): 300, with bias: 0.9\n"
     ]
    },
    {
     "name": "stderr",
     "output_type": "stream",
     "text": [
      "100%|██████████| 300/300 [00:00<00:00, 797.80it/s]\n",
      " 49%|████▉     | 148/300 [00:00<00:00, 745.46it/s]"
     ]
    },
    {
     "name": "stdout",
     "output_type": "stream",
     "text": [
      "Number of stored (out of 300): 300, with bias: 1\n"
     ]
    },
    {
     "name": "stderr",
     "output_type": "stream",
     "text": [
      "100%|██████████| 300/300 [00:00<00:00, 679.04it/s]\n",
      " 48%|████▊     | 145/300 [00:00<00:00, 686.08it/s]"
     ]
    },
    {
     "name": "stdout",
     "output_type": "stream",
     "text": [
      "Number of stored (out of 300): 298, with bias: 2\n"
     ]
    },
    {
     "name": "stderr",
     "output_type": "stream",
     "text": [
      "100%|██████████| 300/300 [00:00<00:00, 696.59it/s]\n",
      " 26%|██▌       | 78/300 [00:00<00:00, 709.73it/s]"
     ]
    },
    {
     "name": "stdout",
     "output_type": "stream",
     "text": [
      "Number of stored (out of 300): 299, with bias: 3\n"
     ]
    },
    {
     "name": "stderr",
     "output_type": "stream",
     "text": [
      "100%|██████████| 300/300 [00:00<00:00, 797.16it/s]\n",
      " 34%|███▎      | 101/300 [00:00<00:00, 472.82it/s]"
     ]
    },
    {
     "name": "stdout",
     "output_type": "stream",
     "text": [
      "Number of stored (out of 300): 297, with bias: 4\n"
     ]
    },
    {
     "name": "stderr",
     "output_type": "stream",
     "text": [
      "100%|██████████| 300/300 [00:00<00:00, 557.98it/s]"
     ]
    },
    {
     "name": "stdout",
     "output_type": "stream",
     "text": [
      "Number of stored (out of 300): 294, with bias: 5\n"
     ]
    },
    {
     "name": "stderr",
     "output_type": "stream",
     "text": [
      "\n"
     ]
    }
   ],
   "source": [
    "from tqdm import tqdm\n",
    "act_percent = 0.01\n",
    "X = sparse_pattern(100, act_percent).T\n",
    "for p in range(299):\n",
    "    x = sparse_pattern(100, act_percent)\n",
    "    X = np.concatenate((X, x.T), axis = 1)\n",
    "\n",
    "hop_net = Hopfield_Net(X)\n",
    "hop_net.update_type = 'asyn'\n",
    "\n",
    "conv_001 = []\n",
    "bias_001 = [0.01, 0.1, 0.3, 0.5, 0.7, 0.9, 1, 2, 3, 4, 5]\n",
    "for bias in bias_001:\n",
    "    hop_net.nr_converge = 0\n",
    "    for x_id in tqdm(range(hop_net.N)):\n",
    "        hop_net.bias = bias\n",
    "        hop_net.net_out(np.copy(hop_net.X[:,x_id].reshape(1, hop_net.D)))\n",
    "    print(\"Number of stored (out of 300): {}, with bias: {}\".format(hop_net.nr_converge, bias))\n",
    "    conv_001.append(hop_net.nr_converge)\n"
   ]
  },
  {
   "cell_type": "code",
   "execution_count": 74,
   "metadata": {},
   "outputs": [
    {
     "name": "stderr",
     "output_type": "stream",
     "text": [
      "100%|██████████| 300/300 [00:00<00:00, 372.13it/s]\n",
      " 15%|█▍        | 44/300 [00:00<00:00, 426.77it/s]"
     ]
    },
    {
     "name": "stdout",
     "output_type": "stream",
     "text": [
      "Number of stored (out of 300): 267, with bias: 0.01\n"
     ]
    },
    {
     "name": "stderr",
     "output_type": "stream",
     "text": [
      "100%|██████████| 300/300 [00:00<00:00, 518.79it/s]\n",
      " 19%|█▉        | 57/300 [00:00<00:00, 562.78it/s]"
     ]
    },
    {
     "name": "stdout",
     "output_type": "stream",
     "text": [
      "Number of stored (out of 300): 282, with bias: 0.1\n"
     ]
    },
    {
     "name": "stderr",
     "output_type": "stream",
     "text": [
      "100%|██████████| 300/300 [00:00<00:00, 444.62it/s]\n",
      " 20%|██        | 60/300 [00:00<00:00, 587.63it/s]"
     ]
    },
    {
     "name": "stdout",
     "output_type": "stream",
     "text": [
      "Number of stored (out of 300): 287, with bias: 0.3\n"
     ]
    },
    {
     "name": "stderr",
     "output_type": "stream",
     "text": [
      "100%|██████████| 300/300 [00:00<00:00, 454.25it/s]\n",
      " 14%|█▎        | 41/300 [00:00<00:00, 395.53it/s]"
     ]
    },
    {
     "name": "stdout",
     "output_type": "stream",
     "text": [
      "Number of stored (out of 300): 275, with bias: 0.5\n"
     ]
    },
    {
     "name": "stderr",
     "output_type": "stream",
     "text": [
      "100%|██████████| 300/300 [00:00<00:00, 526.57it/s]\n",
      " 15%|█▍        | 44/300 [00:00<00:00, 436.09it/s]"
     ]
    },
    {
     "name": "stdout",
     "output_type": "stream",
     "text": [
      "Number of stored (out of 300): 288, with bias: 0.7\n"
     ]
    },
    {
     "name": "stderr",
     "output_type": "stream",
     "text": [
      "100%|██████████| 300/300 [00:00<00:00, 528.29it/s]\n",
      " 36%|███▌      | 107/300 [00:00<00:00, 535.27it/s]"
     ]
    },
    {
     "name": "stdout",
     "output_type": "stream",
     "text": [
      "Number of stored (out of 300): 286, with bias: 0.9\n"
     ]
    },
    {
     "name": "stderr",
     "output_type": "stream",
     "text": [
      "100%|██████████| 300/300 [00:00<00:00, 541.79it/s]\n",
      " 18%|█▊        | 55/300 [00:00<00:00, 546.71it/s]"
     ]
    },
    {
     "name": "stdout",
     "output_type": "stream",
     "text": [
      "Number of stored (out of 300): 284, with bias: 1\n"
     ]
    },
    {
     "name": "stderr",
     "output_type": "stream",
     "text": [
      "100%|██████████| 300/300 [00:00<00:00, 501.98it/s]\n",
      " 42%|████▏     | 126/300 [00:00<00:00, 558.85it/s]"
     ]
    },
    {
     "name": "stdout",
     "output_type": "stream",
     "text": [
      "Number of stored (out of 300): 280, with bias: 2\n"
     ]
    },
    {
     "name": "stderr",
     "output_type": "stream",
     "text": [
      "100%|██████████| 300/300 [00:00<00:00, 478.09it/s]\n",
      " 19%|█▉        | 57/300 [00:00<00:00, 537.85it/s]"
     ]
    },
    {
     "name": "stdout",
     "output_type": "stream",
     "text": [
      "Number of stored (out of 300): 282, with bias: 3\n"
     ]
    },
    {
     "name": "stderr",
     "output_type": "stream",
     "text": [
      "100%|██████████| 300/300 [00:00<00:00, 555.04it/s]\n",
      " 31%|███       | 92/300 [00:00<00:00, 475.98it/s]"
     ]
    },
    {
     "name": "stdout",
     "output_type": "stream",
     "text": [
      "Number of stored (out of 300): 288, with bias: 4\n"
     ]
    },
    {
     "name": "stderr",
     "output_type": "stream",
     "text": [
      "100%|██████████| 300/300 [00:00<00:00, 448.81it/s]"
     ]
    },
    {
     "name": "stdout",
     "output_type": "stream",
     "text": [
      "Number of stored (out of 300): 282, with bias: 5\n"
     ]
    },
    {
     "name": "stderr",
     "output_type": "stream",
     "text": [
      "\n"
     ]
    }
   ],
   "source": [
    "from tqdm import tqdm\n",
    "act_percent = 0.05\n",
    "X = sparse_pattern(100, act_percent).T\n",
    "for p in range(299):\n",
    "    x = sparse_pattern(100, act_percent)\n",
    "    X = np.concatenate((X, x.T), axis = 1)\n",
    "\n",
    "hop_net = Hopfield_Net(X)\n",
    "hop_net.update_type = 'asyn'\n",
    "\n",
    "conv_005 = []\n",
    "bias_005 = [0.01, 0.1, 0.3, 0.5, 0.7, 0.9, 1, 2, 3, 4, 5]\n",
    "for bias in bias_005:\n",
    "    hop_net.nr_converge = 0\n",
    "    for x_id in tqdm(range(hop_net.N)):\n",
    "        hop_net.bias = bias\n",
    "        hop_net.net_out(np.copy(hop_net.X[:,x_id].reshape(1, hop_net.D)))\n",
    "    print(\"Number of stored (out of 300): {}, with bias: {}\".format(hop_net.nr_converge, bias))\n",
    "    conv_005.append(hop_net.nr_converge)\n",
    "\n"
   ]
  },
  {
   "cell_type": "markdown",
   "metadata": {},
   "source": [
    "0.01 act => 295-299"
   ]
  },
  {
   "cell_type": "code",
   "execution_count": 75,
   "metadata": {},
   "outputs": [
    {
     "data": {
      "text/plain": [
       "0.05"
      ]
     },
     "execution_count": 75,
     "metadata": {},
     "output_type": "execute_result"
    }
   ],
   "source": [
    "hop_net.avg_act"
   ]
  },
  {
   "cell_type": "code",
   "execution_count": 76,
   "metadata": {},
   "outputs": [
    {
     "data": {
      "image/png": "[encoded data removed]",
      "text/plain": [
       "<Figure size 432x288 with 1 Axes>"
      ]
     },
     "metadata": {
      "needs_background": "light"
     },
     "output_type": "display_data"
    }
   ],
   "source": [
    "plt.plot(bias_01, conv_01, label = \"Activation 0.1\")\n",
    "plt.plot(bias_005, conv_005, label = \"Activation 0.05\")\n",
    "plt.plot(bias_001, conv_001, label = \"Activation 0.01\")\n",
    "plt.legend(loc = \"lower right\")\n",
    "plt.xlabel(\"Bias\")\n",
    "plt.ylabel(\"Number of stored (out of 300)\")\n",
    "plt.title(\"Number of stored patterns for different bias\")\n",
    "plt.show()"
   ]
  },
  {
   "cell_type": "code",
   "execution_count": 135,
   "metadata": {},
   "outputs": [
    {
     "data": {
      "text/plain": [
       "array([[0., 0., 0., 0., 0., 0., 0., 0., 0., 0., 0., 0., 0., 0., 0., 0.,\n",
       "        0., 0., 0., 0., 0., 0., 0., 0., 0., 0., 0., 0., 0., 0., 0., 0.,\n",
       "        0., 0., 0., 0., 0., 0., 0., 0., 0., 0., 0., 0., 0., 0., 0., 0.,\n",
       "        0., 0., 0., 0., 0., 0., 0., 0., 0., 0., 0., 0., 0., 0., 0., 0.,\n",
       "        0., 0., 0., 0., 0., 0., 0., 0., 0., 0., 0., 0., 0., 0., 0., 0.,\n",
       "        0., 0., 0., 0., 0., 0., 0., 0., 0., 0., 0., 0., 0., 0., 0., 0.,\n",
       "        0., 0., 0., 0.]])"
      ]
     },
     "execution_count": 135,
     "metadata": {},
     "output_type": "execute_result"
    }
   ],
   "source": [
    "hop_net.net_out(np.copy(hop_net.X[:,5].reshape(1, hop_net.D))) - hop_net.X[:,5].reshape(1, hop_net.D)"
   ]
  },
  {
   "cell_type": "code",
   "execution_count": 110,
   "metadata": {},
   "outputs": [],
   "source": [
    "test = np.copy(hop_net.X[:,3].reshape(1, hop_net.D))"
   ]
  },
  {
   "cell_type": "code",
   "execution_count": 111,
   "metadata": {},
   "outputs": [],
   "source": [
    "test[0][0] = 0"
   ]
  },
  {
   "cell_type": "code",
   "execution_count": 112,
   "metadata": {},
   "outputs": [
    {
     "data": {
      "text/plain": [
       "array([[0., 0., 1., 0., 0., 0., 0., 0., 0., 0., 0., 0., 0., 1., 0., 0.,\n",
       "        0., 0., 0., 0., 0., 0., 1., 0., 0., 0., 1., 0., 0., 0., 0., 0.,\n",
       "        0., 0., 0., 0., 0., 0., 0., 0., 0., 0., 0., 0., 0., 0., 0., 0.,\n",
       "        0., 0., 0., 0., 0., 0., 0., 0., 0., 0., 0., 0., 0., 0., 0., 0.,\n",
       "        0., 0., 0., 0., 0., 0., 0., 0., 0., 0., 0., 0., 0., 0., 0., 0.,\n",
       "        0., 0., 0., 0., 0., 0., 0., 0., 0., 1., 0., 0., 0., 0., 0., 0.,\n",
       "        0., 0., 0., 1.]])"
      ]
     },
     "execution_count": 112,
     "metadata": {},
     "output_type": "execute_result"
    }
   ],
   "source": [
    "hop_net.net_out(np.copy(test))"
   ]
  },
  {
   "cell_type": "code",
   "execution_count": null,
   "metadata": {},
   "outputs": [],
   "source": []
  }
 ],
 "metadata": {
  "kernelspec": {
   "display_name": "Python 3",
   "language": "python",
   "name": "python3"
  },
  "language_info": {
   "codemirror_mode": {
    "name": "ipython",
    "version": 3
   },
   "file_extension": ".py",
   "mimetype": "text/x-python",
   "name": "python",
   "nbconvert_exporter": "python",
   "pygments_lexer": "ipython3",
   "version": "3.7.3"
  }
 },
 "nbformat": 4,
 "nbformat_minor": 2
}
