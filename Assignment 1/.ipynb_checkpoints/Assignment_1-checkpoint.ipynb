{
 "cells": [
  {
   "cell_type": "code",
   "execution_count": 1,
   "metadata": {},
   "outputs": [],
   "source": [
    "import numpy as np\n",
    "import matplotlib.pyplot as plt"
   ]
  },
  {
   "cell_type": "code",
   "execution_count": 2,
   "metadata": {},
   "outputs": [],
   "source": [
    "n = 100\n",
    "mA = np.array([2, 1])\n",
    "mB = np.array([-1, 0])\n",
    "sigmaA = 0.5\n",
    "sigmaB = 0.5\n",
    "classA = np.zeros([n,2])\n",
    "classB = np.zeros([n,2])\n",
    "classA[:,0] = np.random.normal(mA[0], sigmaA, n)\n",
    "classA[:,1] = np.random.normal(mA[1], sigmaA, n)\n",
    "classB[:,0] = np.random.normal(mB[0], sigmaB, n)\n",
    "classB[:,1] = np.random.normal(mB[1], sigmaB, n)"
   ]
  },
  {
   "cell_type": "code",
   "execution_count": 3,
   "metadata": {},
   "outputs": [
    {
     "data": {
      "text/plain": [
       "[<matplotlib.lines.Line2D at 0x103fed9e8>]"
      ]
     },
     "execution_count": 3,
     "metadata": {},
     "output_type": "execute_result"
    },
    {
     "data": {
      "image/png": "[encoded data removed]",
      "text/plain": [
       "<Figure size 432x288 with 1 Axes>"
      ]
     },
     "metadata": {
      "needs_background": "light"
     },
     "output_type": "display_data"
    }
   ],
   "source": [
    "plt.plot(classA[:,0], classA[:,1], 'bo', color = 'b')\n",
    "plt.plot(classB[:,0], classB[:,1], 'bo', color = 'r')"
   ]
  },
  {
   "cell_type": "code",
   "execution_count": 22,
   "metadata": {},
   "outputs": [],
   "source": [
    "data = np.concatenate((classA, classB), axis=0)\n",
    "labels_delta = np.array([1]*n + [-1]*n)"
   ]
  },
  {
   "cell_type": "code",
   "execution_count": 23,
   "metadata": {},
   "outputs": [
    {
     "data": {
      "text/plain": [
       "array([ 1,  1,  1,  1,  1,  1,  1,  1,  1,  1,  1,  1,  1,  1,  1,  1,  1,\n",
       "        1,  1,  1,  1,  1,  1,  1,  1,  1,  1,  1,  1,  1,  1,  1,  1,  1,\n",
       "        1,  1,  1,  1,  1,  1,  1,  1,  1,  1,  1,  1,  1,  1,  1,  1,  1,\n",
       "        1,  1,  1,  1,  1,  1,  1,  1,  1,  1,  1,  1,  1,  1,  1,  1,  1,\n",
       "        1,  1,  1,  1,  1,  1,  1,  1,  1,  1,  1,  1,  1,  1,  1,  1,  1,\n",
       "        1,  1,  1,  1,  1,  1,  1,  1,  1,  1,  1,  1,  1,  1,  1, -1, -1,\n",
       "       -1, -1, -1, -1, -1, -1, -1, -1, -1, -1, -1, -1, -1, -1, -1, -1, -1,\n",
       "       -1, -1, -1, -1, -1, -1, -1, -1, -1, -1, -1, -1, -1, -1, -1, -1, -1,\n",
       "       -1, -1, -1, -1, -1, -1, -1, -1, -1, -1, -1, -1, -1, -1, -1, -1, -1,\n",
       "       -1, -1, -1, -1, -1, -1, -1, -1, -1, -1, -1, -1, -1, -1, -1, -1, -1,\n",
       "       -1, -1, -1, -1, -1, -1, -1, -1, -1, -1, -1, -1, -1, -1, -1, -1, -1,\n",
       "       -1, -1, -1, -1, -1, -1, -1, -1, -1, -1, -1, -1, -1])"
      ]
     },
     "execution_count": 23,
     "metadata": {},
     "output_type": "execute_result"
    }
   ],
   "source": [
    "labels_delta"
   ]
  },
  {
   "cell_type": "code",
   "execution_count": 24,
   "metadata": {},
   "outputs": [],
   "source": [
    "data_labels = np.concatenate((data, labels_delta.reshape(n*2,1)), axis=1)\n",
    "np.random.shuffle(data_labels)"
   ]
  },
  {
   "cell_type": "code",
   "execution_count": 25,
   "metadata": {},
   "outputs": [],
   "source": [
    "X = data_labels[:,:2].T\n",
    "T_delta = data_labels[:,2].reshape(n*2, 1).T"
   ]
  },
  {
   "cell_type": "code",
   "execution_count": 30,
   "metadata": {},
   "outputs": [
    {
     "data": {
      "text/plain": [
       "array([[1., 0., 1., 0., 0., 1., 1., 1., 1., 0., 1., 0., 1., 1., 0., 1.,\n",
       "        0., 0., 0., 0., 1., 0., 0., 1., 1., 1., 1., 0., 0., 1., 0., 0.,\n",
       "        0., 1., 1., 1., 1., 0., 0., 1., 0., 1., 1., 1., 1., 1., 1., 0.,\n",
       "        1., 0., 1., 1., 1., 1., 1., 0., 0., 1., 0., 1., 0., 0., 0., 0.,\n",
       "        0., 1., 1., 1., 1., 1., 0., 1., 1., 0., 0., 0., 0., 0., 1., 1.,\n",
       "        1., 1., 1., 1., 0., 1., 1., 0., 0., 0., 1., 0., 1., 0., 1., 0.,\n",
       "        0., 1., 1., 0., 1., 0., 1., 1., 1., 1., 0., 0., 0., 1., 0., 1.,\n",
       "        1., 0., 0., 1., 1., 1., 0., 1., 1., 1., 0., 1., 0., 0., 1., 0.,\n",
       "        0., 1., 0., 0., 1., 0., 0., 0., 1., 0., 1., 1., 0., 0., 0., 0.,\n",
       "        1., 1., 0., 0., 1., 0., 0., 0., 1., 0., 0., 1., 1., 0., 0., 1.,\n",
       "        0., 1., 1., 0., 0., 1., 1., 1., 1., 0., 0., 0., 0., 0., 0., 0.,\n",
       "        1., 1., 0., 1., 0., 1., 0., 0., 0., 0., 0., 1., 1., 0., 1., 0.,\n",
       "        1., 1., 0., 1., 0., 0., 0., 1.]])"
      ]
     },
     "execution_count": 30,
     "metadata": {},
     "output_type": "execute_result"
    }
   ],
   "source": [
    "T_delta"
   ]
  },
  {
   "cell_type": "code",
   "execution_count": 27,
   "metadata": {},
   "outputs": [],
   "source": [
    "T_percept = T_delta\n",
    "for i, t in enumerate(T_percept[0,:]):\n",
    "    if t == -1:\n",
    "        T_percept[0,i] = 0\n",
    "    "
   ]
  },
  {
   "cell_type": "code",
   "execution_count": 28,
   "metadata": {},
   "outputs": [
    {
     "data": {
      "text/plain": [
       "array([[1., 0., 1., 0., 0., 1., 1., 1., 1., 0., 1., 0., 1., 1., 0., 1.,\n",
       "        0., 0., 0., 0., 1., 0., 0., 1., 1., 1., 1., 0., 0., 1., 0., 0.,\n",
       "        0., 1., 1., 1., 1., 0., 0., 1., 0., 1., 1., 1., 1., 1., 1., 0.,\n",
       "        1., 0., 1., 1., 1., 1., 1., 0., 0., 1., 0., 1., 0., 0., 0., 0.,\n",
       "        0., 1., 1., 1., 1., 1., 0., 1., 1., 0., 0., 0., 0., 0., 1., 1.,\n",
       "        1., 1., 1., 1., 0., 1., 1., 0., 0., 0., 1., 0., 1., 0., 1., 0.,\n",
       "        0., 1., 1., 0., 1., 0., 1., 1., 1., 1., 0., 0., 0., 1., 0., 1.,\n",
       "        1., 0., 0., 1., 1., 1., 0., 1., 1., 1., 0., 1., 0., 0., 1., 0.,\n",
       "        0., 1., 0., 0., 1., 0., 0., 0., 1., 0., 1., 1., 0., 0., 0., 0.,\n",
       "        1., 1., 0., 0., 1., 0., 0., 0., 1., 0., 0., 1., 1., 0., 0., 1.,\n",
       "        0., 1., 1., 0., 0., 1., 1., 1., 1., 0., 0., 0., 0., 0., 0., 0.,\n",
       "        1., 1., 0., 1., 0., 1., 0., 0., 0., 0., 0., 1., 1., 0., 1., 0.,\n",
       "        1., 1., 0., 1., 0., 0., 0., 1.]])"
      ]
     },
     "execution_count": 28,
     "metadata": {},
     "output_type": "execute_result"
    }
   ],
   "source": [
    "T_percept"
   ]
  },
  {
   "cell_type": "code",
   "execution_count": 31,
   "metadata": {},
   "outputs": [
    {
     "data": {
      "text/plain": [
       "(2, 200)"
      ]
     },
     "execution_count": 31,
     "metadata": {},
     "output_type": "execute_result"
    }
   ],
   "source": [
    "X.shape"
   ]
  },
  {
   "cell_type": "code",
   "execution_count": 33,
   "metadata": {},
   "outputs": [
    {
     "data": {
      "text/plain": [
       "(1, 200)"
      ]
     },
     "execution_count": 33,
     "metadata": {},
     "output_type": "execute_result"
    }
   ],
   "source": [
    "T_percept.shape"
   ]
  },
  {
   "cell_type": "code",
   "execution_count": 35,
   "metadata": {},
   "outputs": [],
   "source": [
    "W = np.random.rand(T_percept.shape[0],X.shape[0])"
   ]
  },
  {
   "cell_type": "code",
   "execution_count": 43,
   "metadata": {},
   "outputs": [],
   "source": [
    "W_bias = np.vstack([W, np.ones([1,W.shape[1]])])"
   ]
  },
  {
   "cell_type": "code",
   "execution_count": 44,
   "metadata": {},
   "outputs": [
    {
     "data": {
      "text/plain": [
       "array([[0.43315544, 0.77399748],\n",
       "       [1.        , 1.        ]])"
      ]
     },
     "execution_count": 44,
     "metadata": {},
     "output_type": "execute_result"
    }
   ],
   "source": [
    "W_bias"
   ]
  },
  {
   "cell_type": "code",
   "execution_count": 36,
   "metadata": {},
   "outputs": [
    {
     "data": {
      "text/plain": [
       "(1, 2)"
      ]
     },
     "execution_count": 36,
     "metadata": {},
     "output_type": "execute_result"
    }
   ],
   "source": [
    "W.shape"
   ]
  },
  {
   "cell_type": "code",
   "execution_count": 37,
   "metadata": {},
   "outputs": [],
   "source": [
    "learning_rate = 0.001"
   ]
  },
  {
   "cell_type": "code",
   "execution_count": 38,
   "metadata": {},
   "outputs": [
    {
     "data": {
      "text/plain": [
       "array([2.53008909, 1.18100513])"
      ]
     },
     "execution_count": 38,
     "metadata": {},
     "output_type": "execute_result"
    }
   ],
   "source": [
    "X[:,0]"
   ]
  },
  {
   "cell_type": "code",
   "execution_count": 91,
   "metadata": {},
   "outputs": [],
   "source": [
    "#Y = np.sign(np.matmul(W,X))"
   ]
  },
  {
   "cell_type": "code",
   "execution_count": null,
   "metadata": {},
   "outputs": [],
   "source": [
    "def indicator(W, x):\n",
    "    if np.dot(W,x) >= 0:\n",
    "        return 1\n",
    "    else:\n",
    "        return 0\n",
    "    "
   ]
  },
  {
   "cell_type": "code",
   "execution_count": null,
   "metadata": {},
   "outputs": [],
   "source": [
    "epoch = 3\n",
    "for e in range(epoch):\n",
    "    for i in range(X.shape[1]):\n",
    "        x = X[:,i]\n",
    "        y = indicator(np.matmul())"
   ]
  },
  {
   "cell_type": "code",
   "execution_count": 84,
   "metadata": {},
   "outputs": [],
   "source": [
    "def perceptron_learning(lr,X,W,T):\n",
    "    Y = np.sign(np.matmul(W,X))\n",
    "    zero_vec = np.zeros(y.shape)\n",
    "    print('Y',Y)\n",
    "    print('T',T)\n",
    "    miss_classified = Y - T\n",
    "    print(miss_classified)\n",
    "    if miss_classified == zero_vec:\n",
    "        print(\"Converged\")\n",
    "    else:\n",
    "        delta_W = np.zeros(X.shape[1])\n",
    "        for i in range(X.shape[1]):\n",
    "            x = X[:,i]\n",
    "            t = T[:,i]\n",
    "            if miss_classified[i] > 0:\n",
    "                delta_W[i] = lr*x\n",
    "            elif miss_classified[i] < 0:\n",
    "                delta_W[i] = -lr*x\n",
    "    return W - delta_W\n",
    "        "
   ]
  },
  {
   "cell_type": "code",
   "execution_count": 85,
   "metadata": {},
   "outputs": [
    {
     "name": "stdout",
     "output_type": "stream",
     "text": [
      "Y [[ 0. -0. -0.  0. -0.  0.  0. -0. -0. -0. -0. -0. -0. -0. -0. -0.  0. -0.\n",
      "  -0. -0. -0. -0.  0. -0. -0. -0. -0. -0. -0. -0. -0. -0. -0. -0. -0. -0.\n",
      "  -0. -0. -0. -0. -0. -0. -0. -0. -0. -0. -0. -0. -0. -0. -0. -0. -0. -0.\n",
      "  -0. -0.  0. -0. -0. -0. -0. -0. -0. -0. -0. -0. -0. -0.  0.  0.  0. -0.\n",
      "   0. -0. -0. -0. -0.  0. -0. -0. -0. -0. -0.  0. -0.  0. -0. -0.  0. -0.\n",
      "  -0. -0. -0.  0.  0.  0. -0. -0. -0. -0. -0. -0. -0. -0. -0. -0. -0. -0.\n",
      "   0. -0.  0. -0.  0. -0. -0. -0. -0. -0.  0. -0. -0.  0. -0. -0. -0. -0.\n",
      "  -0. -0.  0. -0. -0. -0. -0. -0. -0. -0. -0. -0. -0. -0. -0. -0. -0. -0.\n",
      "  -0.  0.  0. -0. -0. -0.  0. -0. -0. -0. -0. -0. -0. -0. -0. -0. -0. -0.\n",
      "  -0. -0. -0. -0.  0. -0.  0.  0. -0. -0. -0.  0. -0. -0. -0.  0. -0. -0.\n",
      "  -0. -0. -0.  0. -0. -0. -0. -0. -0. -0. -0. -0. -0. -0. -0. -0. -0.  0.\n",
      "  -0. -0.]]\n",
      "T [[-1.]\n",
      " [-1.]\n",
      " [ 1.]\n",
      " [-1.]\n",
      " [ 1.]\n",
      " [-1.]\n",
      " [-1.]\n",
      " [ 1.]\n",
      " [-1.]\n",
      " [-1.]\n",
      " [ 1.]\n",
      " [ 1.]\n",
      " [ 1.]\n",
      " [ 1.]\n",
      " [-1.]\n",
      " [-1.]\n",
      " [-1.]\n",
      " [ 1.]\n",
      " [-1.]\n",
      " [-1.]\n",
      " [ 1.]\n",
      " [-1.]\n",
      " [-1.]\n",
      " [ 1.]\n",
      " [-1.]\n",
      " [ 1.]\n",
      " [ 1.]\n",
      " [-1.]\n",
      " [ 1.]\n",
      " [ 1.]\n",
      " [ 1.]\n",
      " [ 1.]\n",
      " [ 1.]\n",
      " [ 1.]\n",
      " [ 1.]\n",
      " [ 1.]\n",
      " [ 1.]\n",
      " [-1.]\n",
      " [ 1.]\n",
      " [-1.]\n",
      " [-1.]\n",
      " [ 1.]\n",
      " [ 1.]\n",
      " [-1.]\n",
      " [ 1.]\n",
      " [-1.]\n",
      " [-1.]\n",
      " [-1.]\n",
      " [-1.]\n",
      " [ 1.]\n",
      " [ 1.]\n",
      " [ 1.]\n",
      " [ 1.]\n",
      " [ 1.]\n",
      " [-1.]\n",
      " [ 1.]\n",
      " [-1.]\n",
      " [-1.]\n",
      " [ 1.]\n",
      " [ 1.]\n",
      " [-1.]\n",
      " [ 1.]\n",
      " [ 1.]\n",
      " [ 1.]\n",
      " [ 1.]\n",
      " [-1.]\n",
      " [ 1.]\n",
      " [ 1.]\n",
      " [-1.]\n",
      " [-1.]\n",
      " [-1.]\n",
      " [-1.]\n",
      " [-1.]\n",
      " [-1.]\n",
      " [-1.]\n",
      " [-1.]\n",
      " [ 1.]\n",
      " [-1.]\n",
      " [-1.]\n",
      " [ 1.]\n",
      " [ 1.]\n",
      " [-1.]\n",
      " [ 1.]\n",
      " [-1.]\n",
      " [ 1.]\n",
      " [-1.]\n",
      " [-1.]\n",
      " [-1.]\n",
      " [-1.]\n",
      " [ 1.]\n",
      " [ 1.]\n",
      " [-1.]\n",
      " [-1.]\n",
      " [-1.]\n",
      " [-1.]\n",
      " [-1.]\n",
      " [-1.]\n",
      " [-1.]\n",
      " [-1.]\n",
      " [ 1.]\n",
      " [-1.]\n",
      " [ 1.]\n",
      " [-1.]\n",
      " [-1.]\n",
      " [ 1.]\n",
      " [-1.]\n",
      " [ 1.]\n",
      " [ 1.]\n",
      " [-1.]\n",
      " [ 1.]\n",
      " [-1.]\n",
      " [-1.]\n",
      " [-1.]\n",
      " [ 1.]\n",
      " [ 1.]\n",
      " [ 1.]\n",
      " [-1.]\n",
      " [-1.]\n",
      " [-1.]\n",
      " [ 1.]\n",
      " [-1.]\n",
      " [-1.]\n",
      " [ 1.]\n",
      " [ 1.]\n",
      " [ 1.]\n",
      " [-1.]\n",
      " [ 1.]\n",
      " [ 1.]\n",
      " [-1.]\n",
      " [ 1.]\n",
      " [-1.]\n",
      " [ 1.]\n",
      " [ 1.]\n",
      " [-1.]\n",
      " [-1.]\n",
      " [ 1.]\n",
      " [ 1.]\n",
      " [-1.]\n",
      " [-1.]\n",
      " [-1.]\n",
      " [ 1.]\n",
      " [ 1.]\n",
      " [-1.]\n",
      " [ 1.]\n",
      " [ 1.]\n",
      " [-1.]\n",
      " [-1.]\n",
      " [ 1.]\n",
      " [ 1.]\n",
      " [-1.]\n",
      " [-1.]\n",
      " [ 1.]\n",
      " [ 1.]\n",
      " [ 1.]\n",
      " [ 1.]\n",
      " [ 1.]\n",
      " [ 1.]\n",
      " [ 1.]\n",
      " [-1.]\n",
      " [ 1.]\n",
      " [ 1.]\n",
      " [ 1.]\n",
      " [ 1.]\n",
      " [ 1.]\n",
      " [ 1.]\n",
      " [-1.]\n",
      " [-1.]\n",
      " [ 1.]\n",
      " [-1.]\n",
      " [-1.]\n",
      " [-1.]\n",
      " [ 1.]\n",
      " [-1.]\n",
      " [-1.]\n",
      " [-1.]\n",
      " [ 1.]\n",
      " [ 1.]\n",
      " [-1.]\n",
      " [-1.]\n",
      " [ 1.]\n",
      " [ 1.]\n",
      " [ 1.]\n",
      " [ 1.]\n",
      " [-1.]\n",
      " [ 1.]\n",
      " [-1.]\n",
      " [-1.]\n",
      " [-1.]\n",
      " [ 1.]\n",
      " [ 1.]\n",
      " [ 1.]\n",
      " [-1.]\n",
      " [ 1.]\n",
      " [-1.]\n",
      " [-1.]\n",
      " [ 1.]\n",
      " [-1.]\n",
      " [-1.]\n",
      " [ 1.]\n",
      " [-1.]]\n",
      "[[ 1.  1.  1. ...  1.  1.  1.]\n",
      " [ 1.  1.  1. ...  1.  1.  1.]\n",
      " [-1. -1. -1. ... -1. -1. -1.]\n",
      " ...\n",
      " [ 1.  1.  1. ...  1.  1.  1.]\n",
      " [-1. -1. -1. ... -1. -1. -1.]\n",
      " [ 1.  1.  1. ...  1.  1.  1.]]\n"
     ]
    },
    {
     "ename": "ValueError",
     "evalue": "The truth value of an array with more than one element is ambiguous. Use a.any() or a.all()",
     "output_type": "error",
     "traceback": [
      "\u001b[0;31m---------------------------------------------------------------------------\u001b[0m",
      "\u001b[0;31mValueError\u001b[0m                                Traceback (most recent call last)",
      "\u001b[0;32m<ipython-input-85-a5de9dfbcbb4>\u001b[0m in \u001b[0;36m<module>\u001b[0;34m\u001b[0m\n\u001b[1;32m      3\u001b[0m \u001b[0mW_old\u001b[0m \u001b[0;34m=\u001b[0m \u001b[0mW\u001b[0m\u001b[0;34m\u001b[0m\u001b[0;34m\u001b[0m\u001b[0m\n\u001b[1;32m      4\u001b[0m \u001b[0;32mfor\u001b[0m \u001b[0me\u001b[0m \u001b[0;32min\u001b[0m \u001b[0mrange\u001b[0m\u001b[0;34m(\u001b[0m\u001b[0mepoch\u001b[0m\u001b[0;34m)\u001b[0m\u001b[0;34m:\u001b[0m\u001b[0;34m\u001b[0m\u001b[0;34m\u001b[0m\u001b[0m\n\u001b[0;32m----> 5\u001b[0;31m     \u001b[0mW_new\u001b[0m \u001b[0;34m=\u001b[0m \u001b[0mperceptron_learning\u001b[0m\u001b[0;34m(\u001b[0m\u001b[0mlr\u001b[0m\u001b[0;34m,\u001b[0m\u001b[0mX\u001b[0m\u001b[0;34m,\u001b[0m\u001b[0mW_old\u001b[0m\u001b[0;34m,\u001b[0m\u001b[0mT\u001b[0m\u001b[0;34m)\u001b[0m\u001b[0;34m\u001b[0m\u001b[0;34m\u001b[0m\u001b[0m\n\u001b[0m\u001b[1;32m      6\u001b[0m     \u001b[0;32mif\u001b[0m \u001b[0me\u001b[0m \u001b[0;34m%\u001b[0m \u001b[0;36m50\u001b[0m \u001b[0;34m==\u001b[0m \u001b[0;36m0\u001b[0m\u001b[0;34m:\u001b[0m\u001b[0;34m\u001b[0m\u001b[0;34m\u001b[0m\u001b[0m\n\u001b[1;32m      7\u001b[0m         \u001b[0mplt\u001b[0m\u001b[0;34m.\u001b[0m\u001b[0mplot\u001b[0m\u001b[0;34m(\u001b[0m\u001b[0mclassA\u001b[0m\u001b[0;34m[\u001b[0m\u001b[0;34m:\u001b[0m\u001b[0;34m,\u001b[0m\u001b[0;36m0\u001b[0m\u001b[0;34m]\u001b[0m\u001b[0;34m,\u001b[0m \u001b[0mclassA\u001b[0m\u001b[0;34m[\u001b[0m\u001b[0;34m:\u001b[0m\u001b[0;34m,\u001b[0m\u001b[0;36m1\u001b[0m\u001b[0;34m]\u001b[0m\u001b[0;34m,\u001b[0m \u001b[0;34m'bo'\u001b[0m\u001b[0;34m,\u001b[0m \u001b[0mcolor\u001b[0m \u001b[0;34m=\u001b[0m \u001b[0;34m'b'\u001b[0m\u001b[0;34m)\u001b[0m\u001b[0;34m\u001b[0m\u001b[0;34m\u001b[0m\u001b[0m\n",
      "\u001b[0;32m<ipython-input-84-70a3cd8e0309>\u001b[0m in \u001b[0;36mperceptron_learning\u001b[0;34m(lr, X, W, T)\u001b[0m\n\u001b[1;32m      6\u001b[0m     \u001b[0mmiss_classified\u001b[0m \u001b[0;34m=\u001b[0m \u001b[0mY\u001b[0m \u001b[0;34m-\u001b[0m \u001b[0mT\u001b[0m\u001b[0;34m\u001b[0m\u001b[0;34m\u001b[0m\u001b[0m\n\u001b[1;32m      7\u001b[0m     \u001b[0mprint\u001b[0m\u001b[0;34m(\u001b[0m\u001b[0mmiss_classified\u001b[0m\u001b[0;34m)\u001b[0m\u001b[0;34m\u001b[0m\u001b[0;34m\u001b[0m\u001b[0m\n\u001b[0;32m----> 8\u001b[0;31m     \u001b[0;32mif\u001b[0m \u001b[0mmiss_classified\u001b[0m \u001b[0;34m==\u001b[0m \u001b[0mzero_vec\u001b[0m\u001b[0;34m:\u001b[0m\u001b[0;34m\u001b[0m\u001b[0;34m\u001b[0m\u001b[0m\n\u001b[0m\u001b[1;32m      9\u001b[0m         \u001b[0mprint\u001b[0m\u001b[0;34m(\u001b[0m\u001b[0;34m\"Converged\"\u001b[0m\u001b[0;34m)\u001b[0m\u001b[0;34m\u001b[0m\u001b[0;34m\u001b[0m\u001b[0m\n\u001b[1;32m     10\u001b[0m     \u001b[0;32melse\u001b[0m\u001b[0;34m:\u001b[0m\u001b[0;34m\u001b[0m\u001b[0;34m\u001b[0m\u001b[0m\n",
      "\u001b[0;31mValueError\u001b[0m: The truth value of an array with more than one element is ambiguous. Use a.any() or a.all()"
     ]
    }
   ],
   "source": [
    "epoch = 500\n",
    "lr = 0.001\n",
    "W_old = W\n",
    "for e in range(epoch):\n",
    "    W_new = perceptron_learning(lr,X,W_old,T)\n",
    "    if e % 50 == 0:\n",
    "        plt.plot(classA[:,0], classA[:,1], 'bo', color = 'b')\n",
    "        plt.plot(classB[:,0], classB[:,1], 'bo', color = 'r')\n",
    "        plt.plot(np.dot(norm_vec(W), x_val.T))\n",
    "        plt.pause(0.5)\n",
    "    W_old = W_new\n",
    "plt.show()"
   ]
  },
  {
   "cell_type": "code",
   "execution_count": 83,
   "metadata": {},
   "outputs": [
    {
     "data": {
      "text/plain": [
       "array([[-1.],\n",
       "       [-1.],\n",
       "       [ 1.],\n",
       "       [-1.],\n",
       "       [ 1.],\n",
       "       [-1.],\n",
       "       [-1.],\n",
       "       [ 1.],\n",
       "       [-1.],\n",
       "       [-1.],\n",
       "       [ 1.],\n",
       "       [ 1.],\n",
       "       [ 1.],\n",
       "       [ 1.],\n",
       "       [-1.],\n",
       "       [-1.],\n",
       "       [-1.],\n",
       "       [ 1.],\n",
       "       [-1.],\n",
       "       [-1.],\n",
       "       [ 1.],\n",
       "       [-1.],\n",
       "       [-1.],\n",
       "       [ 1.],\n",
       "       [-1.],\n",
       "       [ 1.],\n",
       "       [ 1.],\n",
       "       [-1.],\n",
       "       [ 1.],\n",
       "       [ 1.],\n",
       "       [ 1.],\n",
       "       [ 1.],\n",
       "       [ 1.],\n",
       "       [ 1.],\n",
       "       [ 1.],\n",
       "       [ 1.],\n",
       "       [ 1.],\n",
       "       [-1.],\n",
       "       [ 1.],\n",
       "       [-1.],\n",
       "       [-1.],\n",
       "       [ 1.],\n",
       "       [ 1.],\n",
       "       [-1.],\n",
       "       [ 1.],\n",
       "       [-1.],\n",
       "       [-1.],\n",
       "       [-1.],\n",
       "       [-1.],\n",
       "       [ 1.],\n",
       "       [ 1.],\n",
       "       [ 1.],\n",
       "       [ 1.],\n",
       "       [ 1.],\n",
       "       [-1.],\n",
       "       [ 1.],\n",
       "       [-1.],\n",
       "       [-1.],\n",
       "       [ 1.],\n",
       "       [ 1.],\n",
       "       [-1.],\n",
       "       [ 1.],\n",
       "       [ 1.],\n",
       "       [ 1.],\n",
       "       [ 1.],\n",
       "       [-1.],\n",
       "       [ 1.],\n",
       "       [ 1.],\n",
       "       [-1.],\n",
       "       [-1.],\n",
       "       [-1.],\n",
       "       [-1.],\n",
       "       [-1.],\n",
       "       [-1.],\n",
       "       [-1.],\n",
       "       [-1.],\n",
       "       [ 1.],\n",
       "       [-1.],\n",
       "       [-1.],\n",
       "       [ 1.],\n",
       "       [ 1.],\n",
       "       [-1.],\n",
       "       [ 1.],\n",
       "       [-1.],\n",
       "       [ 1.],\n",
       "       [-1.],\n",
       "       [-1.],\n",
       "       [-1.],\n",
       "       [-1.],\n",
       "       [ 1.],\n",
       "       [ 1.],\n",
       "       [-1.],\n",
       "       [-1.],\n",
       "       [-1.],\n",
       "       [-1.],\n",
       "       [-1.],\n",
       "       [-1.],\n",
       "       [-1.],\n",
       "       [-1.],\n",
       "       [ 1.],\n",
       "       [-1.],\n",
       "       [ 1.],\n",
       "       [-1.],\n",
       "       [-1.],\n",
       "       [ 1.],\n",
       "       [-1.],\n",
       "       [ 1.],\n",
       "       [ 1.],\n",
       "       [-1.],\n",
       "       [ 1.],\n",
       "       [-1.],\n",
       "       [-1.],\n",
       "       [-1.],\n",
       "       [ 1.],\n",
       "       [ 1.],\n",
       "       [ 1.],\n",
       "       [-1.],\n",
       "       [-1.],\n",
       "       [-1.],\n",
       "       [ 1.],\n",
       "       [-1.],\n",
       "       [-1.],\n",
       "       [ 1.],\n",
       "       [ 1.],\n",
       "       [ 1.],\n",
       "       [-1.],\n",
       "       [ 1.],\n",
       "       [ 1.],\n",
       "       [-1.],\n",
       "       [ 1.],\n",
       "       [-1.],\n",
       "       [ 1.],\n",
       "       [ 1.],\n",
       "       [-1.],\n",
       "       [-1.],\n",
       "       [ 1.],\n",
       "       [ 1.],\n",
       "       [-1.],\n",
       "       [-1.],\n",
       "       [-1.],\n",
       "       [ 1.],\n",
       "       [ 1.],\n",
       "       [-1.],\n",
       "       [ 1.],\n",
       "       [ 1.],\n",
       "       [-1.],\n",
       "       [-1.],\n",
       "       [ 1.],\n",
       "       [ 1.],\n",
       "       [-1.],\n",
       "       [-1.],\n",
       "       [ 1.],\n",
       "       [ 1.],\n",
       "       [ 1.],\n",
       "       [ 1.],\n",
       "       [ 1.],\n",
       "       [ 1.],\n",
       "       [ 1.],\n",
       "       [-1.],\n",
       "       [ 1.],\n",
       "       [ 1.],\n",
       "       [ 1.],\n",
       "       [ 1.],\n",
       "       [ 1.],\n",
       "       [ 1.],\n",
       "       [-1.],\n",
       "       [-1.],\n",
       "       [ 1.],\n",
       "       [-1.],\n",
       "       [-1.],\n",
       "       [-1.],\n",
       "       [ 1.],\n",
       "       [-1.],\n",
       "       [-1.],\n",
       "       [-1.],\n",
       "       [ 1.],\n",
       "       [ 1.],\n",
       "       [-1.],\n",
       "       [-1.],\n",
       "       [ 1.],\n",
       "       [ 1.],\n",
       "       [ 1.],\n",
       "       [ 1.],\n",
       "       [-1.],\n",
       "       [ 1.],\n",
       "       [-1.],\n",
       "       [-1.],\n",
       "       [-1.],\n",
       "       [ 1.],\n",
       "       [ 1.],\n",
       "       [ 1.],\n",
       "       [-1.],\n",
       "       [ 1.],\n",
       "       [-1.],\n",
       "       [-1.],\n",
       "       [ 1.],\n",
       "       [-1.],\n",
       "       [-1.],\n",
       "       [ 1.],\n",
       "       [-1.]])"
      ]
     },
     "execution_count": 83,
     "metadata": {},
     "output_type": "execute_result"
    }
   ],
   "source": [
    "T"
   ]
  },
  {
   "cell_type": "code",
   "execution_count": 68,
   "metadata": {},
   "outputs": [
    {
     "data": {
      "text/plain": [
       "10"
      ]
     },
     "execution_count": 68,
     "metadata": {},
     "output_type": "execute_result"
    }
   ],
   "source": [
    "10 % 50"
   ]
  },
  {
   "cell_type": "code",
   "execution_count": 51,
   "metadata": {},
   "outputs": [
    {
     "data": {
      "text/plain": [
       "array([[ 0.04510876, -0.01099503]])"
      ]
     },
     "execution_count": 51,
     "metadata": {},
     "output_type": "execute_result"
    }
   ],
   "source": [
    "W"
   ]
  },
  {
   "cell_type": "code",
   "execution_count": 52,
   "metadata": {},
   "outputs": [],
   "source": [
    "x_val = np.array([-2.5,-2]).reshape(2,1)\n",
    "def norm_vec(W):\n",
    "    N = np.zeros(W.shape)\n",
    "    N[:,0] = -1\n",
    "    N[:,1] = W[:,0]/W[:,1]\n",
    "    return N.T"
   ]
  },
  {
   "cell_type": "code",
   "execution_count": 53,
   "metadata": {},
   "outputs": [
    {
     "data": {
      "text/plain": [
       "array([[ 0.04510876, -0.01099503]])"
      ]
     },
     "execution_count": 53,
     "metadata": {},
     "output_type": "execute_result"
    }
   ],
   "source": [
    "W"
   ]
  },
  {
   "cell_type": "code",
   "execution_count": 54,
   "metadata": {},
   "outputs": [
    {
     "data": {
      "text/plain": [
       "array([[-1.        ],\n",
       "       [-4.10264862]])"
      ]
     },
     "execution_count": 54,
     "metadata": {},
     "output_type": "execute_result"
    }
   ],
   "source": [
    "norm_vec(W)"
   ]
  },
  {
   "cell_type": "code",
   "execution_count": 55,
   "metadata": {},
   "outputs": [
    {
     "data": {
      "text/plain": [
       "[<matplotlib.lines.Line2D at 0x1133820f0>,\n",
       " <matplotlib.lines.Line2D at 0x113382550>]"
      ]
     },
     "execution_count": 55,
     "metadata": {},
     "output_type": "execute_result"
    },
    {
     "data": {
      "image/png": "[encoded data removed]",
      "text/plain": [
       "<Figure size 432x288 with 1 Axes>"
      ]
     },
     "metadata": {
      "needs_background": "light"
     },
     "output_type": "display_data"
    }
   ],
   "source": [
    "plt.plot(classA[:,0], classA[:,1], 'bo', color = 'b')\n",
    "plt.plot(classB[:,0], classB[:,1], 'bo', color = 'r')\n",
    "plt.plot(np.dot(norm_vec(W), x_val.T))"
   ]
  },
  {
   "cell_type": "code",
   "execution_count": 56,
   "metadata": {},
   "outputs": [
    {
     "data": {
      "text/plain": [
       "(1, 200)"
      ]
     },
     "execution_count": 56,
     "metadata": {},
     "output_type": "execute_result"
    }
   ],
   "source": [
    "np.matmul(W,X).shape"
   ]
  },
  {
   "cell_type": "code",
   "execution_count": 341,
   "metadata": {},
   "outputs": [
    {
     "data": {
      "text/plain": [
       "array([[ 3.11929989e-03],\n",
       "       [-4.26042906e-04],\n",
       "       [ 6.17055953e-03],\n",
       "       [ 2.32771040e-03],\n",
       "       [ 2.44214822e-05],\n",
       "       [ 4.66438774e-03],\n",
       "       [ 6.59020711e-03],\n",
       "       [ 3.23506300e-03],\n",
       "       [-1.66017800e-03],\n",
       "       [-5.29664766e-04],\n",
       "       [-5.99807682e-04],\n",
       "       [-2.07687729e-03],\n",
       "       [ 3.23156175e-03],\n",
       "       [ 1.86393889e-03],\n",
       "       [-8.34128637e-04],\n",
       "       [ 2.47537435e-03],\n",
       "       [ 3.18779439e-03],\n",
       "       [ 2.03164468e-03],\n",
       "       [ 1.52530773e-03],\n",
       "       [ 1.55081827e-04],\n",
       "       [ 5.33510214e-03],\n",
       "       [-3.58658544e-04],\n",
       "       [ 3.82785863e-03],\n",
       "       [-1.03160293e-03],\n",
       "       [-1.52763270e-03],\n",
       "       [-3.99979914e-03],\n",
       "       [ 9.16298505e-03],\n",
       "       [ 2.66053247e-03],\n",
       "       [ 4.88434209e-04],\n",
       "       [-1.12887575e-03],\n",
       "       [ 1.35795747e-03],\n",
       "       [-8.14779361e-03],\n",
       "       [-4.66299115e-03],\n",
       "       [-1.20794209e-03],\n",
       "       [ 5.78999828e-03],\n",
       "       [ 1.01044179e-03],\n",
       "       [ 5.76107226e-03],\n",
       "       [-4.76475762e-03],\n",
       "       [-2.40281784e-04],\n",
       "       [ 4.84685267e-03],\n",
       "       [ 5.64491883e-03],\n",
       "       [-8.86072372e-04],\n",
       "       [ 6.24316943e-03],\n",
       "       [-3.82368112e-03],\n",
       "       [ 1.05664461e-03],\n",
       "       [-6.49934949e-03],\n",
       "       [ 1.14309185e-03],\n",
       "       [-1.53973839e-03],\n",
       "       [-2.89836928e-03],\n",
       "       [ 3.95663219e-03],\n",
       "       [ 8.87012650e-03],\n",
       "       [-3.75453703e-03],\n",
       "       [ 3.67911878e-04],\n",
       "       [ 9.71094896e-04],\n",
       "       [-3.51202140e-03],\n",
       "       [ 6.21532734e-03],\n",
       "       [-7.08398564e-04],\n",
       "       [-7.10482312e-03],\n",
       "       [ 1.02721014e-03],\n",
       "       [-3.04423846e-03],\n",
       "       [ 2.77247457e-03],\n",
       "       [ 9.76752755e-04],\n",
       "       [ 2.10407335e-03],\n",
       "       [-1.90204559e-03],\n",
       "       [ 9.21446919e-04],\n",
       "       [-1.00314370e-03],\n",
       "       [-4.11776954e-03],\n",
       "       [ 2.81081284e-04],\n",
       "       [ 2.61188559e-03],\n",
       "       [-5.03770315e-03],\n",
       "       [ 2.25139706e-03],\n",
       "       [-1.88784383e-03],\n",
       "       [-1.70899302e-03],\n",
       "       [-1.20865268e-03],\n",
       "       [-2.43288079e-03],\n",
       "       [-4.92333158e-03],\n",
       "       [ 1.27111810e-03],\n",
       "       [ 3.25130246e-03],\n",
       "       [ 1.35495043e-03],\n",
       "       [ 1.00783673e-03],\n",
       "       [ 1.23731627e-03],\n",
       "       [ 1.20693544e-03],\n",
       "       [ 2.52698269e-03],\n",
       "       [ 5.46801590e-03],\n",
       "       [-4.35905273e-03],\n",
       "       [ 4.48747720e-04],\n",
       "       [ 7.77367371e-04],\n",
       "       [ 3.07848720e-03],\n",
       "       [-3.09329596e-03],\n",
       "       [-5.98563970e-03],\n",
       "       [ 1.69621510e-03],\n",
       "       [ 7.58627983e-03],\n",
       "       [ 3.19248417e-03],\n",
       "       [-6.95463201e-03],\n",
       "       [ 5.46685685e-03],\n",
       "       [ 2.33704888e-03],\n",
       "       [ 5.75038234e-04],\n",
       "       [-2.02415456e-03],\n",
       "       [ 3.81441582e-03],\n",
       "       [-1.11884465e-03],\n",
       "       [ 4.17913930e-03],\n",
       "       [ 3.85259762e-04],\n",
       "       [-5.21622565e-03],\n",
       "       [ 1.00638018e-02],\n",
       "       [ 5.49511794e-03],\n",
       "       [-6.01988922e-03],\n",
       "       [ 4.49432209e-03],\n",
       "       [ 2.45576537e-03],\n",
       "       [ 1.36848352e-03],\n",
       "       [ 3.72124216e-03],\n",
       "       [ 2.05524994e-03],\n",
       "       [-2.73483190e-04],\n",
       "       [ 2.27087374e-03],\n",
       "       [ 3.96447129e-03],\n",
       "       [-7.43102492e-04],\n",
       "       [ 1.77010212e-03],\n",
       "       [-8.95883331e-05],\n",
       "       [-3.94715007e-04],\n",
       "       [-4.02054620e-03],\n",
       "       [ 3.06869731e-03],\n",
       "       [ 9.62463347e-04],\n",
       "       [ 6.05203230e-04],\n",
       "       [-9.32350190e-04],\n",
       "       [-2.32998450e-03],\n",
       "       [ 4.92035906e-03],\n",
       "       [ 1.61131560e-03],\n",
       "       [ 1.90778782e-03],\n",
       "       [-2.18573334e-04],\n",
       "       [-2.29949729e-03],\n",
       "       [-2.73689928e-03],\n",
       "       [-2.83392687e-03],\n",
       "       [ 2.83287577e-03],\n",
       "       [ 1.85276693e-03],\n",
       "       [-4.91210932e-03],\n",
       "       [-8.73249766e-04],\n",
       "       [ 5.26967961e-04],\n",
       "       [-1.04047016e-02],\n",
       "       [ 1.44521091e-03],\n",
       "       [ 6.83617346e-04],\n",
       "       [ 5.42209263e-04],\n",
       "       [ 3.32816599e-04],\n",
       "       [-5.92607685e-03],\n",
       "       [ 8.48125285e-04],\n",
       "       [ 1.12266813e-03],\n",
       "       [ 6.15847173e-03],\n",
       "       [-6.21697627e-03],\n",
       "       [-2.05458424e-03],\n",
       "       [ 2.39931810e-03],\n",
       "       [ 2.58776478e-03],\n",
       "       [-6.21667267e-03],\n",
       "       [ 7.36589064e-03],\n",
       "       [ 4.15003226e-03],\n",
       "       [ 2.90141504e-03],\n",
       "       [-1.27857260e-03],\n",
       "       [ 5.55355977e-04],\n",
       "       [ 4.05177189e-03],\n",
       "       [-8.22711708e-03],\n",
       "       [-3.81678663e-03],\n",
       "       [ 2.06698648e-03],\n",
       "       [-1.56224768e-03],\n",
       "       [ 1.65362379e-03],\n",
       "       [-1.32020039e-03],\n",
       "       [-1.33895420e-03],\n",
       "       [-3.82359266e-04],\n",
       "       [ 1.30329219e-03],\n",
       "       [-5.78377976e-03],\n",
       "       [ 3.61830947e-04],\n",
       "       [ 1.33995389e-03],\n",
       "       [ 6.45926873e-04],\n",
       "       [-3.81860153e-03],\n",
       "       [-7.31335331e-03],\n",
       "       [ 9.33066164e-04],\n",
       "       [ 5.73608904e-04],\n",
       "       [ 3.12187408e-03],\n",
       "       [-5.83114567e-03],\n",
       "       [-8.62999391e-04],\n",
       "       [ 1.06816137e-03],\n",
       "       [ 2.22457652e-03],\n",
       "       [ 2.89698436e-04],\n",
       "       [-6.27177862e-03],\n",
       "       [ 2.80359746e-03],\n",
       "       [ 6.26865346e-03],\n",
       "       [-2.08774394e-05],\n",
       "       [ 6.13372324e-03],\n",
       "       [-2.41046977e-04],\n",
       "       [ 2.84641793e-03],\n",
       "       [ 1.61459842e-03],\n",
       "       [ 4.15998878e-04],\n",
       "       [-4.67127509e-04],\n",
       "       [ 4.66362758e-03],\n",
       "       [ 2.74448967e-03],\n",
       "       [-4.83605395e-03],\n",
       "       [-1.61199105e-03],\n",
       "       [ 1.79383019e-03],\n",
       "       [-2.04725837e-03],\n",
       "       [ 6.75405239e-03],\n",
       "       [ 2.70244692e-03],\n",
       "       [ 3.24996908e-03],\n",
       "       [-2.89451365e-03],\n",
       "       [ 2.69281687e-03]])"
      ]
     },
     "execution_count": 341,
     "metadata": {},
     "output_type": "execute_result"
    }
   ],
   "source": [
    "np.matmul(W,X).T"
   ]
  },
  {
   "cell_type": "code",
   "execution_count": null,
   "metadata": {},
   "outputs": [],
   "source": []
  }
 ],
 "metadata": {
  "kernelspec": {
   "display_name": "Python 3",
   "language": "python",
   "name": "python3"
  },
  "language_info": {
   "codemirror_mode": {
    "name": "ipython",
    "version": 3
   },
   "file_extension": ".py",
   "mimetype": "text/x-python",
   "name": "python",
   "nbconvert_exporter": "python",
   "pygments_lexer": "ipython3",
   "version": "3.7.3"
  }
 },
 "nbformat": 4,
 "nbformat_minor": 2
}
