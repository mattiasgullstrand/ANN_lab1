{
 "cells": [
  {
   "cell_type": "code",
   "execution_count": 403,
   "metadata": {},
   "outputs": [
    {
     "data": {
      "image/png": "[encoded data removed]",
      "text/plain": [
       "<Figure size 432x288 with 1 Axes>"
      ]
     },
     "metadata": {
      "needs_background": "light"
     },
     "output_type": "display_data"
    }
   ],
   "source": [
    "import numpy as np\n",
    "import matplotlib.pyplot as plt\n",
    "\n",
    "n = 100\n",
    "mA = np.array([1, 1])\n",
    "mB = np.array([-1, -1])\n",
    "sigmaA = 0.5\n",
    "sigmaB = 0.5\n",
    "classA = np.zeros([n,2])\n",
    "classB = np.zeros([n,2])\n",
    "classA[:,0] = np.random.normal(mA[0], sigmaA, n)\n",
    "classA[:,1] = np.random.normal(mA[1], sigmaA, n)\n",
    "classB[:,0] = np.random.normal(mB[0], sigmaB, n)\n",
    "classB[:,1] = np.random.normal(mB[1], sigmaB, n)\n",
    "\n",
    "plt.plot(classA[:,0], classA[:,1], 'bo', color = 'b')\n",
    "plt.plot(classB[:,0], classB[:,1], 'bo', color = 'r')\n",
    "\n",
    "data = np.concatenate((classA, classB), axis=0)\n",
    "labels_delta = np.array([1]*n + [-1]*n)\n",
    "\n",
    "data_labels = np.concatenate((data, labels_delta.reshape(n*2,1)), axis=1)\n",
    "np.random.shuffle(data_labels)\n",
    "\n",
    "X = data_labels[:,:2].T\n",
    "X_bias = np.ones([X.shape[0] + 1, X.shape[1]])\n",
    "X_bias[:-1,:] = np.copy(X)\n",
    "\n",
    "T_delta = data_labels[:,2].reshape(n*2, 1).T\n",
    "T_percept = np.copy(T_delta)\n",
    "for i, t in enumerate(T_percept[0,:]):\n",
    "    if t == -1:\n",
    "        T_percept[0,i] = 0\n",
    "\n",
    "W = np.random.rand(T_percept.shape[0],X.shape[0])\n",
    "W_bias = np.random.rand(T_percept.shape[0],X.shape[0] + 1)\n",
    "\n",
    "def indicator(W, x):\n",
    "    if np.matmul(W,x) >= 0:\n",
    "        return 1\n",
    "    else:\n",
    "        return 0\n",
    "\n",
    "def w_line_vec(W, x_start, x_end, bias = False):\n",
    "    w_line = np.zeros(2)\n",
    "    k = W[:,1][0]/W[:,0][0]\n",
    "    if bias == True:\n",
    "        m = W[:,2]\n",
    "    else:\n",
    "        m = 0\n",
    "    w_line[0] = k*x_start + m\n",
    "    w_line[1] = k*x_end + m\n",
    "    \n",
    "    return w_line\n",
    "\n",
    "def norm_vec(w_line):\n",
    "    normal = np.zeros(w_line.shape)\n",
    "    normal[0] = 0\n",
    "    normal[1] = -1/w_line[1]\n",
    "    return normal\n",
    "    "
   ]
  },
  {
   "cell_type": "code",
   "execution_count": 404,
   "metadata": {},
   "outputs": [],
   "source": [
    "def perceptron_learning(lr, epoch, W, X, T, classA, classB, bias = False):    \n",
    "    for e in range(epoch):\n",
    "        delta_W = np.zeros(W.shape)\n",
    "        for i in range(X.shape[1]):\n",
    "            x = X[:,i].reshape(X.shape[0], 1)\n",
    "            y = indicator(W,x)\n",
    "            t = T_percept[:,i]\n",
    "            if t == 0 and y == 1:\n",
    "                delta_W += -lr*x.T\n",
    "            if t == 1 and y == 0:\n",
    "                delta_W += lr*x.T\n",
    "        W = np.add(W, delta_W) # Batch learning\n",
    "\n",
    "    plt.plot(classA[:,0], classA[:,1], 'bo', color = 'b')\n",
    "    plt.plot(classB[:,0], classB[:,1], 'bo', color = 'r')\n",
    "    if bias == True:\n",
    "        #plt.plot(norm_vec(W_bias)[:2] + W[0,2])\n",
    "        plt.plot(w_line(W_bias, 0, 1, bias = True))\n",
    "        plt.plot(norm_vec(w_line(W_bias, 0, 1, bias = True)))\n",
    "    else:\n",
    "        #plt.plot(norm_vec(W))\n",
    "        plt.plot(w_line_vec(W, 0, 1))\n",
    "        plt.plot(norm_vec(w_line_vec(W, 0, 1)))\n",
    "    \n",
    "    return W"
   ]
  },
  {
   "cell_type": "markdown",
   "metadata": {},
   "source": [
    "### Without bias"
   ]
  },
  {
   "cell_type": "code",
   "execution_count": 405,
   "metadata": {},
   "outputs": [],
   "source": [
    "W_old = W"
   ]
  },
  {
   "cell_type": "code",
   "execution_count": 406,
   "metadata": {},
   "outputs": [
    {
     "data": {
      "text/plain": [
       "-1.0"
      ]
     },
     "execution_count": 406,
     "metadata": {},
     "output_type": "execute_result"
    }
   ],
   "source": [
    "norm_vec(w_line_vec(W, 0, 1))[1]*w_line_vec(W, 0, 1)[1]"
   ]
  },
  {
   "cell_type": "code",
   "execution_count": 501,
   "metadata": {},
   "outputs": [
    {
     "ename": "ValueError",
     "evalue": "matmul: Input operand 0 does not have enough dimensions (has 0, gufunc core with signature (n?,k),(k,m?)->(n?,m?) requires 1)",
     "output_type": "error",
     "traceback": [
      "\u001b[0;31m---------------------------------------------------------------------------\u001b[0m",
      "\u001b[0;31mValueError\u001b[0m                                Traceback (most recent call last)",
      "\u001b[0;32m<ipython-input-501-643b3e727a52>\u001b[0m in \u001b[0;36m<module>\u001b[0;34m\u001b[0m\n\u001b[1;32m      1\u001b[0m np.matmul(np.array(1, w_line_vec(W, 0, 1)[1]).T,\n\u001b[0;32m----> 2\u001b[0;31m        np.array(1, norm_vec(w_line_vec(W, 0, 1))[1]))\n\u001b[0m",
      "\u001b[0;31mValueError\u001b[0m: matmul: Input operand 0 does not have enough dimensions (has 0, gufunc core with signature (n?,k),(k,m?)->(n?,m?) requires 1)"
     ]
    }
   ],
   "source": [
    "np.matmul(np.array(1, w_line_vec(W, 0, 1)[1]).T,\n",
    "       np.array(1, norm_vec(w_line_vec(W, 0, 1))[1]))"
   ]
  },
  {
   "cell_type": "code",
   "execution_count": 500,
   "metadata": {},
   "outputs": [
    {
     "data": {
      "image/png": "[encoded data removed]",
      "text/plain": [
       "<Figure size 432x288 with 1 Axes>"
      ]
     },
     "metadata": {
      "needs_background": "light"
     },
     "output_type": "display_data"
    }
   ],
   "source": [
    "W_new = perceptron_learning(0.001, 5, W_old, X, T_percept, classA, classB)\n",
    "W_old = W_new"
   ]
  },
  {
   "cell_type": "markdown",
   "metadata": {},
   "source": [
    "### With bias"
   ]
  },
  {
   "cell_type": "code",
   "execution_count": 223,
   "metadata": {},
   "outputs": [],
   "source": [
    "W_old = W_bias"
   ]
  },
  {
   "cell_type": "code",
   "execution_count": 224,
   "metadata": {},
   "outputs": [
    {
     "data": {
      "text/plain": [
       "(1, 3)"
      ]
     },
     "execution_count": 224,
     "metadata": {},
     "output_type": "execute_result"
    }
   ],
   "source": [
    "W_bias.shape"
   ]
  },
  {
   "cell_type": "code",
   "execution_count": 339,
   "metadata": {},
   "outputs": [
    {
     "data": {
      "image/png": "[encoded data removed]",
      "text/plain": [
       "<Figure size 432x288 with 1 Axes>"
      ]
     },
     "metadata": {
      "needs_background": "light"
     },
     "output_type": "display_data"
    }
   ],
   "source": [
    "W_new = perceptron_learning(0.001, 5, W_old, X_bias, T_percept, classA, classB, True)\n",
    "W_old = W_new"
   ]
  },
  {
   "cell_type": "code",
   "execution_count": null,
   "metadata": {},
   "outputs": [],
   "source": []
  }
 ],
 "metadata": {
  "kernelspec": {
   "display_name": "Python 3",
   "language": "python",
   "name": "python3"
  },
  "language_info": {
   "codemirror_mode": {
    "name": "ipython",
    "version": 3
   },
   "file_extension": ".py",
   "mimetype": "text/x-python",
   "name": "python",
   "nbconvert_exporter": "python",
   "pygments_lexer": "ipython3",
   "version": "3.7.3"
  }
 },
 "nbformat": 4,
 "nbformat_minor": 2
}
